{
 "cells": [
  {
   "cell_type": "markdown",
   "metadata": {},
   "source": [
    "Hand-In of Group 13, Jonathan Ehrengruber (jonathan.ehrengruber@students.fhnw.ch), Christian Renold (christian.renold@hslu.ch)"
   ]
  },
  {
   "cell_type": "markdown",
   "metadata": {},
   "source": [
    "# Multilayer Perceptron from MNIST raw data using Keras\n",
    "\n",
    "This notebook will guide you through the use of the `keras` package to train a multilayer perceptron for handwritten digits classification. You are going to use the `mnist` dataset from LeCun et al. 1998\n",
    "\n",
    "We assume you are using TF 2."
   ]
  },
  {
   "cell_type": "markdown",
   "metadata": {},
   "source": [
    "## Loading the packages"
   ]
  },
  {
   "cell_type": "code",
   "execution_count": 1,
   "metadata": {
    "pycharm": {
     "is_executing": false
    }
   },
   "outputs": [
    {
     "name": "stdout",
     "text": [
      "OK: TensorFlow >= 2.0.0.\u001b[0m\n"
     ],
     "output_type": "stream"
    }
   ],
   "source": [
    "# First, import TF and get its version.\n",
    "import tensorflow as tf\n",
    "tf_version = tf.__version__\n",
    "\n",
    "# Check if version >=2.0.0 is used\n",
    "if not tf_version.startswith('2.'):\n",
    "    print('WARNING: TensorFlow >= 2.0.0 will be used in this course.\\nYour version is {}'.format(tf_version) + '.\\033[0m')\n",
    "else:\n",
    "    print('OK: TensorFlow >= 2.0.0' + '.\\033[0m')"
   ]
  },
  {
   "cell_type": "code",
   "execution_count": 2,
   "metadata": {},
   "outputs": [],
   "source": [
    "##############################################\n",
    "#  COMPLETE CODE BELOW WHERE YOU SEE # ...   #\n",
    "##############################################\n",
    "\n",
    "import numpy as np\n",
    "from matplotlib import pyplot as plt\n",
    "from sklearn.metrics import confusion_matrix\n",
    "\n",
    "# ... import here the different keras libraries you need\n",
    "from tensorflow.keras.datasets import mnist\n",
    "from tensorflow.keras.models import Sequential\n",
    "from tensorflow.keras.layers import Dense\n",
    "from tensorflow.keras import utils \n",
    "\n",
    "%matplotlib inline"
   ]
  },
  {
   "cell_type": "markdown",
   "metadata": {},
   "source": [
    "## Loading the raw data\n",
    "Keras provides easy access to different datasets including MNIST. First load the `mnist` dataset and normalize it to be in the range [0, 1]"
   ]
  },
  {
   "cell_type": "code",
   "execution_count": 3,
   "metadata": {},
   "outputs": [
    {
     "data": {
      "text/plain": [
       "'\\nnp.random.seed(1234)\\nfor i in range(60000):\\n    np.random.shuffle(X_train[i])\\nfor i in range(10000):\\n    np.random.shuffle(X_test[i])\\nshow_imgs(X_train)\\n'"
      ]
     },
     "execution_count": 3,
     "metadata": {},
     "output_type": "execute_result"
    }
   ],
   "source": [
    "def show_imgs(X):\n",
    "    plt.figure(1)\n",
    "    k = 0\n",
    "    for i in range(0,5):\n",
    "        for j in range(0,5):\n",
    "            plt.subplot2grid((5,5),(i,j))\n",
    "            plt.imshow(X[k], cmap='gray')\n",
    "            k = k+1\n",
    "            plt.axis('off')\n",
    "    plt.show()\n",
    "    \n",
    "# Load data & split data between train and test sets\n",
    "(X_train, y_train), (X_test, y_test) = mnist.load_data()\n",
    "\n",
    "'''\n",
    "np.random.seed(1234)\n",
    "for i in range(60000):\n",
    "    np.random.shuffle(X_train[i])\n",
    "for i in range(10000):\n",
    "    np.random.shuffle(X_test[i])\n",
    "show_imgs(X_train)\n",
    "'''"
   ]
  },
  {
   "cell_type": "code",
   "execution_count": 4,
   "metadata": {},
   "outputs": [
    {
     "name": "stdout",
     "output_type": "stream",
     "text": [
      "60000 train samples\n",
      "10000 test samples\n"
     ]
    }
   ],
   "source": [
    "X_train =  X_train.reshape(60000, 784) #...                      change the shape towards (60000, 784)\n",
    "X_test =   X_test.reshape(10000, 784)  # ...                     idem (10000, 784)\n",
    "X_train =  X_train.astype('float32')   # ...                     change the type towards float32\n",
    "X_test =   X_test.astype('float32')    # ...                     idem\n",
    "X_train /= 255                         # ...                     normalize the range to be between 0.0 and 1.0\n",
    "X_test /=  255                         # ...\n",
    "print(X_train.shape[0], 'train samples')\n",
    "print(X_test.shape[0], 'test samples')"
   ]
  },
  {
   "cell_type": "markdown",
   "metadata": {},
   "source": [
    "The target values of the network are supposed to be 1-hot targets. Now the `y_train` is an array with scalar values as in `[5 0 4 1 ...]` and it should be a 1-hot array `Y_train` as in : \n",
    "\n",
    "`[[0. 0. 0. 0. 0. 1. 0. 0. 0. 0.]\n",
    " [1. 0. 0. 0. 0. 0. 0. 0. 0. 0.]\n",
    " [0. 0. 0. 0. 1. 0. 0. 0. 0. 0.]\n",
    " [0. 1. 0. 0. 0. 0. 0. 0. 0. 0.]...]`\n",
    " \n",
    "Note the change of capital letter in the `Y_train` to denote, per convention, an array with multiple dimensions."
   ]
  },
  {
   "cell_type": "code",
   "execution_count": 5,
   "metadata": {},
   "outputs": [
    {
     "name": "stdout",
     "output_type": "stream",
     "text": [
      "[[0. 0. 0. 0. 0. 1. 0. 0. 0. 0.]\n",
      " [1. 0. 0. 0. 0. 0. 0. 0. 0. 0.]\n",
      " [0. 0. 0. 0. 1. 0. 0. 0. 0. 0.]\n",
      " [0. 1. 0. 0. 0. 0. 0. 0. 0. 0.]\n",
      " [0. 0. 0. 0. 0. 0. 0. 0. 0. 1.]\n",
      " [0. 0. 1. 0. 0. 0. 0. 0. 0. 0.]\n",
      " [0. 1. 0. 0. 0. 0. 0. 0. 0. 0.]\n",
      " [0. 0. 0. 1. 0. 0. 0. 0. 0. 0.]\n",
      " [0. 1. 0. 0. 0. 0. 0. 0. 0. 0.]\n",
      " [0. 0. 0. 0. 1. 0. 0. 0. 0. 0.]]\n"
     ]
    }
   ],
   "source": [
    "n_classes = 10\n",
    "Y_train = utils.to_categorical(y_train, n_classes) # ...                  modify targets to 1-hot using utils.to_categorical()\n",
    "Y_test = utils.to_categorical(y_test, n_classes)   # ...                   idem \n",
    "print(Y_train[:10])"
   ]
  },
  {
   "cell_type": "markdown",
   "metadata": {},
   "source": [
    "# One-layer network and weight visualisation\n",
    "## Define the network"
   ]
  },
  {
   "cell_type": "code",
   "execution_count": 6,
   "metadata": {},
   "outputs": [
    {
     "name": "stdout",
     "output_type": "stream",
     "text": [
      "Model: \"sequential\"\n",
      "_________________________________________________________________\n",
      "Layer (type)                 Output Shape              Param #   \n",
      "=================================================================\n",
      "dense (Dense)                (None, 10)                7850      \n",
      "=================================================================\n",
      "Total params: 7,850\n",
      "Trainable params: 7,850\n",
      "Non-trainable params: 0\n",
      "_________________________________________________________________\n"
     ]
    }
   ],
   "source": [
    "E = 10                # number of epochs\n",
    "B = 128               # batch size\n",
    "D = X_train.shape[1]  # dimension of input sample - 784 for MNIST\n",
    "\n",
    "# ... define the model as a Sequential type\n",
    "# ... add a layer of type Dense with softmax activation\n",
    "\n",
    "model = Sequential()\n",
    "model.add(Dense(n_classes, input_shape=(D,), activation='softmax'))\n",
    "# ... print model infomration with summary() method\n",
    "\n",
    "model.summary()"
   ]
  },
  {
   "cell_type": "markdown",
   "metadata": {},
   "source": [
    "## Compile and train the network\n",
    "In Keras, we call the methods `compile()` and `fit()`. For the compile phase, we need to specify the **loss** function which should be set in the case of multi-class classification to `categorical_crossentropy`. We also need to specify the optimizer strategy. In this case the `rmsprop` or `adam` can be used."
   ]
  },
  {
   "cell_type": "code",
   "execution_count": 12,
   "metadata": {},
   "outputs": [
    {
     "name": "stdout",
     "output_type": "stream",
     "text": [
      "Train on 60000 samples, validate on 10000 samples\n",
      "Epoch 1/10\n",
      "60000/60000 [==============================] - 1s 19us/sample - loss: 0.2614 - accuracy: 0.9284 - val_loss: 0.2717 - val_accuracy: 0.9253\n",
      "Epoch 2/10\n",
      "60000/60000 [==============================] - 1s 13us/sample - loss: 0.2597 - accuracy: 0.9297 - val_loss: 0.2673 - val_accuracy: 0.9266\n",
      "Epoch 3/10\n",
      "60000/60000 [==============================] - 1s 13us/sample - loss: 0.2586 - accuracy: 0.9296 - val_loss: 0.2664 - val_accuracy: 0.9282\n",
      "Epoch 4/10\n",
      "60000/60000 [==============================] - 1s 13us/sample - loss: 0.2573 - accuracy: 0.9302 - val_loss: 0.2686 - val_accuracy: 0.9263\n",
      "Epoch 5/10\n",
      "60000/60000 [==============================] - 1s 13us/sample - loss: 0.2563 - accuracy: 0.9304 - val_loss: 0.2706 - val_accuracy: 0.9268\n",
      "Epoch 6/10\n",
      "60000/60000 [==============================] - 1s 13us/sample - loss: 0.2553 - accuracy: 0.9305 - val_loss: 0.2710 - val_accuracy: 0.9267\n",
      "Epoch 7/10\n",
      "60000/60000 [==============================] - 1s 13us/sample - loss: 0.2544 - accuracy: 0.9316 - val_loss: 0.2702 - val_accuracy: 0.9269\n",
      "Epoch 8/10\n",
      "60000/60000 [==============================] - 1s 13us/sample - loss: 0.2534 - accuracy: 0.9319 - val_loss: 0.2688 - val_accuracy: 0.9283\n",
      "Epoch 9/10\n",
      "60000/60000 [==============================] - 1s 13us/sample - loss: 0.2531 - accuracy: 0.9321 - val_loss: 0.2697 - val_accuracy: 0.9281\n",
      "Epoch 10/10\n",
      "60000/60000 [==============================] - 1s 13us/sample - loss: 0.2524 - accuracy: 0.9319 - val_loss: 0.2700 - val_accuracy: 0.9284\n"
     ]
    }
   ],
   "source": [
    "# ... compile the model with a crossentropy loss, rmsprop optimizer \n",
    "#      and defining metrics to be stored as history of the training\n",
    "\n",
    "model.compile(loss='categorical_crossentropy', optimizer='rmsprop', metrics=['accuracy'])\n",
    "\n",
    "# ... call the training with the fit() function giving the tensors as \n",
    "#     inputs, defining batch size, number of epochs and validation data\n",
    "\n",
    "log = model.fit(X_train, Y_train, batch_size=B, epochs=E, verbose=1, validation_data=(X_test, Y_test))"
   ]
  },
  {
   "cell_type": "markdown",
   "metadata": {},
   "source": [
    "## Evaluate the network\n",
    "\n",
    "We can do this at three levels: (1) plot of the loss during the training phase, (2) overall accuracy evaluation on test set and (3) per class evaluation with confusion matrix on test set.\n",
    "\n",
    "### Loss evolution during training\n",
    "This can be done first looking at the history of the training (output of the `fit()` function)."
   ]
  },
  {
   "cell_type": "code",
   "execution_count": 8,
   "metadata": {
    "scrolled": true
   },
   "outputs": [
    {
     "data": {
      "image/png": "[encoded data removed]",
      "text/plain": [
       "<Figure size 864x288 with 2 Axes>"
      ]
     },
     "metadata": {
      "needs_background": "light"
     },
     "output_type": "display_data"
    }
   ],
   "source": [
    "f = plt.figure(figsize=(12,4))\n",
    "ax1 = f.add_subplot(121)\n",
    "ax2 = f.add_subplot(122)\n",
    "ax1.plot(log.history['loss'], label='Training loss')\n",
    "ax1.plot(log.history['val_loss'], label='Testing loss')\n",
    "ax1.legend()\n",
    "ax1.grid()\n",
    "ax2.plot(log.history['accuracy'], label='Training acc')\n",
    "ax2.plot(log.history['val_accuracy'], label='Testing acc')\n",
    "ax2.legend()\n",
    "ax2.grid()"
   ]
  },
  {
   "cell_type": "markdown",
   "metadata": {},
   "source": [
    "### Model evaluation\n",
    "We can compute the overall performance on test set calling the `evaluate()` function on the model. The function returns the loss and the metrics used to compile the models."
   ]
  },
  {
   "cell_type": "code",
   "execution_count": 9,
   "metadata": {},
   "outputs": [
    {
     "name": "stdout",
     "output_type": "stream",
     "text": [
      "Test loss: 0.27042862649857996\n",
      "Test accuracy: 0.9256\n"
     ]
    }
   ],
   "source": [
    "loss_test, metric_test = model.evaluate(X_test, Y_test, verbose=0) # ... evaluate model performance on test set\n",
    "print('Test loss:', loss_test)\n",
    "print('Test accuracy:', metric_test)"
   ]
  },
  {
   "cell_type": "markdown",
   "metadata": {},
   "source": [
    "### Confusion matrix\n",
    "We can call the `predict_classes()` function to get the predicted classes. The output of this function is an array with the predicted class labels as in `[5 0 4 1 ...]`. The output array of ground truth `y_test` and the predicted classes can then be fed to the `confusion_matrix()` function of [sklearn metrics package](http://scikit-learn.org/stable/modules/generated/sklearn.metrics.confusion_matrix.html#sklearn.metrics.confusion_matrix)."
   ]
  },
  {
   "cell_type": "code",
   "execution_count": 10,
   "metadata": {},
   "outputs": [
    {
     "data": {
      "text/plain": [
       "array([[ 963,    0,    1,    2,    0,    5,    5,    2,    1,    1],\n",
       "       [   0, 1110,    3,    2,    0,    1,    4,    2,   13,    0],\n",
       "       [   6,    6,  918,   20,   10,    3,   12,   10,   43,    4],\n",
       "       [   2,    0,   16,  935,    1,   16,    2,   11,   19,    8],\n",
       "       [   2,    1,    5,    1,  914,    0,    7,    3,   10,   39],\n",
       "       [   9,    3,    2,   50,   11,  761,   11,    7,   31,    7],\n",
       "       [  14,    3,    6,    1,    7,   12,  910,    2,    3,    0],\n",
       "       [   1,    6,   23,    8,    7,    0,    0,  942,    2,   39],\n",
       "       [   7,    6,    5,   25,    9,   22,    9,    7,  874,   10],\n",
       "       [  10,    6,    1,   11,   25,    6,    0,   14,    7,  929]],\n",
       "      dtype=int64)"
      ]
     },
     "execution_count": 10,
     "metadata": {},
     "output_type": "execute_result"
    }
   ],
   "source": [
    "pred = model.predict_classes(X_test, verbose=0)\n",
    "confusion_matrix(y_test, pred)"
   ]
  },
  {
   "cell_type": "markdown",
   "metadata": {},
   "source": [
    "### Plot the weights\n",
    "The weights connected to a given neuron, when using a one-layer network, have the same shape as the input. They can therefore be plot. To do so we need to re-scale the weight values into 0-255 pixel values."
   ]
  },
  {
   "cell_type": "code",
   "execution_count": 11,
   "metadata": {},
   "outputs": [
    {
     "name": "stdout",
     "output_type": "stream",
     "text": [
      "(784, 10)\n",
      "(10,)\n"
     ]
    },
    {
     "data": {
      "image/png": "[encoded data removed]",
      "text/plain": [
       "<Figure size 864x864 with 10 Axes>"
      ]
     },
     "metadata": {
      "needs_background": "light"
     },
     "output_type": "display_data"
    }
   ],
   "source": [
    "weights = model.get_weights()\n",
    "for w in weights:\n",
    "    print(w.shape)\n",
    "w1 = weights[0]\n",
    "f = plt.figure(figsize=(12,12))\n",
    "for i in range(10):\n",
    "    ax = f.add_subplot(1, 10, 1+i)\n",
    "    im = w1[:, i] #...                      get the weights landing to neuron i\n",
    "    im = im.reshape(28,28) #...                      reshape the vector of weights into 28x28 image\n",
    "    # now put back the pixel values to 0-256 doing a min-max norm and multiplying by 256\n",
    "    min = im.min() #...                     get the min of im\n",
    "    max = im.max() #...                     get the max of im\n",
    "    im = (im - min) / (max - min) * 255 #...                      perform a min-max norm\n",
    "    im = np.round(im).astype('int') #...                      convert to 8 bits pixel values\n",
    "    ax.axis('off')\n",
    "    ax.imshow(im)"
   ]
  },
  {
   "cell_type": "code",
   "execution_count": null,
   "metadata": {},
   "outputs": [],
   "source": []
  }
 ],
 "metadata": {
  "kernelspec": {
   "display_name": "Python 3",
   "language": "python",
   "name": "python3"
  },
  "language_info": {
   "codemirror_mode": {
    "name": "ipython",
    "version": 3
   },
   "file_extension": ".py",
   "mimetype": "text/x-python",
   "name": "python",
   "nbconvert_exporter": "python",
   "pygments_lexer": "ipython3",
   "version": "3.6.7"
  }
 },
 "nbformat": 4,
 "nbformat_minor": 1
}