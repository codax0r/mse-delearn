{
 "cells": [
  {
   "cell_type": "markdown",
   "metadata": {},
   "source": [
    "Hand-In of Group 13, Jonathan Ehrengruber (jonathan.ehrengruber@students.fhnw.ch), Christian Renold (christian.renold@hslu.ch)"
   ]
  },
  {
   "cell_type": "markdown",
   "metadata": {},
   "source": [
    "## MLP with TensorFlow 2.0\n",
    "The objective of the exercise is to implement computational graphs in TensorFlow 2.0 to train and use such an architecture. The constraints we put ourselves is to use **low-level** functions of TensorFlow, i.e. we will not use high-level functions to compose layers and to train the parameters.\n",
    "\n",
    "If you get this error in the execution of the first cell: ` ModuleNotFoundError: No module named 'tensorflow' `, it probably means TensorFlow 2.0 is not installed yet on your machine."
   ]
  },
  {
   "cell_type": "code",
   "execution_count": 1,
   "metadata": {},
   "outputs": [
    {
     "name": "stdout",
     "output_type": "stream",
     "text": [
      "MNIST data set ready. N=60000, D=784, n_classes=10\n"
     ]
    }
   ],
   "source": [
    "#############################\n",
    "# MNIST Dataset Preparation #\n",
    "#############################\n",
    "\n",
    "import numpy as np\n",
    "import tensorflow as tf\n",
    "import matplotlib.pyplot as plt\n",
    "\n",
    "mnist = tf.keras.datasets.mnist\n",
    "(x_train, y_train_vec),(x_test, y_test_vec) = mnist.load_data()\n",
    "x_train, x_test = x_train / 255.0, x_test / 255.0\n",
    "x_train = x_train.reshape(60000, 784)\n",
    "x_test = x_test.reshape(10000, 784)\n",
    "# convert class vectors to binary class matrices\n",
    "y_train = tf.keras.utils.to_categorical(y_train_vec, 10, dtype='float64')\n",
    "y_test = tf.keras.utils.to_categorical(y_test_vec, 10, dtype='float64')\n",
    "N = x_train.shape[0]         # number of samples\n",
    "D = x_train.shape[1]         # dimension of input sample\n",
    "n_classes = y_train.shape[1] # output dim\n",
    "print('MNIST data set ready. N={}, D={}, n_classes={}'.format(N,D,n_classes))"
   ]
  },
  {
   "cell_type": "code",
   "execution_count": 2,
   "metadata": {},
   "outputs": [],
   "source": [
    "# Function to sample a random batch from dataset\n",
    "def next_batch(num, data, labels):\n",
    "    '''\n",
    "    Return a total of `num` random samples and labels. \n",
    "    '''\n",
    "    idx = np.arange(0,len(data))  # create an array of index values\n",
    "    np.random.shuffle(idx)        # shuffle it\n",
    "    idx = idx[:num]               # take the first n indexes = size of batch\n",
    "    data_shuffle = data[idx]      # extract the batch using the random indexes\n",
    "    labels_shuffle = labels[idx]  # extract the labels using the random indexes\n",
    "\n",
    "    return data_shuffle, labels_shuffle"
   ]
  },
  {
   "cell_type": "code",
   "execution_count": 6,
   "metadata": {
    "scrolled": false
   },
   "outputs": [
    {
     "name": "stdout",
     "output_type": "stream",
     "text": [
      "epoch = 0, loss = 55.112330683769606\n",
      "epoch = 1, loss = 40.61208278913693\n",
      "epoch = 2, loss = 38.04094549309587\n",
      "epoch = 3, loss = 35.92304072619245\n",
      "epoch = 4, loss = 34.05342897353277\n",
      "epoch = 5, loss = 32.352533155878305\n",
      "epoch = 6, loss = 30.64224984196328\n",
      "epoch = 7, loss = 28.990143370564176\n",
      "epoch = 8, loss = 27.628595142106715\n",
      "epoch = 9, loss = 26.133747353854858\n",
      "epoch = 10, loss = 24.923412421788367\n",
      "epoch = 11, loss = 23.73132004355527\n",
      "epoch = 12, loss = 22.693661777390304\n",
      "epoch = 13, loss = 21.937445318715973\n",
      "epoch = 14, loss = 21.16186225260702\n",
      "epoch = 15, loss = 20.490709905816832\n",
      "epoch = 16, loss = 19.80714797196133\n",
      "epoch = 17, loss = 19.233849025319397\n",
      "epoch = 18, loss = 18.68681938724144\n",
      "epoch = 19, loss = 18.42053532329558\n",
      "epoch = 20, loss = 17.80337851882783\n",
      "epoch = 21, loss = 17.46195980894744\n",
      "epoch = 22, loss = 16.986625428485507\n",
      "epoch = 23, loss = 16.738104827143253\n",
      "epoch = 24, loss = 16.32409150587431\n",
      "epoch = 25, loss = 16.214653810689953\n",
      "epoch = 26, loss = 15.888306452161812\n",
      "epoch = 27, loss = 15.705346425908699\n",
      "epoch = 28, loss = 15.345337647837074\n",
      "epoch = 29, loss = 15.211468933692053\n",
      "epoch = 30, loss = 14.839254556949673\n",
      "epoch = 31, loss = 14.661399459543459\n",
      "epoch = 32, loss = 14.536356964327705\n",
      "epoch = 33, loss = 14.355583658393376\n",
      "epoch = 34, loss = 14.213867247673122\n",
      "epoch = 35, loss = 14.102745460757873\n",
      "epoch = 36, loss = 13.919310624412656\n",
      "epoch = 37, loss = 13.710006885301278\n",
      "epoch = 38, loss = 13.492904839100177\n",
      "epoch = 39, loss = 13.452405047262022\n",
      "epoch = 40, loss = 13.22163639598394\n",
      "epoch = 41, loss = 13.106264378351165\n",
      "epoch = 42, loss = 13.010223803746575\n",
      "epoch = 43, loss = 13.006889250657753\n",
      "epoch = 44, loss = 12.882414696037317\n",
      "epoch = 45, loss = 12.78304433052325\n",
      "epoch = 46, loss = 12.569483377210519\n",
      "epoch = 47, loss = 12.4777020251797\n",
      "epoch = 48, loss = 12.457845947483282\n",
      "epoch = 49, loss = 12.32134360645362\n"
     ]
    }
   ],
   "source": [
    "##################\n",
    "# Training phase #\n",
    "##################\n",
    "\n",
    "E = 50                # number of epochs\n",
    "B = 128               # batch size\n",
    "N = x_train.shape[0]  # number of samples\n",
    "D = x_train.shape[1]  # dimension of input sample\n",
    "H = 300               # number of neurons\n",
    "A = 0.01              # learning rate alpha\n",
    "\n",
    "##############################################\n",
    "#  COMPLETE CODE BELOW WHERE YOU SEE # ...   #\n",
    "##############################################\n",
    "\n",
    "# Build the computational graph\n",
    "@tf.function # this decorator tells tf that a graph is defined\n",
    "def mlp_train(x, y, alpha):\n",
    "    # define nodes for forward computation for hidden neurons h and output neurons y_pred\n",
    "    h = tf.maximum((tf.matmul(x, w1) + b1), 0) # ...  output of first layer after ReLu activation\n",
    "    y_pred = tf.math.sigmoid(tf.matmul(h, w2) + b2) # ... output of second layer after sigmoid activation\n",
    "    # define nodes for forward computation for hidden neurons h and output neurons y_pred\n",
    "    diff = y_pred - y\n",
    "    loss = tf.reduce_mean(tf.pow(diff, 2))\n",
    "    # define the gradients\n",
    "    grad_w1, grad_b1, grad_w2, grad_b2 = tf.gradients(ys=loss, xs=[w1,b1,w2,b2])\n",
    "    # compute the new values of the gradients with the assign method (see slides)\n",
    "    w1.assign(w1 - alpha * grad_w1)\n",
    "    b1.assign(b1 - alpha * grad_b1)\n",
    "    w2.assign(w2 - alpha * grad_w2)\n",
    "    b2.assign(b2 - alpha * grad_b2)\n",
    "    return y_pred, loss\n",
    "\n",
    "# Init the tf.Variablesw 1, b1, w2, b2 following the given examples\n",
    "w1 = tf.Variable(tf.random.truncated_normal((D, H), stddev = 0.1, dtype='float64'))\n",
    "b1 = tf.Variable(tf.constant(0.0, shape=[H], dtype='float64'))\n",
    "w2 = tf.Variable(tf.random.truncated_normal((H, 10), stddev=0.1, dtype='float64'))\n",
    "b2 = tf.Variable(tf.constant(0.0, shape=[10], dtype='float64'))\n",
    "\n",
    "# Run the computational graph\n",
    "J = [] # to store the evolution of loss J for each epoch\n",
    "for epoch in range(E):\n",
    "    J_epoch = 0.0\n",
    "    for _ in range(int(N/B)): # number of batches to visit for 1 epoch\n",
    "        # get batches calling the next_batch method provided above\n",
    "        x_train_batch, y_train_batch = next_batch(B, x_train, y_train)\n",
    "        with tf.device('/CPU:0'):  # change to /GPU:0 to move it to GPU\n",
    "            # call the graph with the batched input, target and alpha A\n",
    "            out = mlp_train(x_train_batch, y_train_batch, A)\n",
    "        y_pred, loss_val = out\n",
    "        J_epoch += loss_val\n",
    "    J.append(J_epoch)\n",
    "    print(\"epoch = {}, loss = {}\".format(epoch, J_epoch))"
   ]
  },
  {
   "cell_type": "code",
   "execution_count": 8,
   "metadata": {},
   "outputs": [
    {
     "data": {
      "text/plain": [
       "[<matplotlib.lines.Line2D at 0x220090bd4e0>]"
      ]
     },
     "execution_count": 8,
     "metadata": {},
     "output_type": "execute_result"
    },
    {
     "data": {
      "image/png": "[encoded data removed]",
      "text/plain": [
       "<Figure size 432x288 with 1 Axes>"
      ]
     },
     "metadata": {
      "needs_background": "light"
     },
     "output_type": "display_data"
    }
   ],
   "source": [
    "# Plot the evolution of the loss\n",
    "plt.plot(J)"
   ]
  },
  {
   "cell_type": "code",
   "execution_count": 9,
   "metadata": {},
   "outputs": [
    {
     "name": "stdout",
     "output_type": "stream",
     "text": [
      "Forward pass on test set done.\n"
     ]
    }
   ],
   "source": [
    "#################\n",
    "# Testing phase #\n",
    "#################\n",
    "\n",
    "N = x_test.shape[0]  # number of samples\n",
    "D = x_test.shape[1]  # dimension of input sample\n",
    "\n",
    "##############################################\n",
    "#  COMPLETE CODE BELOW WHERE YOU SEE # ...   #\n",
    "##############################################\n",
    "# Build the computational graph\n",
    "@tf.function # this decorator tells tf that a graph is defined\n",
    "def mlp_test(x, y):\n",
    "    h = tf.maximum((tf.matmul(x, w1) + b1), 0)\n",
    "    y_pred = tf.math.sigmoid(tf.matmul(h, w2) + b2)\n",
    "    return y_pred\n",
    "\n",
    "# Run the computational graph\n",
    "with tf.device('/CPU:0'):  # change to /GPU:0 to move it to GPU\n",
    "    y_pred_test = mlp_test(x_test, y_test)\n",
    "\n",
    "print('Forward pass on test set done.')\n",
    "# At this stage, y_pred_test should contain the matrix of outputs on the test set with shape (N_test, 10)"
   ]
  },
  {
   "cell_type": "code",
   "execution_count": 10,
   "metadata": {
    "scrolled": true
   },
   "outputs": [
    {
     "name": "stdout",
     "output_type": "stream",
     "text": [
      "# samples  :  10000\n",
      "# correct  :  8838\n",
      "# missed   :  1162\n",
      "accuracy   :  88.38 %\n",
      "error rate :  11.62 %\n"
     ]
    }
   ],
   "source": [
    "# compute accuracy\n",
    "y_winner = np.argmax(y_pred_test, axis=1)\n",
    "N_test = y_winner.size\n",
    "num_correct = (y_winner == y_test_vec).sum()\n",
    "num_missed = N_test - num_correct\n",
    "accuracy = num_correct * 1.0 / N_test\n",
    "error_rate = num_missed * 1.0 / N_test\n",
    "print('# samples  : ', N_test)\n",
    "print('# correct  : ', num_correct)\n",
    "print('# missed   : ', num_missed)\n",
    "print('accuracy   :  %2.2f %%'% (accuracy*100.0))\n",
    "print('error rate :  %2.2f %%'% (error_rate*100.0))"
   ]
  },
  {
   "cell_type": "markdown",
   "metadata": {},
   "source": [
    "## Exercise 4 - Keras Implementation\n",
    "\n",
    "* implement MPL from Ex3"
   ]
  },
  {
   "cell_type": "code",
   "execution_count": 19,
   "metadata": {},
   "outputs": [],
   "source": [
    "model = tf.keras.models.Sequential()\n",
    "model.add(tf.keras.layers.Dense(10, input_shape=(D,), use_bias=True, activation='sigmoid'))\n",
    "sgd = tf.keras.optimizers.SGD(learning_rate=A)"
   ]
  },
  {
   "cell_type": "code",
   "execution_count": 20,
   "metadata": {},
   "outputs": [
    {
     "name": "stdout",
     "output_type": "stream",
     "text": [
      "Train on 60000 samples\n",
      "Epoch 1/50\n",
      "60000/60000 [==============================] - 2s 40us/sample - loss: 0.1012 - accuracy: 0.3559\n",
      "Epoch 2/50\n",
      "60000/60000 [==============================] - 2s 37us/sample - loss: 0.0756 - accuracy: 0.5745\n",
      "Epoch 3/50\n",
      "60000/60000 [==============================] - 2s 41us/sample - loss: 0.0662 - accuracy: 0.6388\n",
      "Epoch 4/50\n",
      "60000/60000 [==============================] - 2s 36us/sample - loss: 0.0597 - accuracy: 0.6888\n",
      "Epoch 5/50\n",
      "60000/60000 [==============================] - 2s 35us/sample - loss: 0.0550 - accuracy: 0.7344\n",
      "Epoch 6/50\n",
      "60000/60000 [==============================] - 2s 36us/sample - loss: 0.0514 - accuracy: 0.7670\n",
      "Epoch 7/50\n",
      "60000/60000 [==============================] - 2s 36us/sample - loss: 0.0485 - accuracy: 0.7900\n",
      "Epoch 8/50\n",
      "60000/60000 [==============================] - 2s 37us/sample - loss: 0.0462 - accuracy: 0.8047s - loss: 0.046\n",
      "Epoch 9/50\n",
      "60000/60000 [==============================] - 2s 37us/sample - loss: 0.0442 - accuracy: 0.8159s - loss:\n",
      "Epoch 10/50\n",
      "60000/60000 [==============================] - 2s 39us/sample - loss: 0.0425 - accuracy: 0.8227\n",
      "Epoch 11/50\n",
      "60000/60000 [==============================] - 2s 34us/sample - loss: 0.0410 - accuracy: 0.8285\n",
      "Epoch 12/50\n",
      "60000/60000 [==============================] - 2s 36us/sample - loss: 0.0398 - accuracy: 0.8335\n",
      "Epoch 13/50\n",
      "60000/60000 [==============================] - 2s 36us/sample - loss: 0.0387 - accuracy: 0.8365\n",
      "Epoch 14/50\n",
      "60000/60000 [==============================] - 2s 37us/sample - loss: 0.0377 - accuracy: 0.8401\n",
      "Epoch 15/50\n",
      "60000/60000 [==============================] - 2s 38us/sample - loss: 0.0369 - accuracy: 0.8429s - l - ETA: 0s - loss: 0.0369 - accuracy: 0.84\n",
      "Epoch 16/50\n",
      "60000/60000 [==============================] - 2s 37us/sample - loss: 0.0361 - accuracy: 0.8461\n",
      "Epoch 17/50\n",
      "60000/60000 [==============================] - 2s 37us/sample - loss: 0.0354 - accuracy: 0.8485\n",
      "Epoch 18/50\n",
      "60000/60000 [==============================] - 2s 37us/sample - loss: 0.0348 - accuracy: 0.8504\n",
      "Epoch 19/50\n",
      "60000/60000 [==============================] - 2s 36us/sample - loss: 0.0342 - accuracy: 0.8518\n",
      "Epoch 20/50\n",
      "60000/60000 [==============================] - 2s 33us/sample - loss: 0.0337 - accuracy: 0.8533\n",
      "Epoch 21/50\n",
      "60000/60000 [==============================] - ETA: 0s - loss: 0.0332 - accuracy: 0.85 - 2s 34us/sample - loss: 0.0332 - accuracy: 0.8551\n",
      "Epoch 22/50\n",
      "60000/60000 [==============================] - 2s 36us/sample - loss: 0.0328 - accuracy: 0.8564\n",
      "Epoch 23/50\n",
      "60000/60000 [==============================] - 2s 38us/sample - loss: 0.0323 - accuracy: 0.8575\n",
      "Epoch 24/50\n",
      "60000/60000 [==============================] - 2s 36us/sample - loss: 0.0320 - accuracy: 0.8585\n",
      "Epoch 25/50\n",
      "60000/60000 [==============================] - 2s 39us/sample - loss: 0.0316 - accuracy: 0.8598\n",
      "Epoch 26/50\n",
      "60000/60000 [==============================] - 2s 35us/sample - loss: 0.0312 - accuracy: 0.8610\n",
      "Epoch 27/50\n",
      "60000/60000 [==============================] - 2s 38us/sample - loss: 0.0309 - accuracy: 0.8619\n",
      "Epoch 28/50\n",
      "60000/60000 [==============================] - 2s 37us/sample - loss: 0.0306 - accuracy: 0.8629\n",
      "Epoch 29/50\n",
      "60000/60000 [==============================] - 2s 38us/sample - loss: 0.0303 - accuracy: 0.8640\n",
      "Epoch 30/50\n",
      "60000/60000 [==============================] - 2s 39us/sample - loss: 0.0301 - accuracy: 0.8649\n",
      "Epoch 31/50\n",
      "60000/60000 [==============================] - 2s 39us/sample - loss: 0.0298 - accuracy: 0.8656\n",
      "Epoch 32/50\n",
      "60000/60000 [==============================] - 2s 40us/sample - loss: 0.0296 - accuracy: 0.8664\n",
      "Epoch 33/50\n",
      "60000/60000 [==============================] - 2s 38us/sample - loss: 0.0293 - accuracy: 0.8672\n",
      "Epoch 34/50\n",
      "60000/60000 [==============================] - 2s 38us/sample - loss: 0.0291 - accuracy: 0.8680\n",
      "Epoch 35/50\n",
      "60000/60000 [==============================] - 2s 39us/sample - loss: 0.0289 - accuracy: 0.8687\n",
      "Epoch 36/50\n",
      "60000/60000 [==============================] - 2s 39us/sample - loss: 0.0287 - accuracy: 0.8696\n",
      "Epoch 37/50\n",
      "60000/60000 [==============================] - 2s 37us/sample - loss: 0.0285 - accuracy: 0.8702\n",
      "Epoch 38/50\n",
      "60000/60000 [==============================] - 2s 39us/sample - loss: 0.0283 - accuracy: 0.8706\n",
      "Epoch 39/50\n",
      "60000/60000 [==============================] - 3s 45us/sample - loss: 0.0282 - accuracy: 0.8712\n",
      "Epoch 40/50\n",
      "60000/60000 [==============================] - 2s 37us/sample - loss: 0.0280 - accuracy: 0.8718\n",
      "Epoch 41/50\n",
      "60000/60000 [==============================] - 2s 37us/sample - loss: 0.0278 - accuracy: 0.8720s - l\n",
      "Epoch 42/50\n",
      "60000/60000 [==============================] - 2s 40us/sample - loss: 0.0277 - accuracy: 0.8728\n",
      "Epoch 43/50\n",
      "60000/60000 [==============================] - 2s 37us/sample - loss: 0.0275 - accuracy: 0.8735\n",
      "Epoch 44/50\n",
      "60000/60000 [==============================] - 2s 40us/sample - loss: 0.0274 - accuracy: 0.8741\n",
      "Epoch 45/50\n",
      "60000/60000 [==============================] - 2s 37us/sample - loss: 0.0272 - accuracy: 0.8744\n",
      "Epoch 46/50\n",
      "60000/60000 [==============================] - 2s 40us/sample - loss: 0.0271 - accuracy: 0.8752\n",
      "Epoch 47/50\n",
      "60000/60000 [==============================] - 2s 37us/sample - loss: 0.0270 - accuracy: 0.8755\n",
      "Epoch 48/50\n",
      "60000/60000 [==============================] - 2s 36us/sample - loss: 0.0268 - accuracy: 0.8760\n",
      "Epoch 49/50\n",
      "60000/60000 [==============================] - 2s 37us/sample - loss: 0.0267 - accuracy: 0.8765s - loss: 0.0\n",
      "Epoch 50/50\n",
      "60000/60000 [==============================] - 2s 35us/sample - loss: 0.0266 - accuracy: 0.8767\n",
      "10000/1 - 0s - loss: 0.0255 - accuracy: 0.8849\n"
     ]
    },
    {
     "data": {
      "text/plain": [
       "[0.025650525160133837, 0.8849]"
      ]
     },
     "execution_count": 20,
     "metadata": {},
     "output_type": "execute_result"
    }
   ],
   "source": [
    "model.compile(optimizer=sgd, loss='mse', metrics=['accuracy'])\n",
    "history1 = model.fit(x_train, y_train, epochs=E)\n",
    "model.evaluate(x_test, y_test, verbose=2)"
   ]
  },
  {
   "cell_type": "code",
   "execution_count": 21,
   "metadata": {},
   "outputs": [
    {
     "data": {
      "image/png": "[encoded data removed]",
      "text/plain": [
       "<Figure size 576x432 with 1 Axes>"
      ]
     },
     "metadata": {
      "needs_background": "light"
     },
     "output_type": "display_data"
    }
   ],
   "source": [
    "fig, ax = plt.subplots(figsize=(8, 6))\n",
    "_ = ax.plot(history1.history['loss'])\n",
    "_ = ax.set_title('loss')\n",
    "_ = ax.set_xlabel('epoch #')\n",
    "_ = ax.set_ylabel('Cost')"
   ]
  },
  {
   "cell_type": "code",
   "execution_count": 22,
   "metadata": {
    "scrolled": false
   },
   "outputs": [
    {
     "data": {
      "image/png": "[encoded data removed]",
      "text/plain": [
       "<Figure size 576x432 with 1 Axes>"
      ]
     },
     "metadata": {
      "needs_background": "light"
     },
     "output_type": "display_data"
    }
   ],
   "source": [
    "fig, ax = plt.subplots(figsize=(8, 6))\n",
    "_ = ax.plot(history1.history['accuracy'])\n",
    "_ = ax.set_title('accuracy')\n",
    "_ = ax.set_xlabel('epoch #')\n",
    "_ = ax.set_ylabel('accuracy')"
   ]
  },
  {
   "cell_type": "code",
   "execution_count": 25,
   "metadata": {},
   "outputs": [
    {
     "name": "stdout",
     "output_type": "stream",
     "text": [
      "0.8849\n"
     ]
    }
   ],
   "source": [
    "loss, accuracy = model.evaluate(x_test, y_test, verbose=False)\n",
    "print(accuracy)"
   ]
  },
  {
   "cell_type": "markdown",
   "metadata": {},
   "source": [
    "we achieve the the same accuracy with the keras as with the low level tensorflow implementation"
   ]
  }
 ],
 "metadata": {
  "kernelspec": {
   "display_name": "Python 3",
   "language": "python",
   "name": "python3"
  },
  "language_info": {
   "codemirror_mode": {
    "name": "ipython",
    "version": 3
   },
   "file_extension": ".py",
   "mimetype": "text/x-python",
   "name": "python",
   "nbconvert_exporter": "python",
   "pygments_lexer": "ipython3",
   "version": "3.6.7"
  }
 },
 "nbformat": 4,
 "nbformat_minor": 2
}
