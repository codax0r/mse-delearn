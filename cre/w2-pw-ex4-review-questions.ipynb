{
 "cells": [
  {
   "cell_type": "markdown",
   "metadata": {},
   "source": [
    "## Exercise 4 - Review Questions\n",
    "\n",
    "### a) Explain why normalisation is beneficial.\n",
    "***TODO***\n",
    "\n",
    "### b) In what sense are optimisation techniques important for machine learning problems ?\n",
    "***TODO***\n",
    "\n",
    "### c) Describe in what problems gradient descent is applicable. In what problems will it necessarily lead to a unique solution ? Describe what can go wrong in more general problems and why.\n",
    "***TODO***\n",
    "\n",
    "### d) Why is learning with MSE cost considered less suitable for classification problems ?\n",
    "***TODO***\n",
    "\n",
    "### e) What may happen if the learning rate is chosen too large ?\n",
    "***TODO***\n",
    "\n",
    "### f) Why is it possible that the test error starts increasing after some epochs of training ?\n",
    "***TODO***\n",
    "\n",
    "### g) Is it becoming more or less difficult to reach small values of the cost function if we have more training data ?\n",
    "***TODO***"
   ]
  },
  {
   "cell_type": "code",
   "execution_count": null,
   "metadata": {},
   "outputs": [],
   "source": []
  }
 ],
 "metadata": {
  "kernelspec": {
   "display_name": "Python 3",
   "language": "python",
   "name": "python3"
  },
  "language_info": {
   "codemirror_mode": {
    "name": "ipython",
    "version": 3
   },
   "file_extension": ".py",
   "mimetype": "text/x-python",
   "name": "python",
   "nbconvert_exporter": "python",
   "pygments_lexer": "ipython3",
   "version": "3.7.3"
  }
 },
 "nbformat": 4,
 "nbformat_minor": 2
}
