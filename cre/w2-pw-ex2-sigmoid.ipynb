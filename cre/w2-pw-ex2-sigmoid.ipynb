{
 "cells": [
  {
   "cell_type": "markdown",
   "metadata": {},
   "source": [
    "Hand-In of Group 13, Jonathan Ehrengruber (jonathan.ehrengruber@students.fhnw.ch), Christian Renold (christian.renold@hslu.ch)"
   ]
  },
  {
   "cell_type": "code",
   "execution_count": null,
   "metadata": {},
   "outputs": [],
   "source": [
    "import numpy as np\n",
    "import matplotlib.pyplot as plt"
   ]
  },
  {
   "cell_type": "markdown",
   "metadata": {},
   "source": [
    "## Exercise 2\n",
    "\n",
    "### a) Compute the derivative of the sigmoid function\n",
    "\n",
    "***see pdf file***\n",
    "\n",
    "### b) Show that the derivative fullfills the equation ...\n",
    "\n",
    "***see pdf file***\n",
    "\n",
    "### c) Compute the first and second derivative of zeta\n",
    "\n",
    "***see pdf file for first and second derivative***\n",
    "\n",
    "Create a plot of zeta.\n",
    "\n",
    "***TODO:*** Compute the asymptotes for z &rarr; &plusmn; infinity"
   ]
  },
  {
   "cell_type": "code",
   "execution_count": null,
   "metadata": {},
   "outputs": [],
   "source": [
    "def sigmoid(x):\n",
    "    return 1 / (1 + np.exp(-x))\n",
    "\n",
    "def zeta(z):\n",
    "    return -np.log(sigmoid(-z))\n",
    "\n",
    "def zeta_derived1(z):\n",
    "    ez = np.exp(z)\n",
    "    return ez / (1+ez)\n",
    "\n",
    "def zeta_derived2(z):\n",
    "    ez = np.exp(z)\n",
    "    return ez/np.power(1+ez, 2)\n",
    "\n",
    "x = np.array(np.arange(-15,25, 0.25))\n",
    "y = zeta(x)\n",
    "\n",
    "yd1 = zeta_derived1(x)\n",
    "yd2 = zeta_derived2(x)\n",
    "\n",
    "plt.plot(x,y, label='zeta')\n",
    "plt.plot(x,yd1, label='zeta derived1')\n",
    "plt.plot(x,yd2, label='zeta derived2')\n",
    "plt.xlim([-5,15])\n",
    "plt.ylim([-1,15])\n",
    "plt.grid()\n",
    "plt.legend()\n",
    "plt.show()"
   ]
  },
  {
   "cell_type": "markdown",
   "metadata": {},
   "source": [
    "### d) Implement the sigmoid function in a Jupyter Notebook. \n",
    "Make it work such that you can pass numpy arrays of arbitrary shape and the function is applied element-wise. Plot the\n",
    "sigmoid function and its derivative by using matplotlib.\n",
    "\n",
    "\n",
    "\n"
   ]
  },
  {
   "cell_type": "code",
   "execution_count": null,
   "metadata": {},
   "outputs": [],
   "source": [
    "# Sigmoid Function defined in c) above\n",
    "\n",
    "def sigmoid_derivate(x):\n",
    "    sig = sigmoid(x)\n",
    "    return sig * (1-sig)\n",
    "\n",
    "x = np.array(np.arange(-5,5, 0.25))\n",
    "\n",
    "y_sig = sigmoid(x)\n",
    "y_der = sigmoid_derivate(x)\n",
    "\n",
    "plt.plot(x,y_sig, label='sigmoid')\n",
    "plt.plot(x,y_der, label='sigmoid derivative')\n",
    "\n",
    "plt.grid()\n",
    "plt.legend()\n",
    "plt.show()"
   ]
  },
  {
   "cell_type": "markdown",
   "metadata": {},
   "source": [
    "### f) Show that function ... is non-convex\n",
    "Hint : Consider the second derivative.\n",
    "\n",
    "Explain in which situations (initial settings) optimising c1(x) with gradient descent may\n",
    "become difficult. For the explanation create a plot. Note that this exercise should give an\n",
    "intuition on why mean-square error loss is less suited for classification problems.\n",
    "\n",
    "***TODO Explanation***"
   ]
  },
  {
   "cell_type": "code",
   "execution_count": null,
   "metadata": {},
   "outputs": [],
   "source": [
    "def c1(x):\n",
    "    sig = sigmoid(x)\n",
    "    return np.power(sig - 1, 2)\n",
    "\n",
    "def c1_d1(x):    \n",
    "    numerator = 2 * np.exp(x)\n",
    "    denumerator = ex = np.power(np.exp(x) + 1, 3)        \n",
    "    return - (numerator / denumerator)\n",
    "\n",
    "def c1_d2(x):\n",
    "    ex2 = 2 * np.exp(x)\n",
    "    numerator = ex2 * (ex2 -1)\n",
    "    denumerator = np.power(np.exp(x) + 1, 4)\n",
    "    return numerator / denumerator\n",
    "\n",
    "x = np.array(np.arange(-5,5, 0.25))\n",
    "y = c1(x)\n",
    "yd1 = c1_d1(x)\n",
    "yd2 = c1_d2(x)\n",
    "\n",
    "plt.plot(x,y, label='c1')\n",
    "plt.plot(x,yd1, label='c1 derive1')\n",
    "plt.plot(x,yd2, label='c1 derive2')\n",
    "\n",
    "plt.grid()\n",
    "plt.legend()\n",
    "plt.show()"
   ]
  },
  {
   "cell_type": "markdown",
   "metadata": {},
   "source": [
    "\n",
    "\n",
    "\n",
    "### g) Compute the first and second derivative of the function ...\n",
    "\n",
    "***see pdf file***\n",
    "\n",
    "Show that c2 is convex."
   ]
  }
 ],
 "metadata": {
  "kernelspec": {
   "display_name": "Python 3",
   "language": "python",
   "name": "python3"
  },
  "language_info": {
   "codemirror_mode": {
    "name": "ipython",
    "version": 3
   },
   "file_extension": ".py",
   "mimetype": "text/x-python",
   "name": "python",
   "nbconvert_exporter": "python",
   "pygments_lexer": "ipython3",
   "version": "3.7.3"
  }
 },
 "nbformat": 4,
 "nbformat_minor": 2
}
