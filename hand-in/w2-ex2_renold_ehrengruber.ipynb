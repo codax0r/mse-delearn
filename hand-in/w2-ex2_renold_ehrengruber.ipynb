{
 "cells": [
  {
   "cell_type": "markdown",
   "metadata": {},
   "source": [
    "Hand-In of Group 13, Jonathan Ehrengruber (jonathan.ehrengruber@students.fhnw.ch), Christian Renold (christian.renold@hslu.ch)"
   ]
  },
  {
   "cell_type": "code",
   "execution_count": null,
   "metadata": {},
   "outputs": [],
   "source": [
    "import numpy as np\n",
    "import matplotlib.pyplot as plt"
   ]
  },
  {
   "cell_type": "markdown",
   "metadata": {},
   "source": [
    "## Exercise 2\n",
    "\n",
    "### a) Compute the derivative of the sigmoid function\n",
    "\n",
    "&rarr; ***see pdf file, page 1***\n",
    "\n",
    "### b) Show that the derivative fullfills the equation ...\n",
    "\n",
    "&rarr; ***see pdf file, page 1***\n",
    "\n",
    "### c) Compute the first and second derivative of zeta\n",
    "\n",
    "&rarr; ***see pdf file, page 2 for first and second derivative***\n",
    "\n",
    "Plot of &#950;:"
   ]
  },
  {
   "cell_type": "code",
   "execution_count": null,
   "metadata": {},
   "outputs": [],
   "source": [
    "def sigmoid(x):\n",
    "    return 1 / (1 + np.exp(-x))\n",
    "\n",
    "def zeta(z):\n",
    "    return -np.log(sigmoid(-z))\n",
    "\n",
    "def zeta_derived1(z):\n",
    "    ez = np.exp(z)\n",
    "    return ez / (1+ez)\n",
    "\n",
    "def zeta_derived2(z):\n",
    "    ez = np.exp(z)\n",
    "    return ez/np.power(1+ez, 2)\n",
    "\n",
    "x = np.array(np.arange(-15,25, 0.25))\n",
    "y = zeta(x)\n",
    "\n",
    "yd1 = zeta_derived1(x)\n",
    "yd2 = zeta_derived2(x)\n",
    "\n",
    "plt.plot(x,y, label='$\\zeta(z)$')\n",
    "plt.plot(x,yd1, label='$\\zeta\\'(z)$')\n",
    "plt.plot(x,yd2, label='$\\zeta\\'\\'(z)$')\n",
    "\n",
    "plt.xlim([-5,5])\n",
    "plt.ylim([-0.5,5.1])\n",
    "plt.grid()\n",
    "plt.legend()\n",
    "plt.show()"
   ]
  },
  {
   "cell_type": "markdown",
   "metadata": {},
   "source": [
    "#### Comments\n",
    "We see that the second derivation of zeta is always positive, therefore the zeta function is convex."
   ]
  },
  {
   "cell_type": "markdown",
   "metadata": {},
   "source": [
    "### d) Implement the sigmoid function in a Jupyter Notebook. \n",
    "Make it work such that you can pass numpy arrays of arbitrary shape and the function is applied element-wise. Plot the\n",
    "sigmoid function and its derivative by using matplotlib.\n",
    "\n",
    "\n",
    "\n"
   ]
  },
  {
   "cell_type": "code",
   "execution_count": null,
   "metadata": {},
   "outputs": [],
   "source": [
    "# Sigmoid Function defined in c) above\n",
    "\n",
    "def sigmoid_derivate(x):\n",
    "    sig = sigmoid(x)\n",
    "    return sig * (1-sig)\n",
    "\n",
    "x = np.array(np.arange(-10,10, 0.05))\n",
    "\n",
    "y_sig = sigmoid(x)\n",
    "y_der = sigmoid_derivate(x)\n",
    "\n",
    "plt.plot(x,y_sig, label='$\\sigma(z)$')\n",
    "plt.plot(x,y_der, label='$\\sigma\\'(z)$')\n",
    "\n",
    "plt.grid()\n",
    "plt.legend()\n",
    "plt.show()"
   ]
  },
  {
   "cell_type": "markdown",
   "metadata": {},
   "source": [
    "### f) Show that function ... is non-convex\n",
    "&rarr; ***see pdf file, page 3 for the calculation of the derivatives***\n",
    "\n",
    "See plot of the functions below."
   ]
  },
  {
   "cell_type": "code",
   "execution_count": null,
   "metadata": {},
   "outputs": [],
   "source": [
    "def c1(x):\n",
    "    sig = sigmoid(x)\n",
    "    return np.power(sig - 1, 2)\n",
    "\n",
    "def c1_d1(x):    \n",
    "    numerator = 2 * np.exp(x)\n",
    "    denumerator = ex = np.power(np.exp(x) + 1, 3)        \n",
    "    return - (numerator / denumerator)\n",
    "\n",
    "def c1_d2(x):\n",
    "    ex2 = 2 * np.exp(x)\n",
    "    numerator = ex2 * (ex2 -1)\n",
    "    denumerator = np.power(np.exp(x) + 1, 4)\n",
    "    return numerator / denumerator\n",
    "\n",
    "fig, ax = plt.subplots(figsize=(15, 5))\n",
    "             \n",
    "x = np.array(np.arange(-8,8, 0.25))\n",
    "y = c1(x)\n",
    "yd1 = c1_d1(x)\n",
    "yd2 = c1_d2(x)\n",
    "\n",
    "plt.plot(x,y, label='c1')\n",
    "plt.plot(x,yd1, label='$c_1\\'(x)$')\n",
    "plt.plot(x,yd2, label='$c_1\\'\\'(x)$')\n",
    "\n",
    "plt.grid()\n",
    "plt.legend()\n",
    "plt.show()"
   ]
  },
  {
   "cell_type": "markdown",
   "metadata": {},
   "source": [
    "\n",
    "#### Comment:\n",
    "Since the second derivative is not alway positive, the function $c_1$ is not convex."
   ]
  },
  {
   "cell_type": "markdown",
   "metadata": {},
   "source": [
    "\n",
    "\n",
    "### g) \n",
    "\n",
    "&rarr; ***see pdf file, page 4 for the calculation of the derivatives***\n"
   ]
  },
  {
   "cell_type": "code",
   "execution_count": null,
   "metadata": {
    "scrolled": false
   },
   "outputs": [],
   "source": [
    "def c2(x, y=1, w=2):\n",
    "    return -y*np.log(sigmoid(w*x)) + (1-y)*np.log(1-sigmoid(w*x))\n",
    "\n",
    "def c2_derived1(x, y, w):\n",
    "    sig = sigmoid(w * x)\n",
    "    return -y * (1 - sig) * w - (1 - y) * sig * w\n",
    "\n",
    "def c2_derived2(x,y,w):\n",
    "    sig = sigmoid(w*x)\n",
    "    return -y * sig * (1 - sig) * (-1) * w - (1 - y) * sig * (1 - sig) * w\n",
    "\n",
    "\n",
    "x = np.array(np.arange(-6,6, 0.05))\n",
    "\n",
    "wvals = [[1, '-'], [2, '--'], [3, '-.']]\n",
    "colors = ['b', 'g', 'r']\n",
    "\n",
    "def plot_c2_overview(y):\n",
    "    fig, ax = plt.subplots(2, 1, figsize=(15, 10), gridspec_kw={'height_ratios': [1, 3]})\n",
    "\n",
    "    for wval in wvals:\n",
    "        w = wval[0]\n",
    "        linestyle = wval[1]\n",
    "        c2_val = c2(x, y, wval[0])\n",
    "        c2_d1 = c2_derived1(x, y, wval[0])\n",
    "        c2_d2 = c2_derived2(x, y, wval[0])\n",
    "        _ = ax[0].plot(x, c2_val, colors[0] + wval[1], label='$c_2(x)$ with y={1}, w={0}'.format(wval[0], y))\n",
    "        _ = ax[1].plot(x, c2_d1, colors[1] + wval[1], label='$c_2\\'(x)$ y={1}, w={0}'.format(wval[0], y) )\n",
    "        _ = ax[1].plot(x, c2_d2, colors[2] + wval[1], label='$c_2\\'\\'(x)$ y={1}, w={0}'.format(wval[0], y) )\n",
    "\n",
    "    ax[0].set_title('$c_2(x)$ with y=' + str(y))\n",
    "    ax[1].set_title('$c_2\\'(x)$ and $c_2\\'\\'(x)$ with y=' + str(y))\n",
    "\n",
    "    ax[0].legend()\n",
    "    ax[0].grid()\n",
    "    ax[1].legend()\n",
    "    ax[1].grid()\n",
    "\n",
    "    \n",
    "plot_c2_overview(y=1)\n",
    "plot_c2_overview(y=0)"
   ]
  },
  {
   "cell_type": "markdown",
   "metadata": {},
   "source": [
    "### Comment\n",
    "We can clearly see that the $c_2''$ does not exceed 0, so we can say that $c_2$ is concave, or, if considering $-c_2$ convex."
   ]
  },
  {
   "cell_type": "code",
   "execution_count": null,
   "metadata": {},
   "outputs": [],
   "source": []
  }
 ],
 "metadata": {
  "kernelspec": {
   "display_name": "Python 3",
   "language": "python",
   "name": "python3"
  },
  "language_info": {
   "codemirror_mode": {
    "name": "ipython",
    "version": 3
   },
   "file_extension": ".py",
   "mimetype": "text/x-python",
   "name": "python",
   "nbconvert_exporter": "python",
   "pygments_lexer": "ipython3",
   "version": "3.6.8"
  }
 },
 "nbformat": 4,
 "nbformat_minor": 2
}
