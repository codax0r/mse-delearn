{
 "cells": [
  {
   "cell_type": "code",
   "execution_count": 1,
   "metadata": {
    "scrolled": true
   },
   "outputs": [],
   "source": [
    "from io import open\n",
    "import glob\n",
    "import os\n",
    "import unicodedata\n",
    "import string\n",
    "import numpy as np\n",
    "\n",
    "from matplotlib import pyplot as plt\n",
    "import matplotlib.ticker as ticker\n",
    "\n",
    "from IPython.display import HTML\n",
    "import pandas as pd\n",
    "\n",
    "from sklearn.model_selection import train_test_split\n",
    "from sklearn.metrics import confusion_matrix\n",
    "\n",
    "from tensorflow.keras.models import Sequential\n",
    "from tensorflow.keras.layers import Dense, Dropout\n",
    "from tensorflow.keras.layers import SimpleRNN, LSTM\n",
    "from tensorflow.keras.regularizers import l2"
   ]
  },
  {
   "cell_type": "markdown",
   "metadata": {},
   "source": [
    "### Load Data"
   ]
  },
  {
   "cell_type": "code",
   "execution_count": 3,
   "metadata": {},
   "outputs": [
    {
     "name": "stdout",
     "output_type": "stream",
     "text": [
      "['../data/name_class/names/Vietnamese.txt', '../data/name_class/names/German.txt', '../data/name_class/names/Scottish.txt', '../data/name_class/names/Spanish.txt', '../data/name_class/names/Italian.txt', '../data/name_class/names/Czech.txt', '../data/name_class/names/Greek.txt', '../data/name_class/names/Chinese.txt', '../data/name_class/names/Korean.txt', '../data/name_class/names/Irish.txt', '../data/name_class/names/Portuguese.txt', '../data/name_class/names/Dutch.txt', '../data/name_class/names/Russian.txt', '../data/name_class/names/English.txt', '../data/name_class/names/Polish.txt', '../data/name_class/names/French.txt', '../data/name_class/names/Arabic.txt', '../data/name_class/names/Japanese.txt']\n"
     ]
    }
   ],
   "source": [
    "# inspect the data directory\n",
    "dpath = '../data/name_class/names/*.txt'\n",
    "def findFiles(path): \n",
    "    return glob.glob(path)\n",
    "\n",
    "print(findFiles(dpath))"
   ]
  },
  {
   "cell_type": "code",
   "execution_count": 4,
   "metadata": {},
   "outputs": [
    {
     "data": {
      "text/html": [
       "<div>\n",
       "<style scoped>\n",
       "    .dataframe tbody tr th:only-of-type {\n",
       "        vertical-align: middle;\n",
       "    }\n",
       "\n",
       "    .dataframe tbody tr th {\n",
       "        vertical-align: top;\n",
       "    }\n",
       "\n",
       "    .dataframe thead th {\n",
       "        text-align: right;\n",
       "    }\n",
       "</style>\n",
       "<table border=\"1\" class=\"dataframe\">\n",
       "  <thead>\n",
       "    <tr style=\"text-align: right;\">\n",
       "      <th></th>\n",
       "      <th>name</th>\n",
       "      <th>lang</th>\n",
       "    </tr>\n",
       "  </thead>\n",
       "  <tbody>\n",
       "    <tr>\n",
       "      <th>0</th>\n",
       "      <td>Abbing</td>\n",
       "      <td>German</td>\n",
       "    </tr>\n",
       "    <tr>\n",
       "      <th>1</th>\n",
       "      <td>Abel</td>\n",
       "      <td>German</td>\n",
       "    </tr>\n",
       "    <tr>\n",
       "      <th>2</th>\n",
       "      <td>Abeln</td>\n",
       "      <td>German</td>\n",
       "    </tr>\n",
       "    <tr>\n",
       "      <th>3</th>\n",
       "      <td>Abt</td>\n",
       "      <td>German</td>\n",
       "    </tr>\n",
       "    <tr>\n",
       "      <th>4</th>\n",
       "      <td>Achilles</td>\n",
       "      <td>German</td>\n",
       "    </tr>\n",
       "  </tbody>\n",
       "</table>\n",
       "</div>"
      ],
      "text/plain": [
       "       name    lang\n",
       "0    Abbing  German\n",
       "1      Abel  German\n",
       "2     Abeln  German\n",
       "3       Abt  German\n",
       "4  Achilles  German"
      ]
     },
     "execution_count": 4,
     "metadata": {},
     "output_type": "execute_result"
    }
   ],
   "source": [
    "# Read a file and split into lines\n",
    "def readLines(filename):\n",
    "    lines = open(filename, encoding='utf-8').read().strip().split('\\n')\n",
    "    return lines\n",
    "\n",
    "def load_data(categories=None):\n",
    "    names_list = []\n",
    "    for filename in findFiles('../data/name_class/names/*.txt'):\n",
    "        category = os.path.splitext(os.path.basename(filename))[0]\n",
    "        if not categories or category in categories: \n",
    "            names = readLines(filename)\n",
    "            names_list.extend([(name,category) for name in names])\n",
    "    df = pd.DataFrame(names_list)\n",
    "    df.columns = [\"name\",\"lang\"]\n",
    "    return df\n",
    "    \n",
    "\n",
    "languages = [\"English\",\"French\",\"Italian\",\"German\",\"Spanish\"]\n",
    "names = load_data(languages)\n",
    "names.head()"
   ]
  },
  {
   "cell_type": "code",
   "execution_count": 5,
   "metadata": {
    "scrolled": true
   },
   "outputs": [
    {
     "name": "stdout",
     "output_type": "stream",
     "text": [
      "Maximum name length:  18\n"
     ]
    },
    {
     "data": {
      "text/plain": [
       "lang\n",
       "English    3668\n",
       "French      277\n",
       "German      724\n",
       "Italian     709\n",
       "Spanish     298\n",
       "Name: name, dtype: int64"
      ]
     },
     "execution_count": 5,
     "metadata": {},
     "output_type": "execute_result"
    }
   ],
   "source": [
    "maxlen = np.max([len(name) for name in names.name])\n",
    "print(\"Maximum name length: \", maxlen)\n",
    "names.groupby('lang')['name'].count()"
   ]
  },
  {
   "cell_type": "markdown",
   "metadata": {},
   "source": [
    "### Alphabet\n",
    "\n",
    "Extract from the list of names all the characters occurring. This gives the basis for constructing a vector space representation of the characters by one-hot-vectors.\n",
    "\n",
    "Foresee a suitable character for the end of the word, e.g. 'END'."
   ]
  },
  {
   "cell_type": "code",
   "execution_count": 20,
   "metadata": {},
   "outputs": [
    {
     "data": {
      "text/html": [
       "<div>\n",
       "<style scoped>\n",
       "    .dataframe tbody tr th:only-of-type {\n",
       "        vertical-align: middle;\n",
       "    }\n",
       "\n",
       "    .dataframe tbody tr th {\n",
       "        vertical-align: top;\n",
       "    }\n",
       "\n",
       "    .dataframe thead th {\n",
       "        text-align: right;\n",
       "    }\n",
       "</style>\n",
       "<table border=\"1\" class=\"dataframe\">\n",
       "  <thead>\n",
       "    <tr style=\"text-align: right;\">\n",
       "      <th></th>\n",
       "      <th>name</th>\n",
       "      <th>lang</th>\n",
       "    </tr>\n",
       "  </thead>\n",
       "  <tbody>\n",
       "    <tr>\n",
       "      <th>0</th>\n",
       "      <td>Abbing</td>\n",
       "      <td>German</td>\n",
       "    </tr>\n",
       "    <tr>\n",
       "      <th>1</th>\n",
       "      <td>Abel</td>\n",
       "      <td>German</td>\n",
       "    </tr>\n",
       "    <tr>\n",
       "      <th>2</th>\n",
       "      <td>Abeln</td>\n",
       "      <td>German</td>\n",
       "    </tr>\n",
       "    <tr>\n",
       "      <th>3</th>\n",
       "      <td>Abt</td>\n",
       "      <td>German</td>\n",
       "    </tr>\n",
       "    <tr>\n",
       "      <th>4</th>\n",
       "      <td>Achilles</td>\n",
       "      <td>German</td>\n",
       "    </tr>\n",
       "    <tr>\n",
       "      <th>...</th>\n",
       "      <td>...</td>\n",
       "      <td>...</td>\n",
       "    </tr>\n",
       "    <tr>\n",
       "      <th>5671</th>\n",
       "      <td>Villeneuve</td>\n",
       "      <td>French</td>\n",
       "    </tr>\n",
       "    <tr>\n",
       "      <th>5672</th>\n",
       "      <td>Vincent</td>\n",
       "      <td>French</td>\n",
       "    </tr>\n",
       "    <tr>\n",
       "      <th>5673</th>\n",
       "      <td>Vipond</td>\n",
       "      <td>French</td>\n",
       "    </tr>\n",
       "    <tr>\n",
       "      <th>5674</th>\n",
       "      <td>Voclain</td>\n",
       "      <td>French</td>\n",
       "    </tr>\n",
       "    <tr>\n",
       "      <th>5675</th>\n",
       "      <td>Yount</td>\n",
       "      <td>French</td>\n",
       "    </tr>\n",
       "  </tbody>\n",
       "</table>\n",
       "<p>5676 rows × 2 columns</p>\n",
       "</div>"
      ],
      "text/plain": [
       "            name    lang\n",
       "0         Abbing  German\n",
       "1           Abel  German\n",
       "2          Abeln  German\n",
       "3            Abt  German\n",
       "4       Achilles  German\n",
       "...          ...     ...\n",
       "5671  Villeneuve  French\n",
       "5672     Vincent  French\n",
       "5673      Vipond  French\n",
       "5674     Voclain  French\n",
       "5675       Yount  French\n",
       "\n",
       "[5676 rows x 2 columns]"
      ]
     },
     "execution_count": 20,
     "metadata": {},
     "output_type": "execute_result"
    }
   ],
   "source": [
    "names"
   ]
  },
  {
   "cell_type": "code",
   "execution_count": 24,
   "metadata": {},
   "outputs": [
    {
     "name": "stdout",
     "output_type": "stream",
     "text": [
      "Size of alphabet:  75\n",
      "['ñ', 'y', 'S', 'ü', 'ä', 'ì', 'D', 'W', 'ù', 'z', 'R', 'J', 'F', 'Z', 'm', 'B', 'i', 'L', 'C', 'H', 'K', 'U', 'á', 'Y', 'N', 'A', ' ', 'g', 'f', 'V', 'w', 'r', 'a', 'd', 't', 'T', 'G', 'b', 'I', 'ú', 'ò', 'ç', 'ß', 'h', 'x', 'à', 'o', 'n', 'c', 'E', 'l', 'e', 'k', 'ö', 'v', 'É', 'X', 'u', 'q', 'O', 'j', 'ê', 'p', 'Á', 'M', 'ó', 'Q', 'í', 's', 'é', 'P', 'è', \"'\", 'END', '-']\n"
     ]
    }
   ],
   "source": [
    "### START YOUR CODE\n",
    "\n",
    "alphabet = list(set([char for word in names.name.values for char in word]))\n",
    "alphabet.append('END')\n",
    "\n",
    "### END YOUR CODE\n",
    "alphabet.append('-') # added for later purpose\n",
    "len_alphabet = len(alphabet)\n",
    "char_index = dict((c, i) for i, c in enumerate(alphabet))\n",
    "print(\"Size of alphabet: \",len_alphabet)\n",
    "print(alphabet)"
   ]
  },
  {
   "cell_type": "markdown",
   "metadata": {},
   "source": [
    "### Vector Representations"
   ]
  },
  {
   "cell_type": "code",
   "execution_count": 25,
   "metadata": {},
   "outputs": [],
   "source": [
    "language_to_index = {country:index for index,country in enumerate(names.lang.unique())}\n",
    "index_to_language = {index:country for index,country in enumerate(names.lang.unique())}\n",
    "\n",
    "def onehot(i, length):\n",
    "    v = np.zeros(length);\n",
    "    v[i] = 1\n",
    "    return v\n",
    "\n",
    "def name_representation(name, maxlen):\n",
    "    ### START YOUR CODE\n",
    "    name_trunc = str(name)[0:maxlen]\n",
    "    size = len(char_index)\n",
    "    vector = [onehot(char_index[j], size) for j in str(name)]\n",
    "    # fill the rest with \n",
    "    for k in range(0,maxlen - len(str(name))):\n",
    "        vector.append(onehot(char_index['END'], size))\n",
    "    return vector\n",
    "    ### START YOUR CODE\n",
    "\n",
    "def lang_representation(language, language_to_index):\n",
    "    y = np.zeros(len(language_to_index))\n",
    "    y[language_to_index[language]]=1\n",
    "    return y\n",
    "\n",
    "def lang_from_output(score):\n",
    "    return index_to_language[np.argmax(score)]\n",
    "\n",
    "def predict(name, model):\n",
    "    score = model.predict(np.array([name_representation(name, maxlen)]))[0]\n",
    "    return lang_from_output(score)"
   ]
  },
  {
   "cell_type": "code",
   "execution_count": 26,
   "metadata": {},
   "outputs": [
    {
     "name": "stdout",
     "output_type": "stream",
     "text": [
      "[0. 0. 0. 0. 1.]\n"
     ]
    }
   ],
   "source": [
    "print(lang_representation(\"French\",language_to_index))"
   ]
  },
  {
   "cell_type": "markdown",
   "metadata": {},
   "source": [
    "### Prepare train/test"
   ]
  },
  {
   "cell_type": "code",
   "execution_count": 27,
   "metadata": {},
   "outputs": [],
   "source": [
    "msk = np.random.rand(len(names)) < 0.8\n",
    "train = names[msk]\n",
    "test = names[~msk]"
   ]
  },
  {
   "cell_type": "code",
   "execution_count": 28,
   "metadata": {},
   "outputs": [
    {
     "name": "stdout",
     "output_type": "stream",
     "text": [
      "(4491, 18, 75) (4491, 5)\n"
     ]
    }
   ],
   "source": [
    "X_train = []\n",
    "Y_train = []\n",
    "for name in train.name:\n",
    "    X_train.append(name_representation(name,maxlen))\n",
    "for lang in train.lang:\n",
    "    Y_train.append(lang_representation(lang, language_to_index))\n",
    "\n",
    "X_train = np.asarray(X_train)\n",
    "Y_train = np.asarray(Y_train)\n",
    "print(X_train.shape,Y_train.shape) "
   ]
  },
  {
   "cell_type": "code",
   "execution_count": 29,
   "metadata": {},
   "outputs": [
    {
     "name": "stdout",
     "output_type": "stream",
     "text": [
      "(1185, 18, 75) (1185, 5)\n"
     ]
    }
   ],
   "source": [
    "X_test = []\n",
    "Y_test = []\n",
    "for name in test.name:\n",
    "    X_test.append(name_representation(name,maxlen))\n",
    "for lang in test.lang:\n",
    "    Y_test.append(lang_representation(lang, language_to_index))\n",
    "        \n",
    "X_test = np.asarray(X_test)\n",
    "Y_test = np.asarray(Y_test)\n",
    "print(X_test.shape,Y_test.shape) "
   ]
  },
  {
   "cell_type": "markdown",
   "metadata": {},
   "source": [
    "### Utility"
   ]
  },
  {
   "cell_type": "code",
   "execution_count": 30,
   "metadata": {},
   "outputs": [],
   "source": [
    "def performance_plots(model, X_test, Y_test, log, epochs):    \n",
    "    acc = log.history['accuracy']\n",
    "    val_acc = log.history['val_accuracy']\n",
    "    print('Train accuracy (max):', acc[-1])\n",
    "    print('Train accuracy (end):', np.max(acc))\n",
    "    print('Test accuracy (end) :', val_acc[-1])\n",
    "    print('Test accuracy (end) :', np.max(val_acc))\n",
    "\n",
    "    plt.plot(log.history['accuracy'])\n",
    "    plt.plot(log.history['val_accuracy'])\n",
    "    plt.title('model accuracy')\n",
    "    plt.ylabel('accuracy')\n",
    "    plt.xlabel('epoch')\n",
    "    plt.legend(['train','test'], loc='upper left')\n",
    "    plt.axis([0,epochs,0.0,1.0])\n",
    "    plt.show()\n",
    "\n",
    "    plt.plot(log.history['loss'])\n",
    "    plt.plot(log.history['val_loss'])\n",
    "    plt.title('model loss')\n",
    "    plt.ylabel('loss')\n",
    "    plt.xlabel('epoch')\n",
    "    plt.legend(['train','test'], loc = 'upper left')\n",
    "    plt.axis([0,epochs,0.0,2.0])\n",
    "    plt.show()"
   ]
  },
  {
   "cell_type": "markdown",
   "metadata": {},
   "source": [
    "### Define and Train the Model\n",
    "\n",
    "Create an RNN consisting of a single layer with a SimpleRNN (keras) and a softmax.\n",
    "\n",
    "Then train the model. Play with different number of hidden units in the layer to obtain a good accuracy."
   ]
  },
  {
   "cell_type": "code",
   "execution_count": 35,
   "metadata": {},
   "outputs": [
    {
     "data": {
      "text/plain": [
       "(4491, 18, 75)"
      ]
     },
     "execution_count": 35,
     "metadata": {},
     "output_type": "execute_result"
    }
   ],
   "source": [
    "X_train.shape"
   ]
  },
  {
   "cell_type": "code",
   "execution_count": 83,
   "metadata": {
    "scrolled": true
   },
   "outputs": [
    {
     "name": "stdout",
     "output_type": "stream",
     "text": [
      "Model: \"sequential_13\"\n",
      "_________________________________________________________________\n",
      "Layer (type)                 Output Shape              Param #   \n",
      "=================================================================\n",
      "simple_rnn_13 (SimpleRNN)    (None, 128)               26112     \n",
      "_________________________________________________________________\n",
      "dense_13 (Dense)             (None, 5)                 645       \n",
      "=================================================================\n",
      "Total params: 26,757\n",
      "Trainable params: 26,757\n",
      "Non-trainable params: 0\n",
      "_________________________________________________________________\n"
     ]
    }
   ],
   "source": [
    "### START YOUR CODE\n",
    "### START YOUR CODE\n",
    "n_languages = len(np.unique(names.lang))\n",
    "n_hidden = 128\n",
    "nepochs=20\n",
    "model = Sequential([\n",
    "    SimpleRNN(n_hidden, input_shape=(18, 75)),\n",
    "    Dense(n_languages, activation='softmax')\n",
    "])\n",
    "\n",
    "model.compile(loss='categorical_crossentropy', optimizer='adam', metrics=['accuracy'])\n",
    "\n",
    "### END YOUR CODE\n",
    "model.summary()\n",
    "### END YOUR CODE"
   ]
  },
  {
   "cell_type": "code",
   "execution_count": 84,
   "metadata": {},
   "outputs": [
    {
     "name": "stdout",
     "output_type": "stream",
     "text": [
      "Train on 4491 samples, validate on 1185 samples\n",
      "Epoch 1/20\n",
      "4491/4491 [==============================] - 2s 444us/sample - loss: 0.9954 - accuracy: 0.6589 - val_loss: 0.8379 - val_accuracy: 0.6954\n",
      "Epoch 2/20\n",
      "4491/4491 [==============================] - 1s 314us/sample - loss: 0.8089 - accuracy: 0.7136 - val_loss: 0.7623 - val_accuracy: 0.7257\n",
      "Epoch 3/20\n",
      "4491/4491 [==============================] - 1s 246us/sample - loss: 0.7368 - accuracy: 0.7339 - val_loss: 0.7664 - val_accuracy: 0.7300\n",
      "Epoch 4/20\n",
      "4491/4491 [==============================] - 1s 244us/sample - loss: 0.6871 - accuracy: 0.7522 - val_loss: 0.7413 - val_accuracy: 0.7241\n",
      "Epoch 5/20\n",
      "4491/4491 [==============================] - 1s 243us/sample - loss: 0.6675 - accuracy: 0.7640 - val_loss: 0.7210 - val_accuracy: 0.7316\n",
      "Epoch 6/20\n",
      "4491/4491 [==============================] - 1s 245us/sample - loss: 0.6390 - accuracy: 0.7733 - val_loss: 0.6723 - val_accuracy: 0.7536\n",
      "Epoch 7/20\n",
      "4491/4491 [==============================] - 1s 246us/sample - loss: 0.6120 - accuracy: 0.7791 - val_loss: 0.7276 - val_accuracy: 0.7603\n",
      "Epoch 8/20\n",
      "4491/4491 [==============================] - 1s 243us/sample - loss: 0.5811 - accuracy: 0.7889 - val_loss: 0.6795 - val_accuracy: 0.7485\n",
      "Epoch 9/20\n",
      "4491/4491 [==============================] - 1s 246us/sample - loss: 0.5443 - accuracy: 0.8029 - val_loss: 0.6935 - val_accuracy: 0.7553\n",
      "Epoch 10/20\n",
      "4491/4491 [==============================] - 1s 248us/sample - loss: 0.5023 - accuracy: 0.8138 - val_loss: 0.6953 - val_accuracy: 0.7494\n",
      "Epoch 11/20\n",
      "4491/4491 [==============================] - 1s 299us/sample - loss: 0.4998 - accuracy: 0.8152 - val_loss: 0.6508 - val_accuracy: 0.7646\n",
      "Epoch 12/20\n",
      "4491/4491 [==============================] - 1s 250us/sample - loss: 0.4719 - accuracy: 0.8265 - val_loss: 0.6797 - val_accuracy: 0.7696\n",
      "Epoch 13/20\n",
      "4491/4491 [==============================] - 1s 267us/sample - loss: 0.4336 - accuracy: 0.8417 - val_loss: 0.6437 - val_accuracy: 0.7679\n",
      "Epoch 14/20\n",
      "4491/4491 [==============================] - 1s 247us/sample - loss: 0.4045 - accuracy: 0.8533 - val_loss: 0.7024 - val_accuracy: 0.7662\n",
      "Epoch 15/20\n",
      "4491/4491 [==============================] - 1s 248us/sample - loss: 0.3895 - accuracy: 0.8597 - val_loss: 0.6696 - val_accuracy: 0.7494\n",
      "Epoch 16/20\n",
      "4491/4491 [==============================] - 1s 245us/sample - loss: 0.3658 - accuracy: 0.8675 - val_loss: 0.7022 - val_accuracy: 0.7637\n",
      "Epoch 17/20\n",
      "4491/4491 [==============================] - 1s 267us/sample - loss: 0.3499 - accuracy: 0.8735 - val_loss: 0.7229 - val_accuracy: 0.7629\n",
      "Epoch 18/20\n",
      "4491/4491 [==============================] - 1s 249us/sample - loss: 0.3262 - accuracy: 0.8780 - val_loss: 0.7970 - val_accuracy: 0.7359\n",
      "Epoch 19/20\n",
      "4491/4491 [==============================] - 1s 245us/sample - loss: 0.3558 - accuracy: 0.8617 - val_loss: 0.7483 - val_accuracy: 0.7730\n",
      "Epoch 20/20\n",
      "4491/4491 [==============================] - 1s 248us/sample - loss: 0.2984 - accuracy: 0.8878 - val_loss: 0.7519 - val_accuracy: 0.7612\n"
     ]
    }
   ],
   "source": [
    "### START YOUR CODE\n",
    "log = model.fit(X_train, Y_train, epochs=nepochs, validation_data=(X_test, Y_test))\n",
    "### END YOUR CODE"
   ]
  },
  {
   "cell_type": "code",
   "execution_count": 85,
   "metadata": {},
   "outputs": [
    {
     "name": "stdout",
     "output_type": "stream",
     "text": [
      "Train accuracy (max): 0.88777554\n",
      "Train accuracy (end): 0.88777554\n",
      "Test accuracy (end) : 0.7611814\n",
      "Test accuracy (end) : 0.77299577\n"
     ]
    },
    {
     "data": {
      "image/png": "[encoded data removed]",
      "text/plain": [
       "<Figure size 432x288 with 1 Axes>"
      ]
     },
     "metadata": {
      "needs_background": "light"
     },
     "output_type": "display_data"
    },
    {
     "data": {
      "image/png": "[encoded data removed]",
      "text/plain": [
       "<Figure size 432x288 with 1 Axes>"
      ]
     },
     "metadata": {
      "needs_background": "light"
     },
     "output_type": "display_data"
    }
   ],
   "source": [
    "performance_plots(model, X_test, Y_test, log, nepochs)"
   ]
  },
  {
   "cell_type": "markdown",
   "metadata": {},
   "source": [
    "### Confusion matrix\n",
    "\n",
    "Compute the confusion matrix and jduge for which languages the names are hard to classify. "
   ]
  },
  {
   "cell_type": "code",
   "execution_count": 86,
   "metadata": {},
   "outputs": [
    {
     "name": "stdout",
     "output_type": "stream",
     "text": [
      "[[ 89   5   3  74   5]\n",
      " [  5  20  15   7   2]\n",
      " [  4  12 103  27   3]\n",
      " [ 30  17  20 682  14]\n",
      " [  6   2   4  28   8]]\n"
     ]
    }
   ],
   "source": [
    "### START YOUR CODE\n",
    "from sklearn.metrics import confusion_matrix\n",
    "y_pred = np.argmax(model.predict(X_test), axis=1)\n",
    "cm = confusion_matrix(np.argmax(Y_test, axis=1), y_pred)\n",
    "### END YOUR CODE\n",
    "print(cm)"
   ]
  },
  {
   "cell_type": "code",
   "execution_count": 88,
   "metadata": {},
   "outputs": [
    {
     "data": {
      "image/png": "[encoded data removed]",
      "text/plain": [
       "<Figure size 432x288 with 2 Axes>"
      ]
     },
     "metadata": {
      "needs_background": "light"
     },
     "output_type": "display_data"
    }
   ],
   "source": [
    "# Set up plot\n",
    "fig = plt.figure()\n",
    "ax = fig.add_subplot(111)\n",
    "cax = ax.matshow(cm)\n",
    "fig.colorbar(cax)\n",
    "\n",
    "# Set up axes\n",
    "ax.set_xticklabels([''] + languages, rotation=90)\n",
    "ax.set_yticklabels([''] + languages)\n",
    "\n",
    "# Force label at every tick\n",
    "ax.xaxis.set_major_locator(ticker.MultipleLocator(1))\n",
    "ax.yaxis.set_major_locator(ticker.MultipleLocator(1))\n",
    "\n",
    "# sphinx_gallery_thumbnail_number = 2\n",
    "plt.show()"
   ]
  },
  {
   "cell_type": "code",
   "execution_count": null,
   "metadata": {},
   "outputs": [],
   "source": []
  }
 ],
 "metadata": {
  "kernelspec": {
   "display_name": "Python 3",
   "language": "python",
   "name": "python3"
  },
  "language_info": {
   "codemirror_mode": {
    "name": "ipython",
    "version": 3
   },
   "file_extension": ".py",
   "mimetype": "text/x-python",
   "name": "python",
   "nbconvert_exporter": "python",
   "pygments_lexer": "ipython3",
   "version": "3.6.8"
  }
 },
 "nbformat": 4,
 "nbformat_minor": 4
}
