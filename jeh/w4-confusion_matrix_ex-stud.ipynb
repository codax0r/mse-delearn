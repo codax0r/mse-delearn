{
 "cells": [
  {
   "cell_type": "markdown",
   "metadata": {},
   "source": [
    "Hand-In of Group 13, Jonathan Ehrengruber (jonathan.ehrengruber@students.fhnw.ch), Christian Renold (christian.renold@hslu.ch)"
   ]
  },
  {
   "cell_type": "markdown",
   "metadata": {},
   "source": [
    "# Exercise 1 Confusion Matrix"
   ]
  },
  {
   "cell_type": "code",
   "execution_count": 2,
   "metadata": {},
   "outputs": [],
   "source": [
    "import pandas as pd\n",
    "import numpy as np\n",
    "import matplotlib.pyplot as plt\n",
    "\n",
    "%matplotlib inline"
   ]
  },
  {
   "cell_type": "markdown",
   "metadata": {},
   "source": [
    "### a) Load first dataset  - Scores"
   ]
  },
  {
   "cell_type": "code",
   "execution_count": 3,
   "metadata": {},
   "outputs": [
    {
     "data": {
      "text/html": [
       "<div>\n",
       "<style scoped>\n",
       "    .dataframe tbody tr th:only-of-type {\n",
       "        vertical-align: middle;\n",
       "    }\n",
       "\n",
       "    .dataframe tbody tr th {\n",
       "        vertical-align: top;\n",
       "    }\n",
       "\n",
       "    .dataframe thead th {\n",
       "        text-align: right;\n",
       "    }\n",
       "</style>\n",
       "<table border=\"1\" class=\"dataframe\">\n",
       "  <thead>\n",
       "    <tr style=\"text-align: right;\">\n",
       "      <th></th>\n",
       "      <th>0</th>\n",
       "      <th>1</th>\n",
       "      <th>2</th>\n",
       "      <th>3</th>\n",
       "      <th>4</th>\n",
       "      <th>5</th>\n",
       "      <th>6</th>\n",
       "      <th>7</th>\n",
       "      <th>8</th>\n",
       "      <th>9</th>\n",
       "      <th>y_true</th>\n",
       "    </tr>\n",
       "  </thead>\n",
       "  <tbody>\n",
       "    <tr>\n",
       "      <td>0</td>\n",
       "      <td>5.348450e-08</td>\n",
       "      <td>7.493480e-10</td>\n",
       "      <td>8.083470e-07</td>\n",
       "      <td>2.082290e-05</td>\n",
       "      <td>5.222360e-10</td>\n",
       "      <td>2.330260e-08</td>\n",
       "      <td>5.241270e-12</td>\n",
       "      <td>9.999650e-01</td>\n",
       "      <td>4.808590e-07</td>\n",
       "      <td>0.000013</td>\n",
       "      <td>7</td>\n",
       "    </tr>\n",
       "    <tr>\n",
       "      <td>1</td>\n",
       "      <td>1.334270e-03</td>\n",
       "      <td>3.202960e-05</td>\n",
       "      <td>8.504280e-01</td>\n",
       "      <td>1.669090e-03</td>\n",
       "      <td>1.546460e-07</td>\n",
       "      <td>2.412940e-04</td>\n",
       "      <td>1.448280e-01</td>\n",
       "      <td>1.122810e-11</td>\n",
       "      <td>1.456330e-03</td>\n",
       "      <td>0.000011</td>\n",
       "      <td>2</td>\n",
       "    </tr>\n",
       "    <tr>\n",
       "      <td>2</td>\n",
       "      <td>3.643050e-06</td>\n",
       "      <td>9.962760e-01</td>\n",
       "      <td>2.045910e-03</td>\n",
       "      <td>4.210530e-04</td>\n",
       "      <td>2.194020e-05</td>\n",
       "      <td>1.644130e-05</td>\n",
       "      <td>2.838160e-04</td>\n",
       "      <td>3.722960e-04</td>\n",
       "      <td>5.150120e-04</td>\n",
       "      <td>0.000044</td>\n",
       "      <td>1</td>\n",
       "    </tr>\n",
       "    <tr>\n",
       "      <td>3</td>\n",
       "      <td>9.998200e-01</td>\n",
       "      <td>2.550390e-10</td>\n",
       "      <td>1.112010e-05</td>\n",
       "      <td>1.653200e-05</td>\n",
       "      <td>5.375730e-10</td>\n",
       "      <td>8.999750e-05</td>\n",
       "      <td>9.380920e-06</td>\n",
       "      <td>4.464470e-05</td>\n",
       "      <td>2.418440e-06</td>\n",
       "      <td>0.000006</td>\n",
       "      <td>0</td>\n",
       "    </tr>\n",
       "    <tr>\n",
       "      <td>4</td>\n",
       "      <td>2.092460e-08</td>\n",
       "      <td>7.464220e-08</td>\n",
       "      <td>3.560820e-05</td>\n",
       "      <td>5.496200e-07</td>\n",
       "      <td>9.988960e-01</td>\n",
       "      <td>3.070920e-08</td>\n",
       "      <td>2.346150e-04</td>\n",
       "      <td>9.748010e-07</td>\n",
       "      <td>1.071610e-06</td>\n",
       "      <td>0.000831</td>\n",
       "      <td>4</td>\n",
       "    </tr>\n",
       "  </tbody>\n",
       "</table>\n",
       "</div>"
      ],
      "text/plain": [
       "              0             1             2             3             4  \\\n",
       "0  5.348450e-08  7.493480e-10  8.083470e-07  2.082290e-05  5.222360e-10   \n",
       "1  1.334270e-03  3.202960e-05  8.504280e-01  1.669090e-03  1.546460e-07   \n",
       "2  3.643050e-06  9.962760e-01  2.045910e-03  4.210530e-04  2.194020e-05   \n",
       "3  9.998200e-01  2.550390e-10  1.112010e-05  1.653200e-05  5.375730e-10   \n",
       "4  2.092460e-08  7.464220e-08  3.560820e-05  5.496200e-07  9.988960e-01   \n",
       "\n",
       "              5             6             7             8         9  y_true  \n",
       "0  2.330260e-08  5.241270e-12  9.999650e-01  4.808590e-07  0.000013       7  \n",
       "1  2.412940e-04  1.448280e-01  1.122810e-11  1.456330e-03  0.000011       2  \n",
       "2  1.644130e-05  2.838160e-04  3.722960e-04  5.150120e-04  0.000044       1  \n",
       "3  8.999750e-05  9.380920e-06  4.464470e-05  2.418440e-06  0.000006       0  \n",
       "4  3.070920e-08  2.346150e-04  9.748010e-07  1.071610e-06  0.000831       4  "
      ]
     },
     "execution_count": 3,
     "metadata": {},
     "output_type": "execute_result"
    }
   ],
   "source": [
    "## Note: Adjust data path if needed\n",
    "datapath = '../data/ex1-system-a.csv'\n",
    "datasetA = pd.read_csv(datapath,names=['0','1','2','3','4','5','6','7','8','9','y_true','unused'], sep = \";\")\n",
    "datasetA = datasetA.drop('unused', axis = 1) # drop the last colomn without any information in it.\n",
    "classes_name = ['0','1','2','3','4','5','6','7','8','9']\n",
    "nb_classes = 10\n",
    "datasetA.head()"
   ]
  },
  {
   "cell_type": "code",
   "execution_count": 4,
   "metadata": {},
   "outputs": [],
   "source": [
    "y_true = datasetA['y_true'].values\n",
    "y_scores_A = datasetA[classes_name].values   #isolate the matrix of scores\n",
    "y_pred_A = np.argmax(y_scores_A,axis=1)      #elect winner class"
   ]
  },
  {
   "cell_type": "markdown",
   "metadata": {},
   "source": [
    "### b) What is the overall error rate of the system ?"
   ]
  },
  {
   "cell_type": "code",
   "execution_count": 5,
   "metadata": {},
   "outputs": [
    {
     "name": "stdout",
     "output_type": "stream",
     "text": [
      "overall error rate of the system :  0.10729999999999995\n"
     ]
    }
   ],
   "source": [
    "### START YOUR CODE\n",
    "overall_rate = 1 - (y_true == y_pred_A).sum() / y_true.shape[0]\n",
    "### END YOUR CODE\n",
    "\n",
    "print('overall error rate of the system : ',overall_rate)"
   ]
  },
  {
   "cell_type": "markdown",
   "metadata": {},
   "source": [
    "### c) Compute and report the confusion matrix of the system."
   ]
  },
  {
   "cell_type": "markdown",
   "metadata": {},
   "source": [
    "We create a second one our selfs and ckeck if it is correct with the \"correct\" one from sklearn."
   ]
  },
  {
   "cell_type": "code",
   "execution_count": 39,
   "metadata": {},
   "outputs": [],
   "source": [
    "def confusion_matrix2(y_true,y_pred,nb_classes):\n",
    "    \"\"\"\n",
    "    Arguments:\n",
    "    y_true -- groud truth labels\n",
    "    y_pred -- predicted values\n",
    "    n_classes -- number of classes\n",
    "    \n",
    "    Returns:\n",
    "    the confusion matrix as 2d numpy array \n",
    "    \"\"\"\n",
    "    ### START YOUR CODE\n",
    "    counts = np.zeros((nb_classes, nb_classes))\n",
    "    for i in range(nb_classes):\n",
    "        y_maybe = np.argwhere(y_pred == i)\n",
    "        for j in range(nb_classes):\n",
    "            counts[j, i] = (y_true[y_maybe] == j).sum()\n",
    "    ### END YOUR CODE\n",
    "    return counts"
   ]
  },
  {
   "cell_type": "code",
   "execution_count": 40,
   "metadata": {},
   "outputs": [
    {
     "name": "stdout",
     "output_type": "stream",
     "text": [
      "True\n"
     ]
    }
   ],
   "source": [
    "# TEST - we use the sklearn builit in functionality\n",
    "from sklearn.metrics import confusion_matrix\n",
    "verif_cm = confusion_matrix(y_true,y_pred_A)\n",
    "\n",
    "cm_A = confusion_matrix2(y_true, y_pred_A,nb_classes)\n",
    "# verification for our confusion matrix function\n",
    "print((cm_A == verif_cm).sum() == nb_classes**2)"
   ]
  },
  {
   "cell_type": "markdown",
   "metadata": {},
   "source": [
    "Now we want to plot the confusion matrix."
   ]
  },
  {
   "cell_type": "code",
   "execution_count": 41,
   "metadata": {},
   "outputs": [],
   "source": [
    "def plot_confusion_matrix(cm, classes,\n",
    "                          normalize=False,\n",
    "                          title='Confusion matrix',\n",
    "                          cmap=plt.cm.Blues):\n",
    "    \"\"\"\n",
    "    This function prints and plots the confusion matrix.\n",
    "    Normalization can be applied by setting `normalize=True`.\n",
    "    \"\"\"\n",
    "    plt.imshow(cm, interpolation='nearest', cmap=cmap)\n",
    "    plt.title(title)\n",
    "    plt.colorbar()\n",
    "    tick_marks = np.arange(len(classes))\n",
    "    plt.xticks(tick_marks, classes, rotation=45)\n",
    "    plt.yticks(tick_marks, classes)\n",
    "\n",
    "    if normalize:\n",
    "        cm = cm.astype('float') / cm.sum(axis=1)[:, np.newaxis]\n",
    "\n",
    "    plt.tight_layout()\n",
    "    plt.ylabel('True label')\n",
    "    plt.xlabel('Predicted label')"
   ]
  },
  {
   "cell_type": "code",
   "execution_count": 42,
   "metadata": {},
   "outputs": [
    {
     "data": {
      "image/png": "[encoded data removed]",
      "text/plain": [
       "<Figure size 432x288 with 2 Axes>"
      ]
     },
     "metadata": {
      "needs_background": "light"
     },
     "output_type": "display_data"
    },
    {
     "data": {
      "image/png": "[encoded data removed]",
      "text/plain": [
       "<Figure size 432x288 with 2 Axes>"
      ]
     },
     "metadata": {
      "needs_background": "light"
     },
     "output_type": "display_data"
    }
   ],
   "source": [
    "plt.figure()\n",
    "plot_confusion_matrix(cm_A, classes=classes_name,title='Confusion matrix for System A, without normalization')\n",
    "\n",
    "plt.figure()\n",
    "plot_confusion_matrix(cm_A, classes=classes_name, normalize=True,\n",
    "                      title='Normalized confusion matrix for System B')\n",
    "\n",
    "plt.show()"
   ]
  },
  {
   "cell_type": "markdown",
   "metadata": {},
   "source": [
    "### d) What are the worst and best classes in terms of precision and sensitivity (recall) ?"
   ]
  },
  {
   "cell_type": "code",
   "execution_count": 43,
   "metadata": {},
   "outputs": [],
   "source": [
    "def precision_per_class(cm):\n",
    "    \"\"\"\n",
    "    Aguments:\n",
    "    cm -- confusion matrix\n",
    "    Returns:\n",
    "    Precision per class, i.e. a numpy array of length given by the number of classes\n",
    "    \"\"\"\n",
    "    ### START YOUR CODE  \n",
    "    return np.diag(cm) / cm.sum(axis=0)\n",
    "    ### END YOUR CODE"
   ]
  },
  {
   "cell_type": "code",
   "execution_count": 44,
   "metadata": {},
   "outputs": [],
   "source": [
    "def recall_per_class(cm):\n",
    "    \"\"\"\n",
    "    Aguments:\n",
    "    cm -- confusion matrix\n",
    "    Returns:\n",
    "    Recall per class, i.e. a numpy array of length given by the number of classes\n",
    "    \"\"\"\n",
    "    ### START YOUR CODE  \n",
    "    return np.diag(cm) / cm.sum(axis=1)\n",
    "    ### END YOUR CODE"
   ]
  },
  {
   "cell_type": "code",
   "execution_count": 45,
   "metadata": {},
   "outputs": [],
   "source": [
    "def accuracy_per_class(cm):\n",
    "    \"\"\"\n",
    "    Aguments:\n",
    "    cm -- confusion matrix\n",
    "    Returns:\n",
    "    Recall per class, i.e. a numpy array of length given by the number of classes\n",
    "    \"\"\"\n",
    "    ### START YOUR CODE\n",
    "    diags = np.diag(cm)\n",
    "    n_classes = cm.shape[0]\n",
    "    tns = np.zeros(n_classes)\n",
    "    for i in range(n_classes):\n",
    "        mask = np.zeros(shape=(n_classes, n_classes))\n",
    "        mask[:, i] = 1\n",
    "        mask[1, i] = 1\n",
    "        tns[i] = np.ma.array(cm, mask=mask).sum()\n",
    "    return (tns + diags) / cm.sum()\n",
    "    ### END YOUR CODE"
   ]
  },
  {
   "cell_type": "code",
   "execution_count": 46,
   "metadata": {},
   "outputs": [
    {
     "data": {
      "text/plain": [
       "array([0.9939, 0.995 , 0.9869, 0.9895, 0.9857, 0.9824, 0.9909, 0.9881,\n",
       "       0.9913, 0.989 ])"
      ]
     },
     "execution_count": 46,
     "metadata": {},
     "output_type": "execute_result"
    }
   ],
   "source": [
    "accuracy_per_class(cm_A)"
   ]
  },
  {
   "cell_type": "code",
   "execution_count": 47,
   "metadata": {},
   "outputs": [
    {
     "name": "stdout",
     "output_type": "stream",
     "text": [
      "[0.93930348 0.95697074 0.87547529 0.89141675 0.86419753 0.81355932\n",
      " 0.90481172 0.88645038 0.89871944 0.88469602]\n",
      "best precision class  :  1 [ 0.9569707401032702 ]\n",
      "worst precision class :  5 [ 0.8135593220338984 ]\n"
     ]
    }
   ],
   "source": [
    "precisions = precision_per_class(cm_A)\n",
    "# should return '1' as best (95.7%)\n",
    "# and '5' as worst (81.4%) \n",
    "print(precisions)\n",
    "best_class = np.argmax(precisions)\n",
    "worst_class = np.argmin(precisions)\n",
    "print('best precision class  : ', best_class, '[', precisions[best_class],']')\n",
    "print('worst precision class : ', worst_class, '[', precisions[worst_class],']')"
   ]
  },
  {
   "cell_type": "code",
   "execution_count": 48,
   "metadata": {},
   "outputs": [
    {
     "name": "stdout",
     "output_type": "stream",
     "text": [
      "best recall class  :  1 [ 0.9797356828193833 ]\n",
      "worst recall class :  8 [ 0.7926078028747433 ]\n"
     ]
    }
   ],
   "source": [
    "recalls = recall_per_class(cm_A)\n",
    "# should return '1' as best (97.97%)\n",
    "# and '8' as worst (79.26%) \n",
    "\n",
    "best_class = np.argmax(recalls)\n",
    "worst_class = np.argmin(recalls)\n",
    "print('best recall class  : ', best_class, '[',recalls[best_class],']')\n",
    "print('worst recall class : ', worst_class, '[',recalls[worst_class],']')"
   ]
  },
  {
   "cell_type": "markdown",
   "metadata": {},
   "source": [
    "### e) Load second dataset  - Scores\n",
    "\n",
    "Find the output of a second system B. It contains the same ground truth values - but different predictions.\n",
    "What is the best system between (a) and (b) in terms of error rate and F1."
   ]
  },
  {
   "cell_type": "code",
   "execution_count": 49,
   "metadata": {},
   "outputs": [
    {
     "data": {
      "text/html": [
       "<div>\n",
       "<style scoped>\n",
       "    .dataframe tbody tr th:only-of-type {\n",
       "        vertical-align: middle;\n",
       "    }\n",
       "\n",
       "    .dataframe tbody tr th {\n",
       "        vertical-align: top;\n",
       "    }\n",
       "\n",
       "    .dataframe thead th {\n",
       "        text-align: right;\n",
       "    }\n",
       "</style>\n",
       "<table border=\"1\" class=\"dataframe\">\n",
       "  <thead>\n",
       "    <tr style=\"text-align: right;\">\n",
       "      <th></th>\n",
       "      <th>0</th>\n",
       "      <th>1</th>\n",
       "      <th>2</th>\n",
       "      <th>3</th>\n",
       "      <th>4</th>\n",
       "      <th>5</th>\n",
       "      <th>6</th>\n",
       "      <th>7</th>\n",
       "      <th>8</th>\n",
       "      <th>9</th>\n",
       "      <th>y_true</th>\n",
       "    </tr>\n",
       "  </thead>\n",
       "  <tbody>\n",
       "    <tr>\n",
       "      <td>0</td>\n",
       "      <td>1.675320e-11</td>\n",
       "      <td>2.584750e-11</td>\n",
       "      <td>1.796600e-07</td>\n",
       "      <td>1.229790e-05</td>\n",
       "      <td>6.932370e-16</td>\n",
       "      <td>2.499490e-11</td>\n",
       "      <td>3.506180e-16</td>\n",
       "      <td>9.999870e-01</td>\n",
       "      <td>9.081160e-11</td>\n",
       "      <td>1.482410e-09</td>\n",
       "      <td>7</td>\n",
       "    </tr>\n",
       "    <tr>\n",
       "      <td>1</td>\n",
       "      <td>2.348330e-08</td>\n",
       "      <td>1.081260e-06</td>\n",
       "      <td>9.999700e-01</td>\n",
       "      <td>2.765590e-05</td>\n",
       "      <td>3.209940e-12</td>\n",
       "      <td>4.008910e-09</td>\n",
       "      <td>1.594070e-06</td>\n",
       "      <td>3.191980e-12</td>\n",
       "      <td>1.573330e-07</td>\n",
       "      <td>9.856860e-12</td>\n",
       "      <td>2</td>\n",
       "    </tr>\n",
       "    <tr>\n",
       "      <td>2</td>\n",
       "      <td>5.653110e-09</td>\n",
       "      <td>9.997150e-01</td>\n",
       "      <td>2.231520e-04</td>\n",
       "      <td>6.524200e-06</td>\n",
       "      <td>4.818190e-07</td>\n",
       "      <td>1.273150e-07</td>\n",
       "      <td>2.173000e-06</td>\n",
       "      <td>1.416840e-05</td>\n",
       "      <td>3.833510e-05</td>\n",
       "      <td>6.327910e-08</td>\n",
       "      <td>1</td>\n",
       "    </tr>\n",
       "    <tr>\n",
       "      <td>3</td>\n",
       "      <td>9.999860e-01</td>\n",
       "      <td>1.825320e-10</td>\n",
       "      <td>9.027630e-06</td>\n",
       "      <td>8.147850e-09</td>\n",
       "      <td>7.237800e-12</td>\n",
       "      <td>3.341060e-09</td>\n",
       "      <td>1.152500e-06</td>\n",
       "      <td>3.915740e-06</td>\n",
       "      <td>7.381230e-11</td>\n",
       "      <td>4.782200e-08</td>\n",
       "      <td>0</td>\n",
       "    </tr>\n",
       "    <tr>\n",
       "      <td>4</td>\n",
       "      <td>1.349270e-08</td>\n",
       "      <td>2.039600e-10</td>\n",
       "      <td>3.194220e-07</td>\n",
       "      <td>1.773480e-10</td>\n",
       "      <td>9.996150e-01</td>\n",
       "      <td>1.231720e-08</td>\n",
       "      <td>2.821290e-07</td>\n",
       "      <td>2.402690e-06</td>\n",
       "      <td>1.690530e-08</td>\n",
       "      <td>3.820520e-04</td>\n",
       "      <td>4</td>\n",
       "    </tr>\n",
       "  </tbody>\n",
       "</table>\n",
       "</div>"
      ],
      "text/plain": [
       "              0             1             2             3             4  \\\n",
       "0  1.675320e-11  2.584750e-11  1.796600e-07  1.229790e-05  6.932370e-16   \n",
       "1  2.348330e-08  1.081260e-06  9.999700e-01  2.765590e-05  3.209940e-12   \n",
       "2  5.653110e-09  9.997150e-01  2.231520e-04  6.524200e-06  4.818190e-07   \n",
       "3  9.999860e-01  1.825320e-10  9.027630e-06  8.147850e-09  7.237800e-12   \n",
       "4  1.349270e-08  2.039600e-10  3.194220e-07  1.773480e-10  9.996150e-01   \n",
       "\n",
       "              5             6             7             8             9  \\\n",
       "0  2.499490e-11  3.506180e-16  9.999870e-01  9.081160e-11  1.482410e-09   \n",
       "1  4.008910e-09  1.594070e-06  3.191980e-12  1.573330e-07  9.856860e-12   \n",
       "2  1.273150e-07  2.173000e-06  1.416840e-05  3.833510e-05  6.327910e-08   \n",
       "3  3.341060e-09  1.152500e-06  3.915740e-06  7.381230e-11  4.782200e-08   \n",
       "4  1.231720e-08  2.821290e-07  2.402690e-06  1.690530e-08  3.820520e-04   \n",
       "\n",
       "   y_true  \n",
       "0       7  \n",
       "1       2  \n",
       "2       1  \n",
       "3       0  \n",
       "4       4  "
      ]
     },
     "execution_count": 49,
     "metadata": {},
     "output_type": "execute_result"
    }
   ],
   "source": [
    "datapath = '../data/ex1-system-b.csv'\n",
    "datasetB = pd.read_csv(datapath,names=['0','1','2','3','4','5','6','7','8','9','y_true','unused'], sep = \";\")\n",
    "datasetB = datasetB.drop('unused', axis = 1) # drop the last colomn without any information in it.\n",
    "datasetB.head()"
   ]
  },
  {
   "cell_type": "code",
   "execution_count": 50,
   "metadata": {},
   "outputs": [
    {
     "data": {
      "image/png": "[encoded data removed]",
      "text/plain": [
       "<Figure size 432x288 with 2 Axes>"
      ]
     },
     "metadata": {
      "needs_background": "light"
     },
     "output_type": "display_data"
    },
    {
     "data": {
      "image/png": "[encoded data removed]",
      "text/plain": [
       "<Figure size 432x288 with 2 Axes>"
      ]
     },
     "metadata": {
      "needs_background": "light"
     },
     "output_type": "display_data"
    }
   ],
   "source": [
    "y_true = datasetB['y_true'].values\n",
    "y_scores_B = datasetB[classes_name].values   #isolate the matrix of scores\n",
    "y_pred_B = np.argmax(y_scores_B,axis=1)      #elect winner class\n",
    "\n",
    "cm_B = confusion_matrix2(y_true,y_pred_B,nb_classes)\n",
    "\n",
    "plt.figure()\n",
    "plot_confusion_matrix(cm_B, classes=classes_name,title='Confusion matrix for System B, without normalization')\n",
    "\n",
    "plt.figure()\n",
    "plot_confusion_matrix(cm_B, classes=classes_name, normalize=True,\n",
    "                      title='Normalized confusion matrix for System B')\n",
    "\n",
    "plt.show()"
   ]
  },
  {
   "cell_type": "code",
   "execution_count": 51,
   "metadata": {},
   "outputs": [],
   "source": [
    "def system_precision(cm):\n",
    "    ### START YOUR CODE\n",
    "    return precision_per_class(cm).mean(axis=0)\n",
    "    ### END YOUR CODE\n",
    "\n",
    "def system_recall(cm):\n",
    "    ### START YOUR CODE\n",
    "    return recall_per_class(cm).mean(axis=0)\n",
    "    ### END YOUR CODE\n",
    "    \n",
    "def system_accuracy(cm, per_class_avg=False):\n",
    "    ### START YOUR CODE\n",
    "    if not per_class_avg:\n",
    "        class_acc = np.diag(cm) / cm.sum()\n",
    "        return class_acc.mean(axis=0)\n",
    "        \n",
    "    else:\n",
    "        return accuracy_per_class.mean(axis=0)\n",
    "    ### END YOUR CODE\n",
    "    \n",
    "def system_f1_score(cm):\n",
    "    ### START YOUR CODE\n",
    "    sys_prec = system_precision(cm)\n",
    "    sys_rec = system_recall(cm)\n",
    "    return 1/ (0.5 * ((1/sys_prec) + (1/sys_rec)))\n",
    "    ### END YOUR CODE"
   ]
  },
  {
   "cell_type": "code",
   "execution_count": 52,
   "metadata": {},
   "outputs": [],
   "source": [
    "from sklearn.metrics import recall_score, precision_score, f1_score, accuracy_score"
   ]
  },
  {
   "cell_type": "code",
   "execution_count": 53,
   "metadata": {},
   "outputs": [
    {
     "data": {
      "text/plain": [
       "0.8915600668746141"
      ]
     },
     "execution_count": 53,
     "metadata": {},
     "output_type": "execute_result"
    }
   ],
   "source": [
    "system_precision(cm_A)"
   ]
  },
  {
   "cell_type": "code",
   "execution_count": 54,
   "metadata": {},
   "outputs": [
    {
     "data": {
      "text/plain": [
       "0.8915600668746141"
      ]
     },
     "execution_count": 54,
     "metadata": {},
     "output_type": "execute_result"
    }
   ],
   "source": [
    "precision_score(y_true, y_pred_A, average='macro').mean()"
   ]
  },
  {
   "cell_type": "code",
   "execution_count": 55,
   "metadata": {},
   "outputs": [
    {
     "data": {
      "text/plain": [
       "0.8912273798308427"
      ]
     },
     "execution_count": 55,
     "metadata": {},
     "output_type": "execute_result"
    }
   ],
   "source": [
    "system_recall(cm_A)"
   ]
  },
  {
   "cell_type": "code",
   "execution_count": 56,
   "metadata": {},
   "outputs": [
    {
     "data": {
      "text/plain": [
       "0.8912273798308427"
      ]
     },
     "execution_count": 56,
     "metadata": {},
     "output_type": "execute_result"
    }
   ],
   "source": [
    "recall_score(y_true, y_pred_A, average='macro').mean()"
   ]
  },
  {
   "cell_type": "code",
   "execution_count": 57,
   "metadata": {},
   "outputs": [
    {
     "data": {
      "text/plain": [
       "array([[False,  True, False, False,  True,  True, False, False, False,\n",
       "        False],\n",
       "       [ True, False, False, False, False, False, False,  True, False,\n",
       "         True],\n",
       "       [False, False, False, False, False, False, False, False, False,\n",
       "        False],\n",
       "       [False, False, False, False, False, False, False, False, False,\n",
       "        False],\n",
       "       [False, False, False, False, False,  True, False, False, False,\n",
       "        False],\n",
       "       [False, False, False, False, False, False, False, False, False,\n",
       "        False],\n",
       "       [False,  True, False, False, False, False, False, False, False,\n",
       "         True],\n",
       "       [ True, False, False, False, False, False, False, False, False,\n",
       "        False],\n",
       "       [False, False, False, False, False, False, False, False, False,\n",
       "        False],\n",
       "       [False,  True, False, False, False, False, False, False, False,\n",
       "        False]])"
      ]
     },
     "execution_count": 57,
     "metadata": {},
     "output_type": "execute_result"
    }
   ],
   "source": [
    "cm_A == cm_B"
   ]
  },
  {
   "cell_type": "code",
   "execution_count": 58,
   "metadata": {},
   "outputs": [
    {
     "name": "stdout",
     "output_type": "stream",
     "text": [
      "System A\n",
      "\trecall :  0.8912273798308427 \n",
      "\tprecision :  0.8915600668746141 \n",
      "\taccuracy :  0.08927000000000002 \n",
      "\tf1-score :  0.891393692311263\n",
      "System B\n",
      "\trecall :  0.9606010166497849 \n",
      "\tprecision :  0.9614321332658988 \n",
      "\taccuracy :  0.09613 \n",
      "\tf1-score :  0.9610163952640551\n"
     ]
    }
   ],
   "source": [
    "print('System A\\n\\trecall : ',system_recall(cm_A),'\\n\\tprecision : ',system_precision(cm_A),'\\n\\taccuracy : ',system_accuracy(cm_A),'\\n\\tf1-score : ',system_f1_score(cm_A))\n",
    "print('System B\\n\\trecall : ',system_recall(cm_B),'\\n\\tprecision : ',system_precision(cm_B),'\\n\\taccuracy : ',system_accuracy(cm_B),'\\n\\tf1-score : ',system_f1_score(cm_B))"
   ]
  },
  {
   "cell_type": "code",
   "execution_count": 59,
   "metadata": {},
   "outputs": [
    {
     "data": {
      "text/plain": [
       "0.9606010166497849"
      ]
     },
     "execution_count": 59,
     "metadata": {},
     "output_type": "execute_result"
    }
   ],
   "source": [
    "recall_score(y_true, y_pred_B, average='macro').mean()"
   ]
  },
  {
   "cell_type": "code",
   "execution_count": 28,
   "metadata": {},
   "outputs": [
    {
     "data": {
      "text/plain": [
       "0.9614321332658988"
      ]
     },
     "execution_count": 28,
     "metadata": {},
     "output_type": "execute_result"
    }
   ],
   "source": [
    "precision_score(y_true, y_pred_B, average='macro').mean()"
   ]
  },
  {
   "cell_type": "markdown",
   "metadata": {},
   "source": [
    "Optional: check with the recall_score and precision_score function of SciKit Learn ```from sklearn.metrics import recall_score, precision_score``` that you obtain correct recall and precision values (use the argument ```average=\"macro\"```)."
   ]
  }
 ],
 "metadata": {
  "kernelspec": {
   "display_name": "Python 3",
   "language": "python",
   "name": "python3"
  },
  "language_info": {
   "codemirror_mode": {
    "name": "ipython",
    "version": 3
   },
   "file_extension": ".py",
   "mimetype": "text/x-python",
   "name": "python",
   "nbconvert_exporter": "python",
   "pygments_lexer": "ipython3",
   "version": "3.6.8"
  }
 },
 "nbformat": 4,
 "nbformat_minor": 2
}
