{
 "cells": [
  {
   "cell_type": "code",
   "execution_count": 1,
   "metadata": {},
   "outputs": [],
   "source": [
    "from matplotlib import pyplot as plt\n",
    "import numpy as np\n",
    "import gzip\n",
    "from sklearn.preprocessing import StandardScaler\n",
    "from sklearn.svm import SVC\n",
    "from sklearn import metrics\n",
    "import tensorflow as tf\n",
    "from tensorflow.keras.models import Sequential, Model\n",
    "from tensorflow.keras.layers import Input, Conv2D, MaxPooling2D, UpSampling2D\n",
    "from tensorflow.keras.layers import Dense, Dropout, Flatten, Activation\n",
    "from tensorflow.keras.optimizers import RMSprop\n",
    "from tensorflow.keras import utils\n",
    "\n",
    "%matplotlib inline"
   ]
  },
  {
   "cell_type": "code",
   "execution_count": 2,
   "metadata": {},
   "outputs": [],
   "source": [
    "def extract_data(filename, num_images):\n",
    "    with gzip.open(filename) as bytestream:\n",
    "        bytestream.read(16)\n",
    "        buf = bytestream.read(28 * 28 * num_images)\n",
    "        data = np.frombuffer(buf, dtype=np.uint8).astype(np.float32)\n",
    "        data = data.reshape(num_images, 28,28)\n",
    "        return data\n",
    "\n",
    "def extract_labels(filename, num_images):\n",
    "    with gzip.open(filename) as bytestream:\n",
    "        bytestream.read(8)\n",
    "        buf = bytestream.read(1 * num_images)\n",
    "        labels = np.frombuffer(buf, dtype=np.uint8).astype(np.int64)\n",
    "        return labels\n",
    "\n",
    "# Create dictionary of target classes\n",
    "label_dict = {\n",
    " 0: 'A',\n",
    " 1: 'B',\n",
    " 2: 'C',\n",
    " 3: 'D',\n",
    " 4: 'E',\n",
    " 5: 'F',\n",
    " 6: 'G',\n",
    " 7: 'H',\n",
    " 8: 'I',\n",
    " 9: 'J',\n",
    "}"
   ]
  },
  {
   "cell_type": "code",
   "execution_count": 3,
   "metadata": {},
   "outputs": [
    {
     "name": "stdout",
     "output_type": "stream",
     "text": [
      "[[0. 0. 0. 0. 0. 1. 0. 0. 0. 0.]\n",
      " [0. 0. 0. 0. 0. 1. 0. 0. 0. 0.]\n",
      " [0. 0. 0. 0. 0. 0. 1. 0. 0. 0.]\n",
      " [0. 0. 0. 0. 0. 0. 0. 0. 1. 0.]\n",
      " [0. 0. 0. 0. 0. 1. 0. 0. 0. 0.]\n",
      " [0. 0. 0. 0. 0. 0. 0. 0. 0. 1.]\n",
      " [0. 0. 0. 0. 0. 0. 0. 1. 0. 0.]\n",
      " [0. 0. 1. 0. 0. 0. 0. 0. 0. 0.]\n",
      " [0. 0. 0. 0. 0. 0. 0. 0. 1. 0.]\n",
      " [0. 0. 0. 0. 0. 0. 1. 0. 0. 0.]]\n"
     ]
    }
   ],
   "source": [
    "# Adjust data path:\n",
    "data_path = '../../data/notmnist/'\n",
    "\n",
    "train_data = extract_data(data_path+'train-images-idx3-ubyte.gz', 6000)\n",
    "test_data = extract_data(data_path+'t10k-images-idx3-ubyte.gz', 1000)\n",
    "\n",
    "train_labels = extract_labels(data_path+'train-labels-idx1-ubyte.gz',6000)\n",
    "test_labels = extract_labels(data_path+'t10k-labels-idx1-ubyte.gz',1000)\n",
    "\n",
    "X_train = train_data.reshape(-1, 28,28, 1)  # add grey channel\n",
    "X_test = test_data.reshape(-1, 28,28, 1)\n",
    "\n",
    "n_classes = 10\n",
    "Y_train = utils.to_categorical(train_labels, n_classes) # 1-hot\n",
    "Y_test = utils.to_categorical(test_labels, n_classes)\n",
    "print(Y_train[:10])"
   ]
  },
  {
   "cell_type": "code",
   "execution_count": 4,
   "metadata": {},
   "outputs": [
    {
     "name": "stdout",
     "output_type": "stream",
     "text": [
      "Training set (images) shape: (6000, 28, 28, 1)\n",
      "Test set (images) shape: (1000, 28, 28, 1)\n",
      "data type:  float32 float32\n"
     ]
    }
   ],
   "source": [
    "# Shape of training set\n",
    "print(\"Training set (images) shape: {shape}\".format(shape=X_train.shape))\n",
    "# Shape of test set\n",
    "print(\"Test set (images) shape: {shape}\".format(shape=X_test.shape))\n",
    "# Type of data - should be float32\n",
    "print('data type: ', X_train.dtype, X_test.dtype)"
   ]
  },
  {
   "cell_type": "code",
   "execution_count": 5,
   "metadata": {},
   "outputs": [
    {
     "data": {
      "text/plain": [
       "Text(0.5, 1.0, '(Label: I)')"
      ]
     },
     "execution_count": 5,
     "metadata": {},
     "output_type": "execute_result"
    },
    {
     "data": {
      "image/png": "[encoded data removed]",
      "text/plain": [
       "<Figure size 432x288 with 2 Axes>"
      ]
     },
     "metadata": {
      "needs_background": "light"
     },
     "output_type": "display_data"
    }
   ],
   "source": [
    "# Display the first image in training data\n",
    "plt.subplot(121)\n",
    "curr_img = np.reshape(X_train[0], (28,28))\n",
    "curr_lbl = train_labels[0]\n",
    "plt.imshow(curr_img, cmap='gray')\n",
    "plt.title(\"(Label: \" + str(label_dict[curr_lbl]) + \")\")\n",
    "\n",
    "# Display the first image in testing data\n",
    "plt.subplot(122)\n",
    "curr_img = np.reshape(X_test[0], (28,28))\n",
    "curr_lbl = test_labels[0]\n",
    "plt.imshow(curr_img, cmap='gray')\n",
    "plt.title(\"(Label: \" + str(label_dict[curr_lbl]) + \")\")"
   ]
  },
  {
   "cell_type": "code",
   "execution_count": 6,
   "metadata": {},
   "outputs": [],
   "source": [
    "# rescale the data in range 0-1\n",
    "X_train = X_train / 255.0\n",
    "X_test = X_test / 255.0"
   ]
  },
  {
   "cell_type": "markdown",
   "metadata": {},
   "source": [
    "## Create a shallow MLP encoder"
   ]
  },
  {
   "cell_type": "code",
   "execution_count": 7,
   "metadata": {},
   "outputs": [
    {
     "data": {
      "text/plain": [
       "(6000, 28, 28, 1)"
      ]
     },
     "execution_count": 7,
     "metadata": {},
     "output_type": "execute_result"
    }
   ],
   "source": [
    "X_train.shape"
   ]
  },
  {
   "cell_type": "code",
   "execution_count": 8,
   "metadata": {},
   "outputs": [
    {
     "data": {
      "text/plain": [
       "784"
      ]
     },
     "execution_count": 8,
     "metadata": {},
     "output_type": "execute_result"
    }
   ],
   "source": [
    "28 * 28"
   ]
  },
  {
   "cell_type": "code",
   "execution_count": 9,
   "metadata": {},
   "outputs": [
    {
     "name": "stdout",
     "output_type": "stream",
     "text": [
      "Model: \"model\"\n",
      "_________________________________________________________________\n",
      "Layer (type)                 Output Shape              Param #   \n",
      "=================================================================\n",
      "input_1 (InputLayer)         [(None, 784)]             0         \n",
      "_________________________________________________________________\n",
      "dense (Dense)                (None, 32)                25120     \n",
      "_________________________________________________________________\n",
      "dense_1 (Dense)              (None, 784)               25872     \n",
      "=================================================================\n",
      "Total params: 50,992\n",
      "Trainable params: 50,992\n",
      "Non-trainable params: 0\n",
      "_________________________________________________________________\n"
     ]
    }
   ],
   "source": [
    "# STARTING FROM HERE, COMPLETE THE CODE WHERE YOU SEE ...\n",
    "# size of our encoded representation\n",
    "encoding_dim = 32  # this is the number of neurons you chose to encode\n",
    "\n",
    "# define input layer, encoded layer and decoded layer\n",
    "input_img = Input(shape=(784))\n",
    "encoded = Dense(encoding_dim, activation='sigmoid')(input_img)\n",
    "decoded = Dense(784, activation='sigmoid')(encoded)\n",
    "\n",
    "# define autoencoder model \n",
    "autoencoder = Model(inputs=input_img, outputs=decoded)\n",
    "encoder = Model(inputs=input_img, outputs=encoded)\n",
    "\n",
    "# create a placeholder for an encoded (32-dimensional) input\n",
    "encoded_input = Input(shape=(encoding_dim))\n",
    "\n",
    "# retrieve the last layer of the autoencoder model\n",
    "decoder_layer = autoencoder.layers[-1](encoded_input)\n",
    "\n",
    "# create the decoder model\n",
    "decoder = Model(inputs=encoded_input, outputs=decoder_layer)\n",
    "\n",
    "autoencoder.summary()"
   ]
  },
  {
   "cell_type": "code",
   "execution_count": 10,
   "metadata": {},
   "outputs": [],
   "source": [
    "# compile the network - use adam optimizer, beware to use the good loss function\n",
    "autoencoder.compile(loss='mse', optimizer='adam')"
   ]
  },
  {
   "cell_type": "code",
   "execution_count": 15,
   "metadata": {},
   "outputs": [],
   "source": [
    "# for visualisation\n",
    "def plot_result(x_test,decoded_imgs):\n",
    "    n = 10\n",
    "    plt.figure(figsize=(20, 4))\n",
    "    for i in range(n):\n",
    "        # display original\n",
    "        ax = plt.subplot(2, n, i + 1)\n",
    "        plt.imshow(x_test[i].reshape(28, 28))\n",
    "        plt.gray()\n",
    "        ax.get_xaxis().set_visible(False)\n",
    "        ax.get_yaxis().set_visible(False)\n",
    "\n",
    "        # display reconstruction\n",
    "        ax = plt.subplot(2, n, i + 1 + n)\n",
    "        plt.imshow(decoded_imgs[i].reshape(28, 28))\n",
    "        plt.gray()\n",
    "        ax.get_xaxis().set_visible(False)\n",
    "        ax.get_yaxis().set_visible(False)\n",
    "    plt.show()"
   ]
  },
  {
   "cell_type": "code",
   "execution_count": 12,
   "metadata": {},
   "outputs": [],
   "source": [
    "X_train_flat = X_train.reshape(6000,784)\n",
    "X_test_flat = X_test.reshape(1000,784)"
   ]
  },
  {
   "cell_type": "code",
   "execution_count": 13,
   "metadata": {
    "scrolled": true
   },
   "outputs": [
    {
     "name": "stdout",
     "output_type": "stream",
     "text": [
      "Train on 6000 samples, validate on 1000 samples\n",
      "Epoch 1/50\n",
      "6000/6000 [==============================] - 1s 178us/sample - loss: 0.1752 - val_loss: 0.1523\n",
      "Epoch 2/50\n",
      "6000/6000 [==============================] - 0s 63us/sample - loss: 0.1401 - val_loss: 0.1270\n",
      "Epoch 3/50\n",
      "6000/6000 [==============================] - 0s 62us/sample - loss: 0.1213 - val_loss: 0.1113\n",
      "Epoch 4/50\n",
      "6000/6000 [==============================] - 0s 63us/sample - loss: 0.1083 - val_loss: 0.0996\n",
      "Epoch 5/50\n",
      "6000/6000 [==============================] - 0s 62us/sample - loss: 0.0981 - val_loss: 0.0905\n",
      "Epoch 6/50\n",
      "6000/6000 [==============================] - 0s 64us/sample - loss: 0.0898 - val_loss: 0.0829\n",
      "Epoch 7/50\n",
      "6000/6000 [==============================] - 0s 64us/sample - loss: 0.0830 - val_loss: 0.0771\n",
      "Epoch 8/50\n",
      "6000/6000 [==============================] - 0s 62us/sample - loss: 0.0775 - val_loss: 0.0721\n",
      "Epoch 9/50\n",
      "6000/6000 [==============================] - 0s 62us/sample - loss: 0.0730 - val_loss: 0.0680\n",
      "Epoch 10/50\n",
      "6000/6000 [==============================] - 0s 62us/sample - loss: 0.0692 - val_loss: 0.0645\n",
      "Epoch 11/50\n",
      "6000/6000 [==============================] - 0s 62us/sample - loss: 0.0661 - val_loss: 0.0617\n",
      "Epoch 12/50\n",
      "6000/6000 [==============================] - 0s 68us/sample - loss: 0.0634 - val_loss: 0.0591\n",
      "Epoch 13/50\n",
      "6000/6000 [==============================] - 0s 62us/sample - loss: 0.0610 - val_loss: 0.0569\n",
      "Epoch 14/50\n",
      "6000/6000 [==============================] - 0s 62us/sample - loss: 0.0589 - val_loss: 0.0550\n",
      "Epoch 15/50\n",
      "6000/6000 [==============================] - 0s 64us/sample - loss: 0.0569 - val_loss: 0.0532\n",
      "Epoch 16/50\n",
      "6000/6000 [==============================] - 0s 62us/sample - loss: 0.0553 - val_loss: 0.0515\n",
      "Epoch 17/50\n",
      "6000/6000 [==============================] - 0s 62us/sample - loss: 0.0537 - val_loss: 0.0501\n",
      "Epoch 18/50\n",
      "6000/6000 [==============================] - 0s 64us/sample - loss: 0.0523 - val_loss: 0.0488\n",
      "Epoch 19/50\n",
      "6000/6000 [==============================] - 0s 62us/sample - loss: 0.0510 - val_loss: 0.0477\n",
      "Epoch 20/50\n",
      "6000/6000 [==============================] - 0s 62us/sample - loss: 0.0498 - val_loss: 0.0465\n",
      "Epoch 21/50\n",
      "6000/6000 [==============================] - 0s 62us/sample - loss: 0.0487 - val_loss: 0.0455\n",
      "Epoch 22/50\n",
      "6000/6000 [==============================] - 0s 62us/sample - loss: 0.0477 - val_loss: 0.0445\n",
      "Epoch 23/50\n",
      "6000/6000 [==============================] - 0s 62us/sample - loss: 0.0467 - val_loss: 0.0437\n",
      "Epoch 24/50\n",
      "6000/6000 [==============================] - 0s 64us/sample - loss: 0.0459 - val_loss: 0.0428\n",
      "Epoch 25/50\n",
      "6000/6000 [==============================] - 0s 62us/sample - loss: 0.0451 - val_loss: 0.0422\n",
      "Epoch 26/50\n",
      "6000/6000 [==============================] - 0s 63us/sample - loss: 0.0443 - val_loss: 0.0415\n",
      "Epoch 27/50\n",
      "6000/6000 [==============================] - 0s 62us/sample - loss: 0.0436 - val_loss: 0.0407\n",
      "Epoch 28/50\n",
      "6000/6000 [==============================] - 0s 62us/sample - loss: 0.0429 - val_loss: 0.0401\n",
      "Epoch 29/50\n",
      "6000/6000 [==============================] - 0s 63us/sample - loss: 0.0423 - val_loss: 0.0396\n",
      "Epoch 30/50\n",
      "6000/6000 [==============================] - 0s 65us/sample - loss: 0.0417 - val_loss: 0.0389\n",
      "Epoch 31/50\n",
      "6000/6000 [==============================] - 0s 63us/sample - loss: 0.0412 - val_loss: 0.0384\n",
      "Epoch 32/50\n",
      "6000/6000 [==============================] - 0s 65us/sample - loss: 0.0406 - val_loss: 0.0380\n",
      "Epoch 33/50\n",
      "6000/6000 [==============================] - 0s 62us/sample - loss: 0.0402 - val_loss: 0.0377\n",
      "Epoch 34/50\n",
      "6000/6000 [==============================] - 0s 62us/sample - loss: 0.0397 - val_loss: 0.0373\n",
      "Epoch 35/50\n",
      "6000/6000 [==============================] - 0s 62us/sample - loss: 0.0393 - val_loss: 0.0368\n",
      "Epoch 36/50\n",
      "6000/6000 [==============================] - 0s 62us/sample - loss: 0.0389 - val_loss: 0.0363\n",
      "Epoch 37/50\n",
      "6000/6000 [==============================] - 0s 62us/sample - loss: 0.0386 - val_loss: 0.0361\n",
      "Epoch 38/50\n",
      "6000/6000 [==============================] - 0s 62us/sample - loss: 0.0382 - val_loss: 0.0356\n",
      "Epoch 39/50\n",
      "6000/6000 [==============================] - 0s 61us/sample - loss: 0.0378 - val_loss: 0.0352\n",
      "Epoch 40/50\n",
      "6000/6000 [==============================] - 0s 62us/sample - loss: 0.0375 - val_loss: 0.0350\n",
      "Epoch 41/50\n",
      "6000/6000 [==============================] - 0s 63us/sample - loss: 0.0372 - val_loss: 0.0347\n",
      "Epoch 42/50\n",
      "6000/6000 [==============================] - 0s 61us/sample - loss: 0.0369 - val_loss: 0.0345\n",
      "Epoch 43/50\n",
      "6000/6000 [==============================] - 0s 62us/sample - loss: 0.0367 - val_loss: 0.0342\n",
      "Epoch 44/50\n",
      "6000/6000 [==============================] - 0s 62us/sample - loss: 0.0365 - val_loss: 0.0340\n",
      "Epoch 45/50\n",
      "6000/6000 [==============================] - 0s 62us/sample - loss: 0.0362 - val_loss: 0.0339\n",
      "Epoch 46/50\n",
      "6000/6000 [==============================] - 0s 63us/sample - loss: 0.0359 - val_loss: 0.0335\n",
      "Epoch 47/50\n",
      "6000/6000 [==============================] - 0s 62us/sample - loss: 0.0357 - val_loss: 0.0333\n",
      "Epoch 48/50\n",
      "6000/6000 [==============================] - 0s 62us/sample - loss: 0.0354 - val_loss: 0.0336\n",
      "Epoch 49/50\n",
      "6000/6000 [==============================] - 0s 62us/sample - loss: 0.0353 - val_loss: 0.0330\n",
      "Epoch 50/50\n",
      "6000/6000 [==============================] - 0s 61us/sample - loss: 0.0350 - val_loss: 0.0329\n"
     ]
    }
   ],
   "source": [
    "# train the network\n",
    "log = autoencoder.fit(X_train_flat, X_train_flat, validation_data=(X_test_flat, X_test_flat),\n",
    "                     batch_size=32, epochs=50)"
   ]
  },
  {
   "cell_type": "code",
   "execution_count": 14,
   "metadata": {},
   "outputs": [
    {
     "data": {
      "image/png": "[encoded data removed]",
      "text/plain": [
       "<Figure size 432x288 with 1 Axes>"
      ]
     },
     "metadata": {
      "needs_background": "light"
     },
     "output_type": "display_data"
    }
   ],
   "source": [
    "plt.plot(log.history['loss'], label='Training')\n",
    "plt.plot(log.history['val_loss'], label='Testing')\n",
    "plt.legend()\n",
    "plt.grid()"
   ]
  },
  {
   "cell_type": "code",
   "execution_count": 15,
   "metadata": {},
   "outputs": [
    {
     "data": {
      "image/png": "[encoded data removed]",
      "text/plain": [
       "<Figure size 1440x288 with 20 Axes>"
      ]
     },
     "metadata": {
      "needs_background": "light"
     },
     "output_type": "display_data"
    }
   ],
   "source": [
    "# encode and decode some digits\n",
    "# note that we take them from the *test* set\n",
    "encoded_imgs = encoder.predict(X_test_flat)\n",
    "decoded_imgs = decoder.predict(encoded_imgs)\n",
    "plot_result(X_test_flat,decoded_imgs)"
   ]
  },
  {
   "cell_type": "markdown",
   "metadata": {},
   "source": [
    "### Use the encoded features to train another classifier"
   ]
  },
  {
   "cell_type": "code",
   "execution_count": 16,
   "metadata": {},
   "outputs": [
    {
     "name": "stdout",
     "output_type": "stream",
     "text": [
      "(6000, 32)\n",
      "(6000, 10)\n",
      "(1000, 32)\n",
      "(1000, 10)\n"
     ]
    }
   ],
   "source": [
    "X_train_feat = encoder.predict(X_train_flat)\n",
    "X_test_feat = encoder.predict(X_test_flat)\n",
    "\n",
    "# Normalization (standardization) of training and test sets\n",
    "scaler = StandardScaler()  \n",
    "scaler.fit(X_train_feat)\n",
    "X_train_feat = scaler.transform(X_train_feat)  \n",
    "X_test_feat = scaler.transform(X_test_feat)\n",
    "\n",
    "print(X_train_feat.shape)\n",
    "print(Y_train.shape)\n",
    "print(X_test_feat.shape)\n",
    "print(Y_test.shape)"
   ]
  },
  {
   "cell_type": "code",
   "execution_count": 17,
   "metadata": {},
   "outputs": [
    {
     "data": {
      "text/plain": [
       "SVC(C=1.0, cache_size=7000, class_weight=None, coef0=0.0,\n",
       "    decision_function_shape='ovr', degree=3, gamma='auto_deprecated',\n",
       "    kernel='linear', max_iter=-1, probability=False, random_state=None,\n",
       "    shrinking=True, tol=0.001, verbose=False)"
      ]
     },
     "execution_count": 17,
     "metadata": {},
     "output_type": "execute_result"
    }
   ],
   "source": [
    "# using the features to train a SVM\n",
    "clf = SVC(kernel='linear', cache_size=7000)\n",
    "clf.fit(X_train_feat, train_labels)"
   ]
  },
  {
   "cell_type": "code",
   "execution_count": 18,
   "metadata": {},
   "outputs": [
    {
     "name": "stdout",
     "output_type": "stream",
     "text": [
      "Classification report for classifier SVC(C=1.0, cache_size=7000, class_weight=None, coef0=0.0,\n",
      "    decision_function_shape='ovr', degree=3, gamma='auto_deprecated',\n",
      "    kernel='linear', max_iter=-1, probability=False, random_state=None,\n",
      "    shrinking=True, tol=0.001, verbose=False):\n",
      "              precision    recall  f1-score   support\n",
      "\n",
      "           0       0.92      0.87      0.89       116\n",
      "           1       0.90      0.87      0.88       112\n",
      "           2       0.84      0.96      0.89        89\n",
      "           3       0.93      0.90      0.92        90\n",
      "           4       0.88      0.82      0.85        87\n",
      "           5       0.89      0.91      0.90       105\n",
      "           6       0.84      0.85      0.84        85\n",
      "           7       0.90      0.88      0.89       109\n",
      "           8       0.87      0.79      0.83       106\n",
      "           9       0.83      0.95      0.89       101\n",
      "\n",
      "    accuracy                           0.88      1000\n",
      "   macro avg       0.88      0.88      0.88      1000\n",
      "weighted avg       0.88      0.88      0.88      1000\n",
      "\n",
      "\n"
     ]
    }
   ],
   "source": [
    "y_pred = clf.predict(X_test_feat)\n",
    "\n",
    "# Print classification results with confusion matrix\n",
    "print(\"Classification report for classifier %s:\\n%s\\n\" %\n",
    "      (clf, metrics.classification_report(test_labels, y_pred)))\n",
    "# print(\"\\nConfusion matrix:\\n%s\" % metrics.confusion_matrix(test_labels, y_pred))"
   ]
  },
  {
   "cell_type": "markdown",
   "metadata": {},
   "source": [
    "## Create a conv autoencoder"
   ]
  },
  {
   "cell_type": "code",
   "execution_count": 30,
   "metadata": {},
   "outputs": [],
   "source": [
    "input_img = Input(shape=(28, 28, 1))\n",
    "# encoder\n",
    "conv1 = Conv2D(32, kernel_size=(1,1))(input_img) #28 x 28 x 32\n",
    "pool1 = MaxPooling2D((2,2))(conv1) #14 x 14 x 32\n",
    "conv2 = Conv2D(64, kernel_size=(1,1))(pool1) #14 x 14 x 64\n",
    "pool2 = MaxPooling2D((2,2))(conv2) #7 x 7 x 64\n",
    "conv3 = Conv2D(128, kernel_size=(1,1))(pool2) #7 x 7 x 128 (small and thick)\n",
    "# decoder\n",
    "conv4 = Conv2D(128, kernel_size=(1,1))(conv3) #7 x 7 x 128\n",
    "up1 = UpSampling2D((2,2))(conv4) # 14 x 14 x 128 (UpSampling2D())\n",
    "conv5 = Conv2D(64, kernel_size=(1,1))(up1) # 14 x 14 x 64\n",
    "up2 = UpSampling2D((2,2))(conv5) # 28 x 28 x 64\n",
    "decoded = Conv2D(1, kernel_size=(1,1))(up2) # 28 x 28 x 1\n",
    "# autoencoder\n",
    "autoencoder = Model(inputs=input_img, outputs=decoded)"
   ]
  },
  {
   "cell_type": "code",
   "execution_count": 31,
   "metadata": {},
   "outputs": [
    {
     "name": "stdout",
     "output_type": "stream",
     "text": [
      "Model: \"model_7\"\n",
      "_________________________________________________________________\n",
      "Layer (type)                 Output Shape              Param #   \n",
      "=================================================================\n",
      "input_8 (InputLayer)         [(None, 28, 28, 1)]       0         \n",
      "_________________________________________________________________\n",
      "conv2d_28 (Conv2D)           (None, 28, 28, 32)        64        \n",
      "_________________________________________________________________\n",
      "max_pooling2d_10 (MaxPooling (None, 14, 14, 32)        0         \n",
      "_________________________________________________________________\n",
      "conv2d_29 (Conv2D)           (None, 14, 14, 64)        2112      \n",
      "_________________________________________________________________\n",
      "max_pooling2d_11 (MaxPooling (None, 7, 7, 64)          0         \n",
      "_________________________________________________________________\n",
      "conv2d_30 (Conv2D)           (None, 7, 7, 128)         8320      \n",
      "_________________________________________________________________\n",
      "conv2d_31 (Conv2D)           (None, 7, 7, 128)         16512     \n",
      "_________________________________________________________________\n",
      "up_sampling2d_8 (UpSampling2 (None, 14, 14, 128)       0         \n",
      "_________________________________________________________________\n",
      "conv2d_32 (Conv2D)           (None, 14, 14, 64)        8256      \n",
      "_________________________________________________________________\n",
      "up_sampling2d_9 (UpSampling2 (None, 28, 28, 64)        0         \n",
      "_________________________________________________________________\n",
      "conv2d_33 (Conv2D)           (None, 28, 28, 1)         65        \n",
      "=================================================================\n",
      "Total params: 35,329\n",
      "Trainable params: 35,329\n",
      "Non-trainable params: 0\n",
      "_________________________________________________________________\n"
     ]
    }
   ],
   "source": [
    "autoencoder.compile(optimizer='adam', loss='mse')\n",
    "autoencoder.summary()"
   ]
  },
  {
   "cell_type": "code",
   "execution_count": 32,
   "metadata": {},
   "outputs": [
    {
     "name": "stdout",
     "output_type": "stream",
     "text": [
      "Train on 6000 samples\n",
      "Epoch 1/50\n",
      "6000/6000 [==============================] - 2s 385us/sample - loss: 0.0706\n",
      "Epoch 2/50\n",
      "6000/6000 [==============================] - 1s 179us/sample - loss: 0.0650\n",
      "Epoch 3/50\n",
      "6000/6000 [==============================] - 1s 186us/sample - loss: 0.0650\n",
      "Epoch 4/50\n",
      "6000/6000 [==============================] - 1s 182us/sample - loss: 0.0650\n",
      "Epoch 5/50\n",
      "6000/6000 [==============================] - 1s 184us/sample - loss: 0.0650\n",
      "Epoch 6/50\n",
      "6000/6000 [==============================] - 1s 179us/sample - loss: 0.0650\n",
      "Epoch 7/50\n",
      "6000/6000 [==============================] - 1s 181us/sample - loss: 0.0650\n",
      "Epoch 8/50\n",
      "6000/6000 [==============================] - 1s 181us/sample - loss: 0.0649\n",
      "Epoch 9/50\n",
      "6000/6000 [==============================] - 1s 181us/sample - loss: 0.0650\n",
      "Epoch 10/50\n",
      "6000/6000 [==============================] - 1s 178us/sample - loss: 0.0650\n",
      "Epoch 11/50\n",
      "6000/6000 [==============================] - 1s 179us/sample - loss: 0.0650\n",
      "Epoch 12/50\n",
      "6000/6000 [==============================] - 1s 180us/sample - loss: 0.0650\n",
      "Epoch 13/50\n",
      "6000/6000 [==============================] - 1s 187us/sample - loss: 0.0650\n",
      "Epoch 14/50\n",
      "6000/6000 [==============================] - 1s 194us/sample - loss: 0.0650\n",
      "Epoch 15/50\n",
      "6000/6000 [==============================] - 1s 184us/sample - loss: 0.0649\n",
      "Epoch 16/50\n",
      "6000/6000 [==============================] - 1s 179us/sample - loss: 0.0650\n",
      "Epoch 17/50\n",
      "6000/6000 [==============================] - 1s 183us/sample - loss: 0.0649\n",
      "Epoch 18/50\n",
      "6000/6000 [==============================] - 1s 183us/sample - loss: 0.0649\n",
      "Epoch 19/50\n",
      "6000/6000 [==============================] - 1s 182us/sample - loss: 0.0650\n",
      "Epoch 20/50\n",
      "6000/6000 [==============================] - 1s 185us/sample - loss: 0.0650\n",
      "Epoch 21/50\n",
      "6000/6000 [==============================] - 1s 188us/sample - loss: 0.0649\n",
      "Epoch 22/50\n",
      "6000/6000 [==============================] - 1s 185us/sample - loss: 0.0650\n",
      "Epoch 23/50\n",
      "6000/6000 [==============================] - 1s 182us/sample - loss: 0.0650\n",
      "Epoch 24/50\n",
      "6000/6000 [==============================] - 1s 183us/sample - loss: 0.0650\n",
      "Epoch 25/50\n",
      "6000/6000 [==============================] - 1s 180us/sample - loss: 0.0650\n",
      "Epoch 26/50\n",
      "6000/6000 [==============================] - 1s 178us/sample - loss: 0.0649\n",
      "Epoch 27/50\n",
      "6000/6000 [==============================] - 1s 183us/sample - loss: 0.0650\n",
      "Epoch 28/50\n",
      "6000/6000 [==============================] - 1s 176us/sample - loss: 0.0650\n",
      "Epoch 29/50\n",
      "6000/6000 [==============================] - 1s 183us/sample - loss: 0.0650\n",
      "Epoch 30/50\n",
      "6000/6000 [==============================] - 1s 179us/sample - loss: 0.0650\n",
      "Epoch 31/50\n",
      "6000/6000 [==============================] - 1s 181us/sample - loss: 0.0650\n",
      "Epoch 32/50\n",
      "6000/6000 [==============================] - 1s 182us/sample - loss: 0.0649\n",
      "Epoch 33/50\n",
      "6000/6000 [==============================] - 1s 188us/sample - loss: 0.0649\n",
      "Epoch 34/50\n",
      "6000/6000 [==============================] - 1s 186us/sample - loss: 0.0649\n",
      "Epoch 35/50\n",
      "6000/6000 [==============================] - 1s 184us/sample - loss: 0.0650\n",
      "Epoch 36/50\n",
      "6000/6000 [==============================] - 1s 185us/sample - loss: 0.0649\n",
      "Epoch 37/50\n",
      "6000/6000 [==============================] - 1s 181us/sample - loss: 0.0649\n",
      "Epoch 38/50\n",
      "6000/6000 [==============================] - 1s 184us/sample - loss: 0.0649\n",
      "Epoch 39/50\n",
      "6000/6000 [==============================] - 1s 180us/sample - loss: 0.0649\n",
      "Epoch 40/50\n",
      "6000/6000 [==============================] - 1s 182us/sample - loss: 0.0649\n",
      "Epoch 41/50\n",
      "6000/6000 [==============================] - 1s 184us/sample - loss: 0.0649\n",
      "Epoch 42/50\n",
      "6000/6000 [==============================] - 1s 197us/sample - loss: 0.0649\n",
      "Epoch 43/50\n",
      "6000/6000 [==============================] - 1s 195us/sample - loss: 0.0649\n",
      "Epoch 44/50\n",
      "6000/6000 [==============================] - 1s 190us/sample - loss: 0.0649\n",
      "Epoch 45/50\n",
      "6000/6000 [==============================] - 1s 180us/sample - loss: 0.0649\n",
      "Epoch 46/50\n",
      "6000/6000 [==============================] - 1s 177us/sample - loss: 0.0649\n",
      "Epoch 47/50\n",
      "6000/6000 [==============================] - 1s 187us/sample - loss: 0.0649\n",
      "Epoch 48/50\n",
      "6000/6000 [==============================] - 1s 188us/sample - loss: 0.0649\n",
      "Epoch 49/50\n",
      "6000/6000 [==============================] - 1s 191us/sample - loss: 0.0649\n",
      "Epoch 50/50\n",
      "6000/6000 [==============================] - 1s 184us/sample - loss: 0.0649\n"
     ]
    }
   ],
   "source": [
    "log = autoencoder.fit(X_train, X_train, batch_size=32, epochs=50)"
   ]
  },
  {
   "cell_type": "code",
   "execution_count": 33,
   "metadata": {},
   "outputs": [
    {
     "ename": "KeyError",
     "evalue": "'val_loss'",
     "output_type": "error",
     "traceback": [
      "\u001b[0;31m---------------------------------------------------------------------------\u001b[0m",
      "\u001b[0;31mKeyError\u001b[0m                                  Traceback (most recent call last)",
      "\u001b[0;32m<ipython-input-33-cedfba35536c>\u001b[0m in \u001b[0;36m<module>\u001b[0;34m\u001b[0m\n\u001b[1;32m      1\u001b[0m \u001b[0mplt\u001b[0m\u001b[0;34m.\u001b[0m\u001b[0mplot\u001b[0m\u001b[0;34m(\u001b[0m\u001b[0mlog\u001b[0m\u001b[0;34m.\u001b[0m\u001b[0mhistory\u001b[0m\u001b[0;34m[\u001b[0m\u001b[0;34m'loss'\u001b[0m\u001b[0;34m]\u001b[0m\u001b[0;34m,\u001b[0m \u001b[0mlabel\u001b[0m\u001b[0;34m=\u001b[0m\u001b[0;34m'Training'\u001b[0m\u001b[0;34m)\u001b[0m\u001b[0;34m\u001b[0m\u001b[0;34m\u001b[0m\u001b[0m\n\u001b[0;32m----> 2\u001b[0;31m \u001b[0mplt\u001b[0m\u001b[0;34m.\u001b[0m\u001b[0mplot\u001b[0m\u001b[0;34m(\u001b[0m\u001b[0mlog\u001b[0m\u001b[0;34m.\u001b[0m\u001b[0mhistory\u001b[0m\u001b[0;34m[\u001b[0m\u001b[0;34m'val_loss'\u001b[0m\u001b[0;34m]\u001b[0m\u001b[0;34m,\u001b[0m \u001b[0mlabel\u001b[0m\u001b[0;34m=\u001b[0m\u001b[0;34m'Testing'\u001b[0m\u001b[0;34m)\u001b[0m\u001b[0;34m\u001b[0m\u001b[0;34m\u001b[0m\u001b[0m\n\u001b[0m\u001b[1;32m      3\u001b[0m \u001b[0mplt\u001b[0m\u001b[0;34m.\u001b[0m\u001b[0mlegend\u001b[0m\u001b[0;34m(\u001b[0m\u001b[0;34m)\u001b[0m\u001b[0;34m\u001b[0m\u001b[0;34m\u001b[0m\u001b[0m\n\u001b[1;32m      4\u001b[0m \u001b[0mplt\u001b[0m\u001b[0;34m.\u001b[0m\u001b[0mgrid\u001b[0m\u001b[0;34m(\u001b[0m\u001b[0;34m)\u001b[0m\u001b[0;34m\u001b[0m\u001b[0;34m\u001b[0m\u001b[0m\n",
      "\u001b[0;31mKeyError\u001b[0m: 'val_loss'"
     ]
    },
    {
     "data": {
      "image/png": "[encoded data removed]",
      "text/plain": [
       "<Figure size 432x288 with 1 Axes>"
      ]
     },
     "metadata": {
      "needs_background": "light"
     },
     "output_type": "display_data"
    }
   ],
   "source": [
    "plt.plot(log.history['loss'], label='Training')\n",
    "plt.plot(log.history['val_loss'], label='Testing')\n",
    "plt.legend()\n",
    "plt.grid()"
   ]
  },
  {
   "cell_type": "markdown",
   "metadata": {},
   "source": [
    "### Predict on test data"
   ]
  },
  {
   "cell_type": "code",
   "execution_count": null,
   "metadata": {},
   "outputs": [],
   "source": [
    "decoded_imgs = autoencoder.predict(X_test, verbose=0)\n",
    "print(decoded_imgs.shape)"
   ]
  },
  {
   "cell_type": "code",
   "execution_count": null,
   "metadata": {},
   "outputs": [],
   "source": [
    "plot_result(X_test_flat,decoded_imgs)"
   ]
  },
  {
   "cell_type": "markdown",
   "metadata": {},
   "source": [
    "## Denoising autoencoder\n",
    "First add some noise."
   ]
  },
  {
   "cell_type": "code",
   "execution_count": 17,
   "metadata": {},
   "outputs": [],
   "source": [
    "noise_factor = 0.2 #chose a noise factor between 0.0 and 1.0\n",
    "X_train_noisy = X_train + noise_factor * np.random.normal(loc=0.0, scale=1.0, size=X_train.shape)\n",
    "X_test_noisy = X_test + noise_factor * np.random.normal(loc=0.0, scale=1.0, size=X_test.shape)\n",
    "X_train_noisy = np.clip(X_train_noisy, 0., 1.)\n",
    "X_test_noisy = np.clip(X_test_noisy, 0., 1.)"
   ]
  },
  {
   "cell_type": "code",
   "execution_count": 23,
   "metadata": {},
   "outputs": [
    {
     "data": {
      "text/plain": [
       "<matplotlib.image.AxesImage at 0x7f24dfd9a6d8>"
      ]
     },
     "execution_count": 23,
     "metadata": {},
     "output_type": "execute_result"
    },
    {
     "data": {
      "image/png": "[encoded data removed]",
      "text/plain": [
       "<Figure size 360x360 with 2 Axes>"
      ]
     },
     "metadata": {
      "needs_background": "light"
     },
     "output_type": "display_data"
    }
   ],
   "source": [
    "plt.figure(figsize=[5,5])\n",
    "\n",
    "# Display the first image in training data\n",
    "plt.subplot(121)\n",
    "curr_img = np.reshape(X_train_noisy[1], (28,28))\n",
    "plt.imshow(curr_img, cmap='gray')\n",
    "\n",
    "# Display the first image in testing data\n",
    "plt.subplot(122)\n",
    "curr_img = np.reshape(X_test_noisy[1], (28,28))\n",
    "plt.imshow(curr_img, cmap='gray')"
   ]
  },
  {
   "cell_type": "code",
   "execution_count": 19,
   "metadata": {},
   "outputs": [
    {
     "name": "stdout",
     "output_type": "stream",
     "text": [
      "Model: \"model_1\"\n",
      "_________________________________________________________________\n",
      "Layer (type)                 Output Shape              Param #   \n",
      "=================================================================\n",
      "input_2 (InputLayer)         [(None, 28, 28, 1)]       0         \n",
      "_________________________________________________________________\n",
      "conv2d_6 (Conv2D)            (None, 28, 28, 32)        64        \n",
      "_________________________________________________________________\n",
      "max_pooling2d_2 (MaxPooling2 (None, 14, 14, 32)        0         \n",
      "_________________________________________________________________\n",
      "conv2d_7 (Conv2D)            (None, 14, 14, 64)        2112      \n",
      "_________________________________________________________________\n",
      "max_pooling2d_3 (MaxPooling2 (None, 7, 7, 64)          0         \n",
      "_________________________________________________________________\n",
      "conv2d_8 (Conv2D)            (None, 7, 7, 128)         8320      \n",
      "_________________________________________________________________\n",
      "conv2d_9 (Conv2D)            (None, 7, 7, 128)         16512     \n",
      "_________________________________________________________________\n",
      "up_sampling2d_2 (UpSampling2 (None, 14, 14, 128)       0         \n",
      "_________________________________________________________________\n",
      "conv2d_10 (Conv2D)           (None, 14, 14, 64)        8256      \n",
      "_________________________________________________________________\n",
      "up_sampling2d_3 (UpSampling2 (None, 28, 28, 64)        0         \n",
      "_________________________________________________________________\n",
      "conv2d_11 (Conv2D)           (None, 28, 28, 1)         65        \n",
      "=================================================================\n",
      "Total params: 35,329\n",
      "Trainable params: 35,329\n",
      "Non-trainable params: 0\n",
      "_________________________________________________________________\n"
     ]
    }
   ],
   "source": [
    "# REDEFINE HERE A CONV AUTOENCODER FOR THE DENOISING WITH A SIMILAR ARCHITECTURE\n",
    "input_img = Input(shape=(28, 28, 1))\n",
    "# encoder\n",
    "conv1 = Conv2D(32, kernel_size=(1,1))(input_img) #28 x 28 x 32\n",
    "pool1 = MaxPooling2D((2,2))(conv1) #14 x 14 x 32\n",
    "conv2 = Conv2D(64, kernel_size=(1,1))(pool1) #14 x 14 x 64\n",
    "pool2 = MaxPooling2D((2,2))(conv2) #7 x 7 x 64\n",
    "conv3 = Conv2D(128, kernel_size=(1,1))(pool2) #7 x 7 x 128 (small and thick)\n",
    "# decoder\n",
    "conv4 = Conv2D(128, kernel_size=(1,1))(conv3) #7 x 7 x 128\n",
    "up1 = UpSampling2D((2,2))(conv4) # 14 x 14 x 128 (UpSampling2D())\n",
    "conv5 = Conv2D(64, kernel_size=(1,1))(up1) # 14 x 14 x 64\n",
    "up2 = UpSampling2D((2,2))(conv5) # 28 x 28 x 64\n",
    "decoded = Conv2D(1, kernel_size=(1,1))(up2) # 28 x 28 x 1\n",
    "# autoencoder\n",
    "autoencoder = Model(inputs=input_img, outputs=decoded)\n",
    "autoencoder.compile(optimizer='adam', loss='mse')\n",
    "autoencoder.summary()"
   ]
  },
  {
   "cell_type": "code",
   "execution_count": 24,
   "metadata": {},
   "outputs": [
    {
     "name": "stdout",
     "output_type": "stream",
     "text": [
      "Train on 6000 samples, validate on 1000 samples\n",
      "Epoch 1/20\n",
      "6000/6000 [==============================] - 1s 143us/sample - loss: 0.0676 - val_loss: 0.0657\n",
      "Epoch 2/20\n",
      "6000/6000 [==============================] - 1s 140us/sample - loss: 0.0676 - val_loss: 0.0657\n",
      "Epoch 3/20\n",
      "6000/6000 [==============================] - 1s 152us/sample - loss: 0.0675 - val_loss: 0.0657\n",
      "Epoch 4/20\n",
      "6000/6000 [==============================] - 1s 139us/sample - loss: 0.0675 - val_loss: 0.0657\n",
      "Epoch 5/20\n",
      "6000/6000 [==============================] - 1s 142us/sample - loss: 0.0675 - val_loss: 0.0657\n",
      "Epoch 6/20\n",
      "6000/6000 [==============================] - 1s 140us/sample - loss: 0.0675 - val_loss: 0.0657\n",
      "Epoch 7/20\n",
      "6000/6000 [==============================] - 1s 144us/sample - loss: 0.0675 - val_loss: 0.0657\n",
      "Epoch 8/20\n",
      "6000/6000 [==============================] - 1s 145us/sample - loss: 0.0675 - val_loss: 0.0657\n",
      "Epoch 9/20\n",
      "6000/6000 [==============================] - 1s 148us/sample - loss: 0.0675 - val_loss: 0.0657\n",
      "Epoch 10/20\n",
      "6000/6000 [==============================] - 1s 140us/sample - loss: 0.0675 - val_loss: 0.0657\n",
      "Epoch 11/20\n",
      "6000/6000 [==============================] - 1s 153us/sample - loss: 0.0675 - val_loss: 0.0657\n",
      "Epoch 12/20\n",
      "6000/6000 [==============================] - 1s 147us/sample - loss: 0.0675 - val_loss: 0.0657\n",
      "Epoch 13/20\n",
      "6000/6000 [==============================] - 1s 140us/sample - loss: 0.0675 - val_loss: 0.0657\n",
      "Epoch 14/20\n",
      "6000/6000 [==============================] - 1s 145us/sample - loss: 0.0675 - val_loss: 0.0657\n",
      "Epoch 15/20\n",
      "6000/6000 [==============================] - 1s 149us/sample - loss: 0.0675 - val_loss: 0.0657\n",
      "Epoch 16/20\n",
      "6000/6000 [==============================] - 1s 149us/sample - loss: 0.0675 - val_loss: 0.0657\n",
      "Epoch 17/20\n",
      "6000/6000 [==============================] - 1s 151us/sample - loss: 0.0675 - val_loss: 0.0656\n",
      "Epoch 18/20\n",
      "6000/6000 [==============================] - 1s 157us/sample - loss: 0.0675 - val_loss: 0.0656\n",
      "Epoch 19/20\n",
      "6000/6000 [==============================] - 1s 154us/sample - loss: 0.0675 - val_loss: 0.0657\n",
      "Epoch 20/20\n",
      "6000/6000 [==============================] - 1s 151us/sample - loss: 0.0675 - val_loss: 0.0657\n"
     ]
    }
   ],
   "source": [
    "# train on the noisy images and use as target the original clean images\n",
    "log = autoencoder.fit(X_train_noisy, X_train, batch_size=128, epochs=20,\n",
    "                        verbose=1, validation_data=(X_test_noisy, X_test))"
   ]
  },
  {
   "cell_type": "code",
   "execution_count": 25,
   "metadata": {},
   "outputs": [
    {
     "name": "stdout",
     "output_type": "stream",
     "text": [
      "(1000, 28, 28, 1)\n"
     ]
    }
   ],
   "source": [
    "decoded_imgs = autoencoder.predict(X_test_noisy, verbose=0)\n",
    "print(decoded_imgs.shape)"
   ]
  },
  {
   "cell_type": "code",
   "execution_count": 26,
   "metadata": {},
   "outputs": [
    {
     "data": {
      "image/png": "[encoded data removed]",
      "text/plain": [
       "<Figure size 1440x288 with 20 Axes>"
      ]
     },
     "metadata": {
      "needs_background": "light"
     },
     "output_type": "display_data"
    }
   ],
   "source": [
    "plot_result(X_test_noisy,decoded_imgs)"
   ]
  },
  {
   "cell_type": "code",
   "execution_count": null,
   "metadata": {},
   "outputs": [],
   "source": []
  }
 ],
 "metadata": {
  "kernelspec": {
   "display_name": "Python 3",
   "language": "python",
   "name": "python3"
  },
  "language_info": {
   "codemirror_mode": {
    "name": "ipython",
    "version": 3
   },
   "file_extension": ".py",
   "mimetype": "text/x-python",
   "name": "python",
   "nbconvert_exporter": "python",
   "pygments_lexer": "ipython3",
   "version": "3.6.8"
  }
 },
 "nbformat": 4,
 "nbformat_minor": 2
}
