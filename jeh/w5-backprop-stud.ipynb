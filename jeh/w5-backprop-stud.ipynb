{
 "cells": [
  {
   "cell_type": "markdown",
   "metadata": {},
   "source": [
    "Hand-In of Group 13, Jonathan Ehrengruber (jonathan.ehrengruber@students.fhnw.ch), Christian Renold (christian.renold@hslu.ch)"
   ]
  },
  {
   "cell_type": "markdown",
   "metadata": {},
   "source": [
    "### Load and Prepare Data (MNIST)\n"
   ]
  },
  {
   "cell_type": "code",
   "execution_count": 23,
   "metadata": {},
   "outputs": [],
   "source": [
    "import matplotlib.pyplot as plt"
   ]
  },
  {
   "cell_type": "code",
   "execution_count": 24,
   "metadata": {},
   "outputs": [],
   "source": [
    "### START YOUR CODE ### \n",
    "data_home = '../data/'\n",
    "### END YOUR CODE ### "
   ]
  },
  {
   "cell_type": "code",
   "execution_count": 25,
   "metadata": {},
   "outputs": [],
   "source": [
    "import numpy as np\n",
    "from sklearn.datasets import fetch_openml\n",
    "\n",
    "def load_mnist(data_home):\n",
    "    \"\"\"\n",
    "    Loads the mnist dataset, prints the shape of the dataset and \n",
    "    returns the array with the images, the array with associated labels \n",
    "    and the shape of the images.     \n",
    "    Parameters: \n",
    "    data_home -- Absolute path to the DATA_HOME  \n",
    "    \n",
    "    Returns:\n",
    "    x -- array with images of shape (784,m) where m is the number of images\n",
    "    y -- array with associated labels with shape (1,m) where m is the number of images\n",
    "    shape -- (28,28)\n",
    "    \"\"\"\n",
    "    mnist = fetch_openml(name='mnist_784', version=1, cache=True, data_home=data_home)\n",
    "    x, y = mnist['data'].T, np.array(mnist['target'], dtype='int').T\n",
    "    m = x.shape[1]\n",
    "    y = y.reshape(1,m)\n",
    "    print(\"Loaded MNIST original:\")\n",
    "    print(\"Image Data Shape\" , x.shape)\n",
    "    print(\"Label Data Shape\", y.shape)\n",
    "    return x,y,(28,28)"
   ]
  },
  {
   "cell_type": "markdown",
   "metadata": {},
   "source": [
    "#### Dataset Class\n",
    "\n",
    "Used to split into train and test, normalize and provide batches."
   ]
  },
  {
   "cell_type": "code",
   "execution_count": 26,
   "metadata": {},
   "outputs": [],
   "source": [
    "import numpy as np\n",
    "\n",
    "from sklearn.datasets import fetch_mldata\n",
    "from sklearn.model_selection import train_test_split\n",
    "\n",
    "class Dataset(object):\n",
    "    \n",
    "    def __init__(self, x, y, test_size, random_state=0):\n",
    "        \"\"\"Splits dataset into train and test and normalize the train and test set (min/max normalization).\n",
    "        \n",
    "        Parameters:\n",
    "        x - input features, numpy array of shape(nx,m)\n",
    "        y - labels, numpy array of shape (1,m)\n",
    "        \"\"\"\n",
    "        xtrain, xtest, ytrain, ytest = train_test_split(x.T, y.T, test_size=test_size, random_state=random_state)\n",
    "        self.xtrain = xtrain.T\n",
    "        self.xtest = xtest.T\n",
    "        self.ytrain = ytrain.T\n",
    "        self.ytest = ytest.T\n",
    "        self._normalize()\n",
    "        \n",
    "        self.nx = self.xtrain.shape[0]\n",
    "        self.mtrain = self.xtrain.shape[1]\n",
    "        self.mtest = self.xtest.shape[1]\n",
    "        print(\"Training Data: x=%s | y=%s, Test Data: x=%s | y=%s\"%(str(self.xtrain.shape), str(self.ytrain.shape), \n",
    "                                                                    str(self.xtest.shape), str(self.ytest.shape)))\n",
    "    \n",
    "    def _normalize(self):\n",
    "        \"\"\"Applies min/max-normalization - min and max values computed from the training set.\n",
    "        Common min and max values for all features are used.\"\"\"\n",
    "        xmax, xmin = np.max(self.xtrain), np.min(self.xtrain)\n",
    "        self.xtrain = 2*(self.xtrain - xmin) / (xmax - xmin) - 1\n",
    "        self.xtest = 2*(self.xtest - xmin) / (xmax - xmin) - 1\n",
    "            \n",
    "    def prepare_batches(self, batchsize=None):\n",
    "        \"\"\"Initialize training set to provide batches of size batchsize. It reshuffles the samples \n",
    "        so that new batches are provided after calling this method. \n",
    "        \"\"\"\n",
    "        if not batchsize:\n",
    "            self.batchsize = self.mtrain\n",
    "        else:\n",
    "            self.batchsize = batchsize\n",
    "        self.mb = int(self.mtrain/self.batchsize)\n",
    "        self.indices = np.arange(self.mtrain)\n",
    "        np.random.shuffle(self.indices)\n",
    "        self.counter = 0\n",
    "      \n",
    "    def number_of_batches(self):\n",
    "        \"\"\"Returns the number of batches. Provides a non-none result only after calling the `prepare_batches`-method.\n",
    "        \n",
    "        Returns:\n",
    "        mb -- number of (complete) batches.  \n",
    "        \"\"\"\n",
    "        return self.mb\n",
    "    \n",
    "    def next_batch(self):\n",
    "        \"\"\"Provides the next batch. If there are no more batches, the `prepare_batches` is called. \n",
    "        \n",
    "        Returns:\n",
    "        xbatch -- numpy array of shape (nx,batchsize)\n",
    "        ybatch -- numpy array of shape (1,batchsize)\n",
    "        \"\"\"\n",
    "        if (self.counter+1) >= self.mb:\n",
    "            self.prepare_batches(self.batchsize)\n",
    "        it = self.indices[self.counter*self.batchsize:(self.counter+1)*self.batchsize]\n",
    "        self.counter += 1\n",
    "        xbatch = self.xtrain[:,it].reshape(self.nx, self.batchsize)\n",
    "        ybatch = self.ytrain[:,it].reshape(1,self.batchsize)\n",
    "        return xbatch, ybatch"
   ]
  },
  {
   "cell_type": "code",
   "execution_count": 27,
   "metadata": {},
   "outputs": [
    {
     "name": "stdout",
     "output_type": "stream",
     "text": [
      "Loaded MNIST original:\n",
      "Image Data Shape (784, 70000)\n",
      "Label Data Shape (1, 70000)\n",
      "Training Data: x=(784, 60000) | y=(1, 60000), Test Data: x=(784, 10000) | y=(1, 10000)\n"
     ]
    }
   ],
   "source": [
    "x, y, shape = load_mnist(data_home)\n",
    "ds = Dataset(x, y, test_size=10000)"
   ]
  },
  {
   "cell_type": "markdown",
   "metadata": {},
   "source": [
    "### Model\n",
    "\n",
    "#### Components\n",
    "\n",
    "In this section, we define the different components of the MLP model, including \n",
    "\n",
    "* _Activation function_ including suitable methods to compute values and derivatives: here, the simoid activation function will be used. \n",
    "* For implementing softmax, a _softmax activation function_ is provided. It just provides the possibility to compute the softmax values, but not the derivatives. The derivatives will be needed for the backpropagation but will be integrated in the code for the softmax layer.  \n",
    "* _Initializer_ for initializing the weights and bias parameters: here, normally distributed initial values will be provided.\n",
    "* _Cost Function_ used for training - including suitable methods for computing the values and derivatives: here, the cross-entropy cost will be used.\n",
    "* _Layer_ : The first core component to be implemented/completed by the students.\n",
    "* _MLP_ : The second core component to be implemented/completed by the students. Allows to configure an arbitrary number of layers into a sequential structure.  \n"
   ]
  },
  {
   "cell_type": "code",
   "execution_count": 28,
   "metadata": {},
   "outputs": [],
   "source": [
    "class activation_function(object):\n",
    "    \"\"\"\n",
    "    Empty parent implementation of all activation functions. All child implementations should implement \n",
    "    the two methods defined below.\n",
    "    \"\"\"\n",
    "    def compute_value(self, z):\n",
    "        \"\"\"\n",
    "        Computes the value of the activation function element wise for input array z of arbitrary shape. \n",
    "        \"\"\"\n",
    "        raise NotImplementedError(\"To be implemented in the child implementation.\")\n",
    "        \n",
    "    def compute_derivative(self, z):\n",
    "        \"\"\"\n",
    "        Computes the derivative of the activation function element wise for input array z of arbitrary shape. \n",
    "        \"\"\"\n",
    "        raise NotImplementedError(\"To be implemented in the child implementation.\")\n"
   ]
  },
  {
   "cell_type": "code",
   "execution_count": 29,
   "metadata": {},
   "outputs": [],
   "source": [
    "class sigmoid_activation_function(activation_function):\n",
    "        \n",
    "    def compute_value(self, z):\n",
    "        return 1.0 / (1.0 + np.exp(-z))\n",
    "        \n",
    "    def compute_derivative(self, z):\n",
    "        s = self.compute_value(z)\n",
    "        return s*(1-s)"
   ]
  },
  {
   "cell_type": "code",
   "execution_count": 30,
   "metadata": {},
   "outputs": [],
   "source": [
    "class softmax_activation_function(activation_function):\n",
    "    \n",
    "    def compute_value(self, z):\n",
    "        expz = np.exp(z)\n",
    "        norm = np.sum(expz, axis=0)        \n",
    "        return expz / norm\n",
    "        \n",
    "    def compute_derivative(self, z):\n",
    "        raise NotImplementedError(\"Computation of the gradient implemented in the Softmax Layer.\")"
   ]
  },
  {
   "cell_type": "code",
   "execution_count": 31,
   "metadata": {},
   "outputs": [],
   "source": [
    "class Norm_Initializer(object):\n",
    "    \n",
    "    def initialize_weights(self, size, mu=0.0, sigma=1.0):\n",
    "        return np.random.normal(size=size, loc=mu, scale=sigma)\n",
    "    \n",
    "    def initialize_bias(self, size, mu=0.0, sigma=1.0):\n",
    "        return np.random.normal(size=size, loc=mu, scale=sigma)"
   ]
  },
  {
   "cell_type": "code",
   "execution_count": 32,
   "metadata": {},
   "outputs": [],
   "source": [
    "class Cost(object):\n",
    "    \n",
    "    def compute_value(self, y, prob):\n",
    "        \"\"\"\n",
    "        Computes the value of the cost function for given labels y and predicted probs. \n",
    "        \n",
    "        Arguments:\n",
    "        y -- labels, a numpy array of shape (1,m)\n",
    "        prob -- predicted probabilities for the different classes, a numpy array of shape (ny,m)\n",
    "        \n",
    "        Returns:\n",
    "        cost -- a scalar        \n",
    "        \"\"\"\n",
    "        raise NotImplementedError(\"\")\n",
    "        \n",
    "    def compute_derivative(self, y, prob):\n",
    "        \"\"\"\n",
    "        Computes the derivative of the cost function w.r.t. predicted probs for given labels y and predicted probs.\n",
    "\n",
    "        Parameters:\n",
    "        y -- labels, a numpy array of shape (1,m)\n",
    "        prob -- predicted probabilities for the different classes, a numpy array of shape (ny,m)\n",
    "        \n",
    "        Returns:\n",
    "        Gradient of cost with respect to the predicted probabilities, a numpy array of shape (ny,m)\n",
    "        \"\"\"\n",
    "        raise NotImplementedError(\"\")         "
   ]
  },
  {
   "cell_type": "code",
   "execution_count": 33,
   "metadata": {},
   "outputs": [],
   "source": [
    "class CrossEntropy(Cost):\n",
    "\n",
    "    def compute_value(self, y, prob):\n",
    "        \"\"\"\n",
    "        Computes the value of the cost function for given labels y and predicted probs.\n",
    "        \n",
    "        Arguments:\n",
    "        y -- labels, a numpy array of shape (1,m)\n",
    "        prob -- predicted probabilities for the different classes, a numpy array of shape (ny,m)\n",
    "        \n",
    "        Returns:\n",
    "        cost -- a scalar\n",
    "        \"\"\"\n",
    "        \n",
    "        n,m = prob.shape\n",
    "        #assert(np.max(y)<=n)\n",
    "        #py = prob[y,np.arange(m)]\n",
    "        #unsafe = np.log(py)\n",
    "        #safe = np.nan_to_num(unsafe)\n",
    "        assert(np.max(y)<=n)\n",
    "        py = prob[y,np.arange(m)]\n",
    "        J = -np.sum(np.log(py))/m \n",
    "        \n",
    "        return J\n",
    "    \n",
    "    def compute_derivative(self, y, prob):\n",
    "        \"\"\"\n",
    "        Computes the derivative of the cost function w.r.t. \n",
    "        predicted probs for given labels y and predicted probs.\n",
    "\n",
    "        Parameters:\n",
    "        y -- labels, a numpy array of shape (1,m)\n",
    "        prob -- predicted probabilities for the different classes, a numpy array of shape (ny,m)\n",
    "        \n",
    "        Returns:\n",
    "        Gradient of cost with respect to the predicted probabilities, a numpy array of shape (ny,m)\n",
    "        \"\"\"\n",
    "        n,m = prob.shape\n",
    "        result = np.zeros((n,m),dtype=float)\n",
    "        result[y[0,:],np.arange(m)] = 1.0\n",
    "        result /= prob\n",
    "        return -result"
   ]
  },
  {
   "cell_type": "code",
   "execution_count": 34,
   "metadata": {},
   "outputs": [],
   "source": [
    "class Layer(object):\n",
    "    \n",
    "    def __init__(self, layerid, nunits, nunits_prev, activ_func, initializer):\n",
    "        \"\"\"\n",
    "        Instantiates a fully connected layer for an MLP, with given number of input and output activations.\n",
    "        \n",
    "        Arguments:\n",
    "        layerid -- integer id for the layer.\n",
    "        nunits -- number of units in the given layer.\n",
    "        nunits_prev -- number of units in the previous layer (= number of input activations).\n",
    "        activ_func -- activation function to be used (with a `compute_value`- and `compute_derivative`-method).\n",
    "        initializer -- initializer for the weights and the biases.        \n",
    "        \"\"\"\n",
    "        self.layerid = layerid\n",
    "        self.nunits = nunits\n",
    "        self.nunits_prev = nunits_prev\n",
    "        self.initializer = initializer\n",
    "        self.activ_func = activ_func\n",
    "        \n",
    "        self.weights = None # shape (nunits,nunits_prev)\n",
    "        self.bias = None # shape (nunits,1)\n",
    "        self.logits = None # z-values, shape(nunits,m) - will be needed for the backprop part ...\n",
    "        self.activations = None # shape(nunits,m)\n",
    "        self.grad_logits = None # grad w.r.t. z, shape(nunits,m) - will be needed as basis for different gradients\n",
    "        \n",
    "\n",
    "    def initialize(self):\n",
    "        \"\"\"\n",
    "        Initializes the weights and biases. It uses Xavier normalisation (to be discussed in \"regularisation\").\n",
    "        \"\"\"\n",
    "        sigmaw = np.sqrt(2.0/(self.nunits+self.nunits_prev)) # suited for sigmoid activation function\n",
    "        sigmab = np.sqrt(1.0/self.nunits)\n",
    "        self.weights = self.initializer.initialize_weights(size=(self.nunits,self.nunits_prev), mu=0.0, sigma=sigmaw)\n",
    "        self.bias = self.initializer.initialize_bias(size=(self.nunits,1), mu=0.0, sigma=sigmab)\n",
    "        \n",
    "    \n",
    "    def propagate(self, activations_prev):\n",
    "        \"\"\"\n",
    "        Computes the activations of the layer given the activations of the previous layer.\n",
    "        Caches the computed logits (z-values) and activations since the values will be needed \n",
    "        when using backpropagation to compute the gradients w.r.t. weigths and biases.\n",
    "\n",
    "        Arguments:\n",
    "        activations_prev -- activations of the previous layer (or input layer). A numpy array of shape \n",
    "        (nunits_prev,m).\n",
    "        \n",
    "        Returns:\n",
    "        activations -- activations of this layer, a numpy array of shape (nunits,m)\n",
    "        \"\"\"\n",
    "        np.testing.assert_equal(activations_prev.shape[0],self.nunits_prev)\n",
    "        ### START YOUR CODE ###\n",
    "        \n",
    "        self.logits = self.weights.dot(activations_prev) + self.bias\n",
    "        self.activations = self.activ_func.compute_value(self.logits)\n",
    "        \n",
    "        ### END YOUR CODE ###\n",
    "        return self.activations\n",
    "\n",
    "    \n",
    "    def backpropagate(self, grad_activations):\n",
    "        \"\"\"\n",
    "        Computes the gradient of the cost w.r.t. to the input activations (activations of the previous \n",
    "        layer a^[l-1]) of the given layer. It also computes the gradient w.r.t. the logits (z-values) of \n",
    "        the given layer. This will be needed as the basis for computing the gradient of the cost w.r.t. \n",
    "        the weights and bias of the given layer. \n",
    "        \n",
    "        The method assumes that the forward propagation (`propagate`) has been invoked for the given mini-batch \n",
    "        so that consistent logit-values (self.logits) and activations (self.activations) are available.  \n",
    "        \n",
    "        Arguments:\n",
    "        grad_activations -- gradient of the cost w.r.t. to the output activations of the given layer (a^[l]). \n",
    "        A numpy array of shape (nunits_prev,m) \n",
    "        \n",
    "        Returns:\n",
    "        grad_activations_prev -- gradient of the cost w.r.t. to the input activations of the given layer.\n",
    "        \"\"\"\n",
    "        \n",
    "        nsamples =  self.logits.shape[1]\n",
    "        np.testing.assert_equal(grad_activations.shape,(self.nunits,nsamples))\n",
    "\n",
    "        ### START YOUR CODE ###\n",
    "        # useful for testing the shapes - once self.grad_logits is computed check shape with:\n",
    "        # dL/dz out of dL/da by computing dL/da * g'(z)\n",
    "        self.grad_logits = grad_activations * self.activ_func.compute_derivative(self.logits)\n",
    "        np.testing.assert_equal(self.grad_logits.shape,(self.nunits,nsamples))\n",
    "        \n",
    "        \n",
    "        # useful for testing the shapes - once self.grad_activations_prev is computed check shape with:\n",
    "        grad_activations_prev = self.weights.T.dot(self.grad_logits)\n",
    "        np.testing.assert_equal(grad_activations_prev.shape,(self.nunits_prev,nsamples))        \n",
    "        \n",
    "        return grad_activations_prev\n",
    "        \n",
    "        ### END YOUR CODE ###\n",
    "        \n",
    "    \n",
    "    def gradient_weights(self, activations_prev):\n",
    "        \"\"\"\n",
    "        Computes the gradient of the cost w.r.t. the weights of the given layer and for the given mini-batch.  \n",
    "\n",
    "        The method assumes that `backpropagate` (and `propagate`) has been invoked for the given mini-batch \n",
    "        so that consistent the gradient w.r.t. the logits is available.  \n",
    "\n",
    "        Arguments:\n",
    "        activations_prev -- activations of the previous layer (or input layer). A numpy array of shape \n",
    "        (nunits_prev,m).\n",
    "        \n",
    "        Returns:\n",
    "        grad_weights -- the gradient w.r.t. to the weights. A numpy array of shape (nunits, nunits_prev).\n",
    "        \"\"\"\n",
    "        ### START YOUR CODE ###\n",
    "        # dL/dz * dL/da\n",
    "        return self.grad_logits.dot(activations_prev.T)\n",
    "        \n",
    "        ### END YOUR CODE ###\n",
    "    \n",
    "\n",
    "    def gradient_bias(self):\n",
    "        \"\"\"\n",
    "        Computes the gradient of the cost w.r.t. the bias of the given layer and for the given mini-batch.  \n",
    "                \n",
    "        The method assumes that `backpropagate` (and `propagate`) has been invoked for the given mini-batch \n",
    "        so that consistent the gradient w.r.t. the logits is available.  \n",
    "                \n",
    "        Returns:\n",
    "        grad_bias -- the gradient w.r.t. to the bias. A numpy array of shape (nunits, 1).\n",
    "        \"\"\"\n",
    "        ### START YOUR CODE ###        \n",
    "        # dL/dz summed up\n",
    "        return self.grad_logits.sum(axis=1, keepdims=True)\n",
    "        \n",
    "        ### END YOUR CODE ###\n"
   ]
  },
  {
   "cell_type": "code",
   "execution_count": 35,
   "metadata": {},
   "outputs": [],
   "source": [
    "class Softmax(Layer):\n",
    "\n",
    "    def __init__(self, layerid, nunits, nunits_prev, initializer):\n",
    "        \"\"\"\n",
    "        Instantiates a Softmax layer with given number of input activations and normalised scores.\n",
    "        \n",
    "        Arguments:\n",
    "        layerid -- integer id for the layer.\n",
    "        nunits -- number of units in the given layer (=number of classes).\n",
    "        nunits_prev -- number of units in the previous layer (= number of input activations).\n",
    "        initializer -- initializer for the weights and the biases.        \n",
    "        \"\"\"\n",
    "        super().__init__(layerid, nunits, nunits_prev, softmax_activation_function(), initializer)\n",
    "        \n",
    "    def backpropagate(self, grad_activations):\n",
    "        \"\"\"\n",
    "        Computes the gradient of the cost w.r.t. to the input activations (activations of the previous \n",
    "        layer, activations_prev) of the softmax layer. \n",
    "        It also computes the gradient w.r.t. the logits (z-values) of \n",
    "        the softmax layer. This will be needed as the basis for computing the gradient of the cost w.r.t. \n",
    "        the weights and bias of the layer. \n",
    "        \n",
    "        The method assumes that the forward propagation (`propagate`)\n",
    "        has been invoked for the given mini-batch \n",
    "        so that consistent logit-values (z-logits) and activations (self.activations) are available.  \n",
    "        \n",
    "        Arguments:\n",
    "        grad_activations -- gradient of the cost w.r.t. to the output activations of the given layer. \n",
    "        A numpy array of shape (nunits_prev,m) \n",
    "        \n",
    "        Returns:\n",
    "        grad_activations_prev -- gradient of the cost w.r.t. to the input activations of the given layer.\n",
    "        \"\"\"\n",
    "        ### START YOUR CODE ###\n",
    "        np.testing.assert_equal(self.activations.shape, grad_activations.shape)\n",
    "\n",
    "        elm_wise = self.activations * grad_activations\n",
    "        scalar_prod = self.activations.T.dot(grad_activations)\n",
    "        \n",
    "        self.grad_logits = elm_wise - self.activations * scalar_prod.sum(axis=0)\n",
    "        \n",
    "        return self.weights.T.dot(self.grad_logits)\n",
    "        #return self.weights.T.dot(self.grad_logits)\n",
    "        ### END YOUR CODE ###            "
   ]
  },
  {
   "cell_type": "code",
   "execution_count": 36,
   "metadata": {},
   "outputs": [],
   "source": [
    "class MLP(object):\n",
    "    \n",
    "    def __init__(self, units_per_layer, activ_func, initializer, softmax_as_last_layer=True):\n",
    "        \"\"\"\n",
    "        Instantiates a (fully connected) MLP with architecture specified by the list `units_per_layer` \n",
    "        which contains the number of units for the layers (including the input and the output layer).\n",
    "        It instantiates the Layer-objects and uses layerid=0 for the first hidden layer, layerid=1 \n",
    "        for the second, etc.\n",
    "        \n",
    "        Arguments:\n",
    "        units_per_layer -- list with the number of units per layers (including the input and the output layer)\n",
    "        activ_func -- activation function to be used in the different layers except possibly in the output \n",
    "        layer (in case softmax_as_last_layer=True)\n",
    "        initializer -- initializer for the weights and biases of all the layers.\n",
    "        softmax_as_last_layer -- flag to indicate whether the last layer should be a softmax layer.\n",
    "        \"\"\"\n",
    "        self.layers = [] # list of layers (instances of class Layer or Softmax or the like); ordered along the forward path.\n",
    "        self.number_layers = -1 # number of layers (excluding input layer, excluding softmax layer)\n",
    "        self.x = None # input data for one iteration (propagate and backpropagate) \n",
    "\n",
    "        self.number_layers = len(units_per_layer)-1 # input layer not counted as layer\n",
    "        \n",
    "        if softmax_as_last_layer:\n",
    "            self.number_layers -= 1\n",
    "        \n",
    "        layerid = 0\n",
    "        \n",
    "        for i in range(self.number_layers):\n",
    "            layerid += 1\n",
    "            layer = Layer(layerid=layerid, nunits=units_per_layer[i+1], nunits_prev=units_per_layer[i], activ_func=activ_func, initializer=initializer)\n",
    "            self.layers.append(layer)\n",
    "        \n",
    "        if softmax_as_last_layer:\n",
    "            layerid += 1\n",
    "            layer = Softmax(layerid, units_per_layer[self.number_layers+1], units_per_layer[self.number_layers], initializer)\n",
    "            self.layers.append(layer)\n",
    "\n",
    "        \n",
    "    def initialize(self):\n",
    "        \"\"\"\n",
    "        Calls the `initialize`-method of the layers which are used to properly initialize the weights and biases. \n",
    "        \"\"\"\n",
    "        for layer in self.layers:\n",
    "            layer.initialize()\n",
    "    \n",
    "    def propagate(self, x): \n",
    "        \"\"\"\n",
    "        Computes the output of the MLP for given input (by using the propagate-method). By executing this method \n",
    "        on a given input mini-batch, the activations and the logits of all the layers are computed \n",
    "        and cached (consistent with the mini-batch). \n",
    "        \n",
    "        Arguments:\n",
    "        x -- input of shape (n_0,m)\n",
    "        \n",
    "        Returns: \n",
    "        a -- activations of the last layer of shape (n_L,m)\n",
    "        \"\"\"\n",
    "        ### START YOUR CODE ###                \n",
    "        self.x = x\n",
    "        self.layers[0].propagate(self.x)\n",
    "        \n",
    "        for i, layer in enumerate(self.layers[1:]):\n",
    "            _ = layer.propagate(self.layers[i].activations)\n",
    "            \n",
    "        return self.layers[-1].activations\n",
    "        ### END YOUR CODE ###        \n",
    "\n",
    "    def backpropagate(self, grady):\n",
    "        \"\"\"\n",
    "        Executes backpropagation for the given MLP (after having executed the `propagate`-method).\n",
    "        It starts with passing in the gradient of the cost w.r.t. the activations of the last layer \n",
    "        (i.e. the input to the cost function) and ends up with the gradient of the cost w.r.t. the \n",
    "        input to the first layer (e.g. input x). Once this method has been run, the gradients w.r.t.\n",
    "        to the logits (z-values) are computed and cached. These will be used to update the weights \n",
    "        and biases in accordance with the gradient descent principle. \n",
    "        \n",
    "        Arguments:\n",
    "        grady -- gradient with respect to the output of the network, i.e. the activations of the last layer\n",
    "        that is input to the cost function. A numpy array of shape (n_L,m)\n",
    "        \n",
    "        Returns:\n",
    "        gradient with respect to the inputs to the network. A numpy array of shape (n_0,m)\n",
    "        \"\"\"\n",
    "        ### START YOUR CODE ###        \n",
    "        grad = grady.copy()\n",
    "        \n",
    "        for i, layer in enumerate(reversed(self.layers)):\n",
    "            grad = layer.backpropagate(grad)\n",
    "        return grad\n",
    "        \n",
    "        ### END YOUR CODE ###        \n",
    "    \n",
    "    def update_params(self, learning_rate):\n",
    "        \"\"\"\n",
    "        Update the weights and biases of all the layers consistent with the gradient descent principle.\n",
    "        It assumes that the propagate and backpropagate methods have been executed.\n",
    "        \n",
    "        Arguments:\n",
    "        learning_rate -- learning rate to be used in the update rule.   \n",
    "        \"\"\"\n",
    "        ### START YOUR CODE ### \n",
    "        a = self.x\n",
    "        for layer in self.layers:\n",
    "            layer.weights -= learning_rate * layer.gradient_weights(a)\n",
    "            layer.bias -= learning_rate * layer.gradient_bias()\n",
    "            a = layer.activations\n",
    "        ### END YOUR CODE ###        \n"
   ]
  },
  {
   "cell_type": "markdown",
   "metadata": {},
   "source": [
    "#### Check the Implementation of Forward Propagation"
   ]
  },
  {
   "cell_type": "code",
   "execution_count": 37,
   "metadata": {},
   "outputs": [],
   "source": [
    "x00 = np.array([0.2,0.1,-0.3, 0.2, 0.5,-1.0, 1.0,1.5,-1.0]).reshape(3,3)\n",
    "layersizes = [3,10,20,10,5]\n",
    "np.random.seed(1)\n",
    "mlp = MLP(layersizes, sigmoid_activation_function(), Norm_Initializer(), True)\n",
    "for layerid in range(len(layersizes)-1):\n",
    "    layer = mlp.layers[layerid]\n",
    "    layer.weights = np.ones(shape=(layer.nunits,layer.nunits_prev), dtype='float')*0.1\n",
    "    layer.bias = np.zeros(shape=(layer.nunits,1), dtype='float')\n",
    "mlp.initialize()\n",
    "y00 = mlp.propagate(x00)\n",
    "np.testing.assert_equal(y00.shape, (5,3))\n",
    "y00_expected = np.array([\n",
    "    [0.18559891, 0.18553251, 0.18809197],\n",
    "    [0.28155687, 0.28171852, 0.27895721],\n",
    "    [0.05074394, 0.05071549, 0.05141478],\n",
    "    [0.13742613, 0.13757631, 0.13833757],\n",
    "    [0.34467414, 0.34445717, 0.34319847]])\n",
    "np.testing.assert_array_almost_equal(y00, y00_expected, decimal=8)"
   ]
  },
  {
   "cell_type": "markdown",
   "metadata": {},
   "source": [
    "#### Test Performance of Forward Propagation\n",
    "\n",
    "Measure the runtimes for propagating all the MNIST training set (60'000 samples) with different batch sizes."
   ]
  },
  {
   "cell_type": "code",
   "execution_count": 38,
   "metadata": {},
   "outputs": [
    {
     "name": "stdout",
     "output_type": "stream",
     "text": [
      "Exec time for batchsize     1 : 90.660 sec\n",
      "Exec time for batchsize    10 : 23.846 sec\n",
      "Exec time for batchsize   100 : 12.811 sec\n",
      "Exec time for batchsize  1000 : 10.955 sec\n",
      "Exec time for batchsize 10000 :  9.464 sec\n",
      "Exec time for batchsize 60000 :  8.795 sec\n"
     ]
    }
   ],
   "source": [
    "from timeit import default_timer as timer\n",
    "\n",
    "layersizes = [ds.nx,1000,800,700,600,400,200,100,100,10]\n",
    "mlp = MLP(layersizes, sigmoid_activation_function(), Norm_Initializer(), True)\n",
    "mlp.initialize()\n",
    "batchsizes = [1,10,100,1000,10000,60000]\n",
    "runtimes = {}\n",
    "nsamples = ds.mtrain\n",
    "\n",
    "for batchsize in batchsizes:\n",
    "    start = timer()\n",
    "    ds.prepare_batches(batchsize)\n",
    "    for i in range(ds.number_of_batches()):\n",
    "        xx, yy = ds.next_batch()\n",
    "        yypred = mlp.propagate(xx)\n",
    "    end = timer()\n",
    "    runtime = end-start\n",
    "    print(\"Exec time for batchsize %5i : %6.3f sec\"%(batchsize,runtime))\n",
    "    runtimes[batchsize] = runtime\n",
    "\n",
    "\n"
   ]
  },
  {
   "cell_type": "markdown",
   "metadata": {},
   "source": [
    "#### Check the Implementation of the Gradient\n",
    "\n",
    "For checking the implementation, compute a numeric approximation of the gradient ('numeric gradient') by using the formula as explained in the class. Compare this with the analytic formulas ('analytic gradient') obtained when implementing backprop (or the derivatives of the cross entropy cost).\n",
    "\n",
    "Actually, do this checking for the cross entropy cost as well as for the MLP model.\n",
    "\n",
    "When choosing delta0~1.0e-8, we expect a difference of the numeric and the analytic gradient of <= 3.0e-7.  "
   ]
  },
  {
   "cell_type": "code",
   "execution_count": 19,
   "metadata": {},
   "outputs": [
    {
     "name": "stdout",
     "output_type": "stream",
     "text": [
      "1.1854167203395605e-08\n",
      "0.0\n",
      "1.414096573171264e-07\n"
     ]
    }
   ],
   "source": [
    "# Check Gradient of Cross Entropy Cost\n",
    "\n",
    "ce = CrossEntropy()\n",
    "\n",
    "y = np.array([0,2]).reshape(1,2)\n",
    "probs0 = np.array([[0.7,0.1,0.2]]).reshape(1,3).T\n",
    "J0 = ce.compute_value(y,probs0)\n",
    "\n",
    "delta0 = 1.0e-8\n",
    "for i in range(3):\n",
    "    delta = np.zeros((3,1),dtype='float')\n",
    "    delta[i,0] = delta0\n",
    "    probs1 = probs0 + delta\n",
    "    J1 = ce.compute_value(y,probs1)\n",
    "    numeric = (J1-J0)/delta0\n",
    "    analytic = ce.compute_derivative(y,probs0)[i,0]\n",
    "    d = np.abs(numeric-analytic)\n",
    "    print(d)"
   ]
  },
  {
   "cell_type": "code",
   "execution_count": 34,
   "metadata": {},
   "outputs": [
    {
     "name": "stdout",
     "output_type": "stream",
     "text": [
      "[<__main__.Layer object at 0x7f5b4ef73978>, <__main__.Layer object at 0x7f5b4ef739b0>, <__main__.Layer object at 0x7f5b4ef739e8>, <__main__.Softmax object at 0x7f5b4ef73a20>]\n",
      "Testing layer with id 0\n",
      "Testing layer with id 1\n",
      "Testing layer with id 2\n",
      "Testing layer with id 3\n"
     ]
    }
   ],
   "source": [
    "# Check gradient of cost w.r.t. weights and biases of MLP\n",
    "# An output with a discrepancy is provided only if the difference \n",
    "# between numeric and analytic gradient \n",
    "# exceeds the accuray of 3.0e-7. \n",
    "# Definitely, the difference should not get much larger than this accuracy.\n",
    "\n",
    "accuracy = 3.0e-7\n",
    "\n",
    "layersizes = [100,200,300,100,10]\n",
    "\n",
    "mlp0 = MLP(layersizes, sigmoid_activation_function(), Norm_Initializer(), True)\n",
    "mlp0.initialize()\n",
    "mlp1 = MLP(layersizes, sigmoid_activation_function(), Norm_Initializer(), True)\n",
    "mlp1.initialize()\n",
    "print(mlp0.layers)\n",
    "for layerid in range(len(layersizes)-1):\n",
    "    mlp1.layers[layerid].weights = mlp0.layers[layerid].weights.copy()\n",
    "    mlp1.layers[layerid].bias = mlp0.layers[layerid].bias.copy()\n",
    "\n",
    "m = 1\n",
    "x = np.random.uniform(-0.5,0.5,size=(layersizes[0],m))\n",
    "y = np.random.randint(0,3,size=(1,m))\n",
    "probs0 = mlp0.propagate(x)\n",
    "gradJ = ce.compute_derivative(y,probs0)\n",
    "mlp0.backpropagate(gradJ)\n",
    "J0 = ce.compute_value(y,probs0)\n",
    "\n",
    "delta0 = 1.0e-8\n",
    "for layerid in range(len(layersizes)-1):\n",
    "    print(\"Testing layer with id %s\"%(layerid))\n",
    "    if layerid==0:\n",
    "        activations_prev = x\n",
    "    else:\n",
    "        activations_prev = mlp0.layers[layerid-1].activations\n",
    "    for i in range(layersizes[layerid+1]):\n",
    "        for j in range(layersizes[layerid]):\n",
    "            mlp1.layers[layerid].weights[i,j]+=delta0\n",
    "            probs1 = mlp1.propagate(x)\n",
    "            J1 = ce.compute_value(y,probs1)\n",
    "            numeric = (J1-J0)/delta0\n",
    "            analytic = mlp0.layers[layerid].gradient_weights(activations_prev)[i,j]\n",
    "            d = np.abs(numeric-analytic)\n",
    "            if d > accuracy:\n",
    "                print(\"Layer %i (%i,%i)\"%(layerid,i,j), d, numeric, analytic)\n",
    "            mlp1.layers[layerid].weights[i,j]-=delta0\n"
   ]
  },
  {
   "cell_type": "markdown",
   "metadata": {},
   "source": [
    "#### Metrics Class\n",
    "\n",
    "For not littering the optimization loop with code to keep track of the learning results over the epochs we defined a suitable metrics object that keeps all the data (cost function, classification error vs epochs). It also provides utility methods for updating, printing values or plotting the learning curves.\n",
    "\n",
    "It is defined as python class the metrics object then needs to be instantiated from. It means that some small knowledge about object-oriented programming is needed here.  "
   ]
  },
  {
   "cell_type": "code",
   "execution_count": 61,
   "metadata": {},
   "outputs": [],
   "source": [
    "import matplotlib.pyplot as plt\n",
    "\n",
    "class Metrics():\n",
    "    \"\"\"\n",
    "    Allows to collect statistics (such as classification error or cost) that are of interest over the course of training\n",
    "    and for creating learning curves that are a useful tool for analyzing the quality of the learning.\n",
    "    \"\"\"\n",
    "    \n",
    "    def __init__(self, cost):\n",
    "        \"\"\"\n",
    "        Constructor for a metrics object. \n",
    "        Initializes all the statistics to track in form of python lists.\n",
    "        \n",
    "        Parameters:\n",
    "        cost -- cost function to use (a python function)\n",
    "        smooth -- if set to true updates learning curve after each training step and also provides learning curves \n",
    "        smoothed over the epoch  \n",
    "        \"\"\"\n",
    "        self.epochs = []\n",
    "        self.train_costs_last = []\n",
    "        self.test_costs_last = []\n",
    "        self.train_errors_last = []\n",
    "        self.test_errors_last = []\n",
    "\n",
    "        self.cost = cost\n",
    "        self.init_epoch()\n",
    "\n",
    "            \n",
    "    def init_epoch(self):\n",
    "        self.train_costs_epoch = []\n",
    "        self.test_costs_epoch = []\n",
    "        self.train_errors_epoch = []\n",
    "        self.test_errors_epoch = []\n",
    "        \n",
    "        \n",
    "    def update_epoch(self, epoch):\n",
    "        \"\"\"\n",
    "        Computes the average of the metrics over the epoch and adds the result to the per epoch history\n",
    "        \n",
    "        Parameters:\n",
    "        epoch -- the epoch to add to the per epoch cache\n",
    "        \"\"\"\n",
    "        self.epochs.append(epoch)\n",
    "        self.train_costs_last.append(self.train_costs_epoch[-1])\n",
    "        self.test_costs_last.append(self.test_costs_epoch[-1])\n",
    "        self.train_errors_last.append(self.train_errors_epoch[-1])\n",
    "        self.test_errors_last.append(self.test_errors_epoch[-1])\n",
    "        \n",
    "        self.init_epoch()\n",
    "    \n",
    "    def error_rate(self, y, probs):\n",
    "        m = y.shape[1]\n",
    "        ypred = np.argmax(probs, axis=0).reshape(1,m)\n",
    "        rate = np.sum(y != ypred) / m\n",
    "        return rate        \n",
    "        \n",
    "    def update_iteration(self, ypred_train, y_train, ypred_test, y_test):\n",
    "        \"\"\"\n",
    "        Allows to update the statistics to be tracked for a new epoch.\n",
    "        The cost is computed by using the function object passed to the constructor.\n",
    "        \n",
    "        Parameters:\n",
    "        epoch -- Epoch\n",
    "        ypred_train -- predicted values on the training samples, a numpy array of shape (1,m1)\n",
    "        y_train -- ground truth labels associated with the training samples, a numpy array of shape (1,m1)\n",
    "        ypred_test -- predicted values on the test samples, a numpy array of shape (1,m2)\n",
    "        y_test -- ground truth labels associated with the test samples, a numpy array of shape (1,m2)\n",
    "        \"\"\"\n",
    "        Jtrain = self.cost.compute_value(y_train, ypred_train)\n",
    "        Jtest = self.cost.compute_value(y_test, ypred_test)\n",
    "        train_error = self.error_rate(y_train, ypred_train)\n",
    "        test_error = self.error_rate(y_test, ypred_test)\n",
    "\n",
    "        self.train_costs_epoch.append(Jtrain)\n",
    "        self.test_costs_epoch.append(Jtest)\n",
    "        self.train_errors_epoch.append(train_error)\n",
    "        self.test_errors_epoch.append(test_error)\n",
    "        \n",
    "        \n",
    "    def print_latest_errors(self):\n",
    "        print (\"Train/test error after epoch %i: %f, %f\" %(self.epochs[-1], self.train_errors_last[-1], self.test_errors_last[-1]))\n",
    "\n",
    "    def print_latest_costs(self):\n",
    "        print (\"Train/test cost after epoch %i: %f, %f\" %(self.epochs[-1], self.train_costs_last[-1], self.test_costs_last[-1]))\n",
    "\n",
    "    def plot_cost_curves(self, xrange=None, yrange=None, logscale=True):\n",
    "        if logscale:\n",
    "            plt.semilogy(self.epochs, self.train_costs_last, \"b-\", label=\"train\")\n",
    "            plt.semilogy(self.epochs, self.test_costs_last, \"r-\", label=\"test\")\n",
    "        else:\n",
    "            plt.plot(self.epochs, self.train_costs_last, \"b-\", label=\"train\")\n",
    "            plt.plot(self.epochs, self.test_costs_last, \"r-\", label=\"test\")            \n",
    "        plt.ylabel('Cost')\n",
    "        plt.xlabel('Epochs')\n",
    "        if not xrange:\n",
    "            xrange=(0,self.epochs[-1])\n",
    "        if not yrange:\n",
    "            ymin = min(max(1e-5,np.min(self.train_costs_last)),max(1e-5,np.min(self.test_costs_last))) * 0.8\n",
    "            ymax = max(np.max(self.train_costs_last),np.max(self.test_costs_last)) * 1.2\n",
    "            yrange = (ymin,ymax)\n",
    "        plt.axis([xrange[0],xrange[1],yrange[0],yrange[1]])\n",
    "        plt.legend()\n",
    "        plt.show()        \n",
    "    \n",
    "    def plot_error_curves(self, xrange=None, yrange=None, logscale=True):\n",
    "        if logscale:\n",
    "            plt.semilogy(self.epochs, self.train_errors_last, \"b-\", label=\"train\")\n",
    "            plt.semilogy(self.epochs, self.test_errors_last, \"r-\", label=\"test\")\n",
    "        else:\n",
    "            plt.plot(self.epochs, self.train_errors_last, \"b-\", label=\"train\")\n",
    "            plt.plot(self.epochs, self.test_errors_last, \"r-\", label=\"test\")            \n",
    "        plt.ylabel('Errors')\n",
    "        plt.xlabel('Epochs')\n",
    "        if not xrange:\n",
    "            xrange=(0,self.epochs[-1])\n",
    "        if not yrange:\n",
    "            ymin = min(max(1e-5,np.min(self.train_errors_last)),max(1e-5,np.min(self.test_errors_last))) * 0.8\n",
    "            ymax = max(np.max(self.train_errors_last),np.max(self.test_errors_last)) * 1.2\n",
    "            yrange = (ymin,ymax)\n",
    "        plt.axis([xrange[0],xrange[1],yrange[0],yrange[1]])        \n",
    "        plt.legend()\n",
    "        plt.show()"
   ]
  },
  {
   "cell_type": "markdown",
   "metadata": {},
   "source": [
    "### Training, Evaluating Performance"
   ]
  },
  {
   "cell_type": "code",
   "execution_count": 84,
   "metadata": {},
   "outputs": [],
   "source": [
    "def optimize(mlp, cost, ds, nepochs, learning_rate, batchsize=32, debug=True):\n",
    "    \"\"\"\n",
    "    \n",
    "    Arguments:\n",
    "    mlp -- instance of MLP\n",
    "    cost -- instance of cost function to be used.\n",
    "    ds -- instance of Dataset class\n",
    "    nepochs -- number of epochs (sweeps through the training dataset in the optimization loop)\n",
    "    learning_rate -- learning rate of the gradient descent update rule\n",
    "    batchsize -- batch size, defaults to 32\n",
    "    debug -- if true prints training and test error values after each epoch. Defaults to True.\n",
    "    \n",
    "    Returns:\n",
    "    metrics -- contain the information about the learning curves\n",
    "    \"\"\" \n",
    "    mlp.initialize()\n",
    "    metrics = Metrics(cost = cost)\n",
    "    ds.prepare_batches(batchsize)\n",
    "\n",
    "    # compute and set the initial values for the metrics curves\n",
    "    ypred_train = mlp.propagate(ds.xtrain)\n",
    "    ypred_test = mlp.propagate(ds.xtest)    \n",
    "    metrics.update_iteration(ypred_train, ds.ytrain, ypred_test, ds.ytest)\n",
    "    metrics.update_epoch(0)\n",
    "    \n",
    "    # Loop over the epochs\n",
    "    nan_check=False\n",
    "    for i in range(nepochs):\n",
    "                \n",
    "        ds.prepare_batches(batchsize)\n",
    "        \n",
    "        ### START YOUR CODE ### \n",
    "        # Loop over the batches: \n",
    "        # propagate and then back-propagate the gradient of the cost\n",
    "        # update the parameters by using the gradient of the costs w.r.t. these parameters and the learning rate\n",
    "        # finally update the metrics object\n",
    "        #i=0\n",
    "        for batch in range(ds.number_of_batches()):\n",
    "            x_batch, y_batch = ds.next_batch()\n",
    "            y_pred_batch = mlp.propagate(x_batch)\n",
    "            \n",
    "            gradJ = cost.compute_derivative(y_batch, y_pred_batch)\n",
    "            \n",
    "            grad0 = mlp.backpropagate(gradJ)\n",
    "            cost_val = ce.compute_value(y_batch, y_pred_batch)\n",
    "            if np.isnan(cost_val):\n",
    "                nan_check=True\n",
    "                break\n",
    "            mlp.update_params(learning_rate)\n",
    "            #i+= 1\n",
    "            #if i >= 1:\n",
    "            #    break\n",
    "        \n",
    "        if nan_check:\n",
    "            print('NaN cost function - consider tuning your hyperparameters')\n",
    "            return metrics\n",
    "        \n",
    "        ypred_train = mlp.propagate(ds.xtrain)\n",
    "        ypred_test = mlp.propagate(ds.xtest)    \n",
    "\n",
    "        metrics.update_iteration(ypred_train, ds.ytrain, ypred_test, ds.ytest)\n",
    "            \n",
    "        metrics.update_epoch(i+1)\n",
    "        \n",
    "        ### END YOUR CODE ### \n",
    "            \n",
    "        if debug:\n",
    "            metrics.print_latest_costs()\n",
    "            metrics.print_latest_errors()\n",
    "        \n",
    "    metrics.print_latest_costs()\n",
    "    metrics.print_latest_errors()\n",
    "\n",
    "    return metrics    "
   ]
  },
  {
   "cell_type": "code",
   "execution_count": 91,
   "metadata": {
    "scrolled": true
   },
   "outputs": [
    {
     "name": "stdout",
     "output_type": "stream",
     "text": [
      "Train/test cost after epoch 20: 4.473072, 4.473008\n",
      "Train/test error after epoch 20: 0.859533, 0.862300\n",
      "62.06166622799719\n"
     ]
    }
   ],
   "source": [
    "from timeit import default_timer as timer\n",
    "\n",
    "### START YOUR CODE ### \n",
    "learning_rate = 1e-6\n",
    "batchsize = 64\n",
    "nepochs = 20\n",
    "\n",
    "layersizes = [784, 100, 100]\n",
    "### END YOUR CODE ### \n",
    "\n",
    "mlp = MLP(layersizes, sigmoid_activation_function(), Norm_Initializer(), True)\n",
    "ce = CrossEntropy()\n",
    "\n",
    "\n",
    "start = timer()\n",
    "metrics = optimize(mlp, ce, ds, nepochs, learning_rate, batchsize=batchsize, debug=False)\n",
    "end = timer()\n",
    "lapsetime = end-start\n",
    "print(lapsetime)\n"
   ]
  },
  {
   "cell_type": "code",
   "execution_count": 109,
   "metadata": {
    "scrolled": true
   },
   "outputs": [
    {
     "data": {
      "image/png": "[encoded data removed]",
      "text/plain": [
       "<Figure size 432x288 with 1 Axes>"
      ]
     },
     "metadata": {
      "needs_background": "light"
     },
     "output_type": "display_data"
    }
   ],
   "source": [
    "metrics.plot_cost_curves()"
   ]
  },
  {
   "cell_type": "code",
   "execution_count": 87,
   "metadata": {},
   "outputs": [
    {
     "data": {
      "image/png": "[encoded data removed]",
      "text/plain": [
       "<Figure size 432x288 with 1 Axes>"
      ]
     },
     "metadata": {
      "needs_background": "light"
     },
     "output_type": "display_data"
    },
    {
     "name": "stdout",
     "output_type": "stream",
     "text": [
      "Train/test error after epoch 20: 0.886033, 0.884500\n"
     ]
    }
   ],
   "source": [
    "metrics.plot_error_curves(yrange=(0,1), logscale=False)\n",
    "metrics.print_latest_errors()"
   ]
  },
  {
   "cell_type": "code",
   "execution_count": 93,
   "metadata": {},
   "outputs": [],
   "source": [
    "learning_rates=[1e-4, 1e-5, 1e-6, 1e-7]\n",
    "batchsize=[32,64,128,256]\n",
    "nepochs=[50,100,150,200,250]"
   ]
  },
  {
   "cell_type": "code",
   "execution_count": 113,
   "metadata": {},
   "outputs": [],
   "source": [
    "def do_training(lr, bs, nep):\n",
    "    print('learning_rate={}, batchsize={}, nepochs={}'.format(lr, bs, nep))\n",
    "    mlp = MLP(layersizes, sigmoid_activation_function(), Norm_Initializer(), True)\n",
    "    ce = CrossEntropy()\n",
    "\n",
    "    start = timer()\n",
    "    metrics = optimize(mlp, ce, ds, nep, lr, batchsize=bs, debug=False)\n",
    "    end = timer()\n",
    "    lapsetime = end-start\n",
    "    print(lapsetime)\n",
    "    print('--------------------')\n",
    "    return metrics"
   ]
  },
  {
   "cell_type": "code",
   "execution_count": 101,
   "metadata": {},
   "outputs": [
    {
     "name": "stdout",
     "output_type": "stream",
     "text": [
      "learning_rate=0.0001, batchsize=32, nepochs=50\n"
     ]
    },
    {
     "name": "stderr",
     "output_type": "stream",
     "text": [
      "/usr/local/lib/python3.6/dist-packages/ipykernel_launcher.py:41: RuntimeWarning: invalid value encountered in true_divide\n"
     ]
    },
    {
     "name": "stdout",
     "output_type": "stream",
     "text": [
      "NaN cost function - consider tuning your hyperparameters\n",
      "17.604148825001175\n",
      "--------------------\n",
      "learning_rate=1e-05, batchsize=32, nepochs=50\n",
      "NaN cost function - consider tuning your hyperparameters\n",
      "180.5194689079981\n",
      "--------------------\n",
      "learning_rate=1e-06, batchsize=32, nepochs=50\n",
      "Train/test cost after epoch 50: 4.356043, 4.355879\n",
      "Train/test error after epoch 50: 0.887733, 0.885900\n",
      "220.8009586799999\n",
      "--------------------\n",
      "learning_rate=1e-07, batchsize=32, nepochs=50\n",
      "Train/test cost after epoch 50: 4.342970, 4.342784\n",
      "Train/test error after epoch 50: 0.837300, 0.835400\n",
      "221.62384665999707\n",
      "--------------------\n"
     ]
    }
   ],
   "source": [
    "do_training(1e-4, 32, 50)\n",
    "do_training(1e-5, 32, 50)\n",
    "do_training(1e-6, 32, 50)\n",
    "do_training(1e-7, 32, 50)"
   ]
  },
  {
   "cell_type": "markdown",
   "metadata": {},
   "source": [
    "### Comment\n",
    "Based on the output here we can conclude that even for a small batch size we need a learning rate from $\\leq 1*10^{-6}$. We therefore focus on `1e-6` and `1e-7` for larger batch sizes and more epochs.\n",
    "\n",
    "__Note__ that the section below will have a long time to run."
   ]
  },
  {
   "cell_type": "code",
   "execution_count": 114,
   "metadata": {},
   "outputs": [
    {
     "name": "stdout",
     "output_type": "stream",
     "text": [
      "learning_rate=1e-06, batchsize=64, nepochs=50\n",
      "Train/test cost after epoch 50: 4.473295, 4.473186\n",
      "Train/test error after epoch 50: 0.887667, 0.885800\n",
      "155.9448786799985\n",
      "--------------------\n",
      "learning_rate=1e-07, batchsize=64, nepochs=50\n",
      "Train/test cost after epoch 50: 4.473668, 4.473873\n",
      "Train/test error after epoch 50: 0.855367, 0.858800\n",
      "157.55964744200173\n",
      "--------------------\n"
     ]
    }
   ],
   "source": [
    "metrics_bs64_nepochs50_lr6 = do_training(1e-6, 64, 50)\n",
    "metrics_bs64_nepochs50_lr7 = do_training(1e-7, 64, 50)"
   ]
  },
  {
   "cell_type": "code",
   "execution_count": 116,
   "metadata": {},
   "outputs": [
    {
     "data": {
      "image/png": "[encoded data removed]",
      "text/plain": [
       "<Figure size 432x288 with 1 Axes>"
      ]
     },
     "metadata": {
      "needs_background": "light"
     },
     "output_type": "display_data"
    }
   ],
   "source": [
    "metrics_bs64_nepochs50_lr6.plot_cost_curves()"
   ]
  },
  {
   "cell_type": "code",
   "execution_count": 115,
   "metadata": {},
   "outputs": [
    {
     "data": {
      "image/png": "[encoded data removed]",
      "text/plain": [
       "<Figure size 432x288 with 1 Axes>"
      ]
     },
     "metadata": {
      "needs_background": "light"
     },
     "output_type": "display_data"
    }
   ],
   "source": [
    "metrics_bs64_nepochs50_lr7.plot_cost_curves()"
   ]
  },
  {
   "cell_type": "code",
   "execution_count": 117,
   "metadata": {},
   "outputs": [
    {
     "name": "stdout",
     "output_type": "stream",
     "text": [
      "learning_rate=1e-06, batchsize=128, nepochs=50\n",
      "Train/test cost after epoch 50: 4.536981, 4.536928\n",
      "Train/test error after epoch 50: 0.887733, 0.885900\n",
      "158.8119157379988\n",
      "--------------------\n",
      "learning_rate=1e-07, batchsize=128, nepochs=50\n",
      "Train/test cost after epoch 50: 4.536799, 4.536778\n",
      "Train/test error after epoch 50: 0.866300, 0.865000\n",
      "132.56394038099825\n",
      "--------------------\n"
     ]
    }
   ],
   "source": [
    "metrics_bs128_nepochs50_lr6 = do_training(1e-6, 128, 50)\n",
    "metrics_bs128_nepochs50_lr7 = do_training(1e-7, 128, 50)"
   ]
  },
  {
   "cell_type": "code",
   "execution_count": 118,
   "metadata": {},
   "outputs": [
    {
     "data": {
      "image/png": "[encoded data removed]",
      "text/plain": [
       "<Figure size 432x288 with 1 Axes>"
      ]
     },
     "metadata": {
      "needs_background": "light"
     },
     "output_type": "display_data"
    }
   ],
   "source": [
    "metrics_bs128_nepochs50_lr6.plot_cost_curves()"
   ]
  },
  {
   "cell_type": "code",
   "execution_count": 119,
   "metadata": {},
   "outputs": [
    {
     "data": {
      "image/png": "[encoded data removed]",
      "text/plain": [
       "<Figure size 432x288 with 1 Axes>"
      ]
     },
     "metadata": {
      "needs_background": "light"
     },
     "output_type": "display_data"
    }
   ],
   "source": [
    "metrics_bs128_nepochs50_lr7.plot_cost_curves()"
   ]
  },
  {
   "cell_type": "code",
   "execution_count": 120,
   "metadata": {},
   "outputs": [
    {
     "name": "stdout",
     "output_type": "stream",
     "text": [
      "learning_rate=1e-06, batchsize=256, nepochs=50\n",
      "Train/test cost after epoch 50: 4.570484, 4.570447\n",
      "Train/test error after epoch 50: 0.887683, 0.885700\n",
      "122.56849623399467\n",
      "--------------------\n",
      "learning_rate=1e-07, batchsize=256, nepochs=50\n",
      "Train/test cost after epoch 50: 4.570488, 4.570533\n",
      "Train/test error after epoch 50: 0.889700, 0.892300\n",
      "114.18953540299844\n",
      "--------------------\n"
     ]
    }
   ],
   "source": [
    "metrics_bs256_nepochs50_lr6 = do_training(1e-6, 256, 50)\n",
    "metrics_bs256_nepochs50_lr7 = do_training(1e-7, 256, 50)"
   ]
  },
  {
   "cell_type": "code",
   "execution_count": 121,
   "metadata": {},
   "outputs": [
    {
     "data": {
      "image/png": "[encoded data removed]",
      "text/plain": [
       "<Figure size 432x288 with 1 Axes>"
      ]
     },
     "metadata": {
      "needs_background": "light"
     },
     "output_type": "display_data"
    }
   ],
   "source": [
    "metrics_bs256_nepochs50_lr6.plot_cost_curves()"
   ]
  },
  {
   "cell_type": "code",
   "execution_count": 122,
   "metadata": {},
   "outputs": [
    {
     "data": {
      "image/png": "[encoded data removed]",
      "text/plain": [
       "<Figure size 432x288 with 1 Axes>"
      ]
     },
     "metadata": {
      "needs_background": "light"
     },
     "output_type": "display_data"
    }
   ],
   "source": [
    "metrics_bs256_nepochs50_lr7.plot_cost_curves()"
   ]
  },
  {
   "cell_type": "markdown",
   "metadata": {},
   "source": [
    "### Comment\n",
    "We will try to optimize Batchsize of 256 as it looks strange with a learning rate of `1e-7` and Batchsize 64 with more epochs. Also we will stick to a learning rate of `1e-7` now."
   ]
  },
  {
   "cell_type": "code",
   "execution_count": 123,
   "metadata": {},
   "outputs": [
    {
     "name": "stdout",
     "output_type": "stream",
     "text": [
      "learning_rate=1e-07, batchsize=64, nepochs=100\n",
      "Train/test cost after epoch 100: 4.472573, 4.472439\n",
      "Train/test error after epoch 100: 0.877133, 0.875800\n",
      "305.87507335300324\n",
      "--------------------\n",
      "learning_rate=1e-07, batchsize=64, nepochs=150\n",
      "Train/test cost after epoch 150: 4.473614, 4.473540\n",
      "Train/test error after epoch 150: 0.903133, 0.902000\n",
      "470.9446842949983\n",
      "--------------------\n",
      "learning_rate=1e-07, batchsize=64, nepochs=200\n",
      "Train/test cost after epoch 200: 4.472967, 4.472846\n",
      "Train/test error after epoch 200: 0.882783, 0.882300\n",
      "639.355293957\n",
      "--------------------\n"
     ]
    }
   ],
   "source": [
    "metrics_bs64_nepochs100_lr7 = do_training(1e-7, 64, 100)\n",
    "metrics_bs64_nepochs150_lr7 = do_training(1e-7, 64, 150)\n",
    "metrics_bs64_nepochs200_lr7 = do_training(1e-7, 64, 200)"
   ]
  },
  {
   "cell_type": "code",
   "execution_count": 128,
   "metadata": {},
   "outputs": [
    {
     "data": {
      "image/png": "[encoded data removed]",
      "text/plain": [
       "<Figure size 432x288 with 1 Axes>"
      ]
     },
     "metadata": {
      "needs_background": "light"
     },
     "output_type": "display_data"
    }
   ],
   "source": [
    "metrics_bs64_nepochs100_lr7.plot_cost_curves()"
   ]
  },
  {
   "cell_type": "code",
   "execution_count": 129,
   "metadata": {},
   "outputs": [
    {
     "data": {
      "image/png": "[encoded data removed]",
      "text/plain": [
       "<Figure size 432x288 with 1 Axes>"
      ]
     },
     "metadata": {
      "needs_background": "light"
     },
     "output_type": "display_data"
    }
   ],
   "source": [
    "metrics_bs64_nepochs150_lr7.plot_cost_curves()"
   ]
  },
  {
   "cell_type": "code",
   "execution_count": 130,
   "metadata": {},
   "outputs": [
    {
     "data": {
      "image/png": "[encoded data removed]",
      "text/plain": [
       "<Figure size 432x288 with 1 Axes>"
      ]
     },
     "metadata": {
      "needs_background": "light"
     },
     "output_type": "display_data"
    }
   ],
   "source": [
    "metrics_bs64_nepochs200_lr7.plot_cost_curves()"
   ]
  },
  {
   "cell_type": "code",
   "execution_count": 124,
   "metadata": {},
   "outputs": [
    {
     "name": "stdout",
     "output_type": "stream",
     "text": [
      "learning_rate=1e-07, batchsize=256, nepochs=100\n",
      "Train/test cost after epoch 100: 4.570578, 4.570554\n",
      "Train/test error after epoch 100: 0.887700, 0.885900\n",
      "220.79631925500144\n",
      "--------------------\n",
      "learning_rate=1e-07, batchsize=256, nepochs=150\n",
      "Train/test cost after epoch 150: 4.570484, 4.570461\n",
      "Train/test error after epoch 150: 0.887733, 0.885900\n",
      "341.1301169819999\n",
      "--------------------\n",
      "learning_rate=1e-07, batchsize=256, nepochs=200\n",
      "Train/test cost after epoch 200: 4.570473, 4.570451\n",
      "Train/test error after epoch 200: 0.887533, 0.885600\n",
      "444.2365559450045\n",
      "--------------------\n"
     ]
    }
   ],
   "source": [
    "metrics_bs256_nepochs100_lr7 = do_training(1e-7, 256, 100)\n",
    "metrics_bs256_nepochs150_lr7 = do_training(1e-7, 256, 150)\n",
    "metrics_bs256_nepochs200_lr7 = do_training(1e-7, 256, 200)"
   ]
  },
  {
   "cell_type": "code",
   "execution_count": 125,
   "metadata": {},
   "outputs": [
    {
     "data": {
      "image/png": "[encoded data removed]",
      "text/plain": [
       "<Figure size 432x288 with 1 Axes>"
      ]
     },
     "metadata": {
      "needs_background": "light"
     },
     "output_type": "display_data"
    }
   ],
   "source": [
    "metrics_bs256_nepochs100_lr7.plot_cost_curves()"
   ]
  },
  {
   "cell_type": "code",
   "execution_count": 126,
   "metadata": {},
   "outputs": [
    {
     "data": {
      "image/png": "[encoded data removed]",
      "text/plain": [
       "<Figure size 432x288 with 1 Axes>"
      ]
     },
     "metadata": {
      "needs_background": "light"
     },
     "output_type": "display_data"
    }
   ],
   "source": [
    "metrics_bs256_nepochs150_lr7.plot_cost_curves()"
   ]
  },
  {
   "cell_type": "code",
   "execution_count": 127,
   "metadata": {},
   "outputs": [
    {
     "data": {
      "image/png": "[encoded data removed]",
      "text/plain": [
       "<Figure size 432x288 with 1 Axes>"
      ]
     },
     "metadata": {
      "needs_background": "light"
     },
     "output_type": "display_data"
    }
   ],
   "source": [
    "metrics_bs256_nepochs200_lr7.plot_cost_curves()"
   ]
  },
  {
   "cell_type": "markdown",
   "metadata": {},
   "source": [
    "### Comment\n",
    "Based on the last observations it might be that we should only fit 25 epochs, as the cost is very low when only using 25 epochs, especially with batchsize 64. With batchsize 256 we see that there are only maybe 5 epochs needed. We will fit these last two models."
   ]
  },
  {
   "cell_type": "code",
   "execution_count": 133,
   "metadata": {},
   "outputs": [
    {
     "name": "stdout",
     "output_type": "stream",
     "text": [
      "learning_rate=1e-07, batchsize=64, nepochs=25\n",
      "Train/test cost after epoch 25: 4.464444, 4.464028\n",
      "Train/test error after epoch 25: 0.881483, 0.876700\n",
      "79.22711102700123\n",
      "--------------------\n"
     ]
    }
   ],
   "source": [
    "metrics_bs64_nepochs25_lr7 = do_training(1e-7, 64, 25)"
   ]
  },
  {
   "cell_type": "code",
   "execution_count": 134,
   "metadata": {},
   "outputs": [
    {
     "data": {
      "image/png": "[encoded data removed]",
      "text/plain": [
       "<Figure size 432x288 with 1 Axes>"
      ]
     },
     "metadata": {
      "needs_background": "light"
     },
     "output_type": "display_data"
    }
   ],
   "source": [
    "metrics_bs64_nepochs25_lr7.plot_cost_curves()"
   ]
  },
  {
   "cell_type": "code",
   "execution_count": 135,
   "metadata": {},
   "outputs": [
    {
     "data": {
      "image/png": "[encoded data removed]",
      "text/plain": [
       "<Figure size 432x288 with 1 Axes>"
      ]
     },
     "metadata": {
      "needs_background": "light"
     },
     "output_type": "display_data"
    },
    {
     "name": "stdout",
     "output_type": "stream",
     "text": [
      "Train/test error after epoch 25: 0.881483, 0.876700\n"
     ]
    }
   ],
   "source": [
    "metrics_bs64_nepochs25_lr7.plot_error_curves(yrange=(0,1), logscale=False)\n",
    "metrics_bs64_nepochs25_lr7.print_latest_errors()"
   ]
  },
  {
   "cell_type": "code",
   "execution_count": 138,
   "metadata": {},
   "outputs": [
    {
     "data": {
      "image/png": "[encoded data removed]",
      "text/plain": [
       "<Figure size 432x288 with 1 Axes>"
      ]
     },
     "metadata": {
      "needs_background": "light"
     },
     "output_type": "display_data"
    },
    {
     "name": "stdout",
     "output_type": "stream",
     "text": [
      "Train/test error after epoch 100: 0.877133, 0.875800\n"
     ]
    }
   ],
   "source": [
    "metrics_bs64_nepochs100_lr7.plot_error_curves(yrange=(0,1), logscale=False)\n",
    "metrics_bs64_nepochs100_lr7.print_latest_errors()"
   ]
  },
  {
   "cell_type": "code",
   "execution_count": 131,
   "metadata": {},
   "outputs": [
    {
     "name": "stdout",
     "output_type": "stream",
     "text": [
      "learning_rate=1e-07, batchsize=256, nepochs=5\n",
      "Train/test cost after epoch 5: 4.598290, 4.598481\n",
      "Train/test error after epoch 5: 0.981517, 0.980500\n",
      "11.081383974997152\n",
      "--------------------\n"
     ]
    }
   ],
   "source": [
    "metrics_bs256_nepochs5_lr7 = do_training(1e-7, 256, 5)"
   ]
  },
  {
   "cell_type": "code",
   "execution_count": 132,
   "metadata": {},
   "outputs": [
    {
     "data": {
      "image/png": "[encoded data removed]",
      "text/plain": [
       "<Figure size 432x288 with 1 Axes>"
      ]
     },
     "metadata": {
      "needs_background": "light"
     },
     "output_type": "display_data"
    }
   ],
   "source": [
    "metrics_bs256_nepochs5_lr7.plot_cost_curves()"
   ]
  },
  {
   "cell_type": "code",
   "execution_count": 136,
   "metadata": {},
   "outputs": [
    {
     "data": {
      "image/png": "[encoded data removed]",
      "text/plain": [
       "<Figure size 432x288 with 1 Axes>"
      ]
     },
     "metadata": {
      "needs_background": "light"
     },
     "output_type": "display_data"
    },
    {
     "name": "stdout",
     "output_type": "stream",
     "text": [
      "Train/test error after epoch 5: 0.981517, 0.980500\n"
     ]
    }
   ],
   "source": [
    "metrics_bs256_nepochs5_lr7.plot_error_curves(yrange=(0,1), logscale=False)\n",
    "metrics_bs256_nepochs5_lr7.print_latest_errors()"
   ]
  },
  {
   "cell_type": "code",
   "execution_count": 137,
   "metadata": {},
   "outputs": [
    {
     "data": {
      "image/png": "[encoded data removed]",
      "text/plain": [
       "<Figure size 432x288 with 1 Axes>"
      ]
     },
     "metadata": {
      "needs_background": "light"
     },
     "output_type": "display_data"
    },
    {
     "name": "stdout",
     "output_type": "stream",
     "text": [
      "Train/test error after epoch 100: 0.887700, 0.885900\n"
     ]
    }
   ],
   "source": [
    "metrics_bs256_nepochs100_lr7.plot_error_curves(yrange=(0,1), logscale=False)\n",
    "metrics_bs256_nepochs100_lr7.print_latest_errors()"
   ]
  },
  {
   "cell_type": "markdown",
   "metadata": {},
   "source": [
    "### Conclusion\n",
    "The errors are smaller when using more epochs. One has to choose carefully the hyperparameters considering errors as well as the cost function value, as it seem that the smallest cost function value does not always lead to the smallest test-error rate when looking at the last plot."
   ]
  },
  {
   "cell_type": "code",
   "execution_count": null,
   "metadata": {},
   "outputs": [],
   "source": []
  }
 ],
 "metadata": {
  "kernelspec": {
   "display_name": "Python 3",
   "language": "python",
   "name": "python3"
  },
  "language_info": {
   "codemirror_mode": {
    "name": "ipython",
    "version": 3
   },
   "file_extension": ".py",
   "mimetype": "text/x-python",
   "name": "python",
   "nbconvert_exporter": "python",
   "pygments_lexer": "ipython3",
   "version": "3.6.8"
  }
 },
 "nbformat": 4,
 "nbformat_minor": 4
}
