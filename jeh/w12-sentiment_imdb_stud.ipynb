{
 "cells": [
  {
   "cell_type": "markdown",
   "metadata": {},
   "source": [
    "# Sentiment Classification for IMDB Movie Reviews\n"
   ]
  },
  {
   "cell_type": "code",
   "execution_count": 1,
   "metadata": {},
   "outputs": [],
   "source": [
    "import pandas as pd\n",
    "import numpy as np\n",
    "import re\n",
    "import matplotlib.pyplot as plt\n",
    "\n",
    "import nltk\n",
    "from nltk.corpus import stopwords\n",
    "\n",
    "from sklearn.model_selection import train_test_split\n",
    "\n",
    "from numpy import array\n",
    "import tensorflow as tf\n",
    "from tensorflow.keras.preprocessing.text import one_hot\n",
    "from tensorflow.keras.preprocessing.sequence import pad_sequences\n",
    "from tensorflow.keras.models import Sequential\n",
    "from tensorflow.keras.layers import Flatten, Dense, Dropout, GlobalMaxPooling1D, Conv1D, SimpleRNN, LSTM\n",
    "from tensorflow.keras.layers import Embedding\n",
    "from tensorflow.keras.preprocessing.text import Tokenizer"
   ]
  },
  {
   "cell_type": "markdown",
   "metadata": {},
   "source": [
    "## Loading the Data"
   ]
  },
  {
   "cell_type": "markdown",
   "metadata": {},
   "source": [
    "You will need to load the reviews. These are provided in the zip.\n",
    "In addition, you will use pretrained embeddings (GloVe, 100d) which you need to download e.g. from https://nlp.stanford.edu/projects/glove/ ."
   ]
  },
  {
   "cell_type": "code",
   "execution_count": 2,
   "metadata": {},
   "outputs": [
    {
     "data": {
      "text/plain": [
       "(50000, 2)"
      ]
     },
     "execution_count": 2,
     "metadata": {},
     "output_type": "execute_result"
    }
   ],
   "source": [
    "movie_reviews = pd.read_csv(\"../data/imdb_data/IMDB Dataset.csv\")\n",
    "movie_reviews.isnull().values.any()\n",
    "movie_reviews.shape"
   ]
  },
  {
   "cell_type": "code",
   "execution_count": 3,
   "metadata": {},
   "outputs": [
    {
     "data": {
      "text/html": [
       "<div>\n",
       "<style scoped>\n",
       "    .dataframe tbody tr th:only-of-type {\n",
       "        vertical-align: middle;\n",
       "    }\n",
       "\n",
       "    .dataframe tbody tr th {\n",
       "        vertical-align: top;\n",
       "    }\n",
       "\n",
       "    .dataframe thead th {\n",
       "        text-align: right;\n",
       "    }\n",
       "</style>\n",
       "<table border=\"1\" class=\"dataframe\">\n",
       "  <thead>\n",
       "    <tr style=\"text-align: right;\">\n",
       "      <th></th>\n",
       "      <th>review</th>\n",
       "      <th>sentiment</th>\n",
       "    </tr>\n",
       "  </thead>\n",
       "  <tbody>\n",
       "    <tr>\n",
       "      <th>0</th>\n",
       "      <td>One of the other reviewers has mentioned that ...</td>\n",
       "      <td>positive</td>\n",
       "    </tr>\n",
       "    <tr>\n",
       "      <th>1</th>\n",
       "      <td>A wonderful little production. &lt;br /&gt;&lt;br /&gt;The...</td>\n",
       "      <td>positive</td>\n",
       "    </tr>\n",
       "    <tr>\n",
       "      <th>2</th>\n",
       "      <td>I thought this was a wonderful way to spend ti...</td>\n",
       "      <td>positive</td>\n",
       "    </tr>\n",
       "    <tr>\n",
       "      <th>3</th>\n",
       "      <td>Basically there's a family where a little boy ...</td>\n",
       "      <td>negative</td>\n",
       "    </tr>\n",
       "    <tr>\n",
       "      <th>4</th>\n",
       "      <td>Petter Mattei's \"Love in the Time of Money\" is...</td>\n",
       "      <td>positive</td>\n",
       "    </tr>\n",
       "  </tbody>\n",
       "</table>\n",
       "</div>"
      ],
      "text/plain": [
       "                                              review sentiment\n",
       "0  One of the other reviewers has mentioned that ...  positive\n",
       "1  A wonderful little production. <br /><br />The...  positive\n",
       "2  I thought this was a wonderful way to spend ti...  positive\n",
       "3  Basically there's a family where a little boy ...  negative\n",
       "4  Petter Mattei's \"Love in the Time of Money\" is...  positive"
      ]
     },
     "execution_count": 3,
     "metadata": {},
     "output_type": "execute_result"
    }
   ],
   "source": [
    "movie_reviews.head()"
   ]
  },
  {
   "cell_type": "code",
   "execution_count": 4,
   "metadata": {},
   "outputs": [
    {
     "data": {
      "text/plain": [
       "\"Basically there's a family where a little boy (Jake) thinks there's a zombie in his closet & his parents are fighting all the time.<br /><br />This movie is slower than a soap opera... and suddenly, Jake decides to become Rambo and kill the zombie.<br /><br />OK, first of all when you're going to make a film you must Decide if its a thriller or a drama! As a drama the movie is watchable. Parents are divorcing & arguing like in real life. And then we have Jake with his closet which totally ruins all the film! I expected to see a BOOGEYMAN similar movie, and instead i watched a drama with some meaningless thriller spots.<br /><br />3 out of 10 just for the well playing parents & descent dialogs. As for the shots with Jake: just ignore them.\""
      ]
     },
     "execution_count": 4,
     "metadata": {},
     "output_type": "execute_result"
    }
   ],
   "source": [
    "movie_reviews[\"review\"][3]"
   ]
  },
  {
   "cell_type": "code",
   "execution_count": 5,
   "metadata": {},
   "outputs": [
    {
     "data": {
      "text/plain": [
       "<matplotlib.axes._subplots.AxesSubplot at 0x7fe9f8060860>"
      ]
     },
     "execution_count": 5,
     "metadata": {},
     "output_type": "execute_result"
    },
    {
     "data": {
      "image/png": "[encoded data removed]",
      "text/plain": [
       "<Figure size 432x288 with 1 Axes>"
      ]
     },
     "metadata": {
      "needs_background": "light"
     },
     "output_type": "display_data"
    }
   ],
   "source": [
    "import seaborn as sns\n",
    "sns.countplot(x='sentiment', data=movie_reviews)\n"
   ]
  },
  {
   "cell_type": "markdown",
   "metadata": {},
   "source": [
    "## Preprocessing\n",
    "\n",
    "__Prepare the review content__:\n",
    "\n",
    "Remove \n",
    "* html tags\n",
    "* replace punctuation with a space\n",
    "* remove single characters\n",
    "* remove multiple spaces\n",
    "\n",
    "Split into train/test.\n",
    "\n",
    "Tokenize the reviews - i.e. mapping the words to integers by using a vocabulary of the most frequent words.\n",
    "\n",
    "Cut and pad the sequences to a given fixed length."
   ]
  },
  {
   "cell_type": "code",
   "execution_count": 6,
   "metadata": {},
   "outputs": [],
   "source": [
    "num_words = 5000\n",
    "maxlen = 100"
   ]
  },
  {
   "cell_type": "code",
   "execution_count": 7,
   "metadata": {},
   "outputs": [],
   "source": [
    "TAG_RE = re.compile(r'<[^>]+>')\n",
    "\n",
    "def remove_tags(text):\n",
    "    return TAG_RE.sub('', text)"
   ]
  },
  {
   "cell_type": "code",
   "execution_count": 8,
   "metadata": {},
   "outputs": [],
   "source": [
    "def preprocess_text(sen):\n",
    "    # Removing html tags\n",
    "    sentence = remove_tags(sen)\n",
    "\n",
    "    # Remove punctuations and numbers\n",
    "    sentence = re.sub('[^a-zA-Z]', ' ', sentence)\n",
    "\n",
    "    # Single character removal\n",
    "    sentence = re.sub(r\"\\s+[a-zA-Z]\\s+\", ' ', sentence)\n",
    "\n",
    "    # Removing multiple spaces\n",
    "    sentence = re.sub(r'\\s+', ' ', sentence)\n",
    "\n",
    "    return sentence\n"
   ]
  },
  {
   "cell_type": "code",
   "execution_count": 9,
   "metadata": {},
   "outputs": [],
   "source": [
    "X = []\n",
    "sentences = list(movie_reviews['review'])\n",
    "for sen in sentences:\n",
    "    X.append(preprocess_text(sen))"
   ]
  },
  {
   "cell_type": "markdown",
   "metadata": {},
   "source": [
    "Now the above sample review looks as follows - e.g. in teh first sentence, \"there's a zombie\" is replaced by just \"there a zombie\""
   ]
  },
  {
   "cell_type": "code",
   "execution_count": 10,
   "metadata": {},
   "outputs": [
    {
     "data": {
      "text/plain": [
       "'Basically there a family where little boy Jake thinks there a zombie in his closet his parents are fighting all the time This movie is slower than soap opera and suddenly Jake decides to become Rambo and kill the zombie OK first of all when you re going to make film you must Decide if its thriller or drama As drama the movie is watchable Parents are divorcing arguing like in real life And then we have Jake with his closet which totally ruins all the film expected to see BOOGEYMAN similar movie and instead watched drama with some meaningless thriller spots out of just for the well playing parents descent dialogs As for the shots with Jake just ignore them '"
      ]
     },
     "execution_count": 10,
     "metadata": {},
     "output_type": "execute_result"
    }
   ],
   "source": [
    "X[3]"
   ]
  },
  {
   "cell_type": "markdown",
   "metadata": {},
   "source": [
    "__Prepare the labels__"
   ]
  },
  {
   "cell_type": "code",
   "execution_count": 11,
   "metadata": {},
   "outputs": [],
   "source": [
    "y = movie_reviews['sentiment']\n",
    "y = np.array(list(map(lambda x: 1 if x==\"positive\" else 0, y)))"
   ]
  },
  {
   "cell_type": "markdown",
   "metadata": {},
   "source": [
    "__Split into train/test__"
   ]
  },
  {
   "cell_type": "code",
   "execution_count": 12,
   "metadata": {},
   "outputs": [],
   "source": [
    "X_train, X_test, y_train, y_test = train_test_split(X, y, test_size=0.20, random_state=42)"
   ]
  },
  {
   "cell_type": "markdown",
   "metadata": {},
   "source": [
    "__Tokenize__"
   ]
  },
  {
   "cell_type": "code",
   "execution_count": 13,
   "metadata": {},
   "outputs": [],
   "source": [
    "tokenizer = Tokenizer(num_words=num_words)\n",
    "tokenizer.fit_on_texts(X_train)\n",
    "\n",
    "X_train = tokenizer.texts_to_sequences(X_train)\n",
    "X_test = tokenizer.texts_to_sequences(X_test)"
   ]
  },
  {
   "cell_type": "code",
   "execution_count": 14,
   "metadata": {},
   "outputs": [
    {
     "name": "stdout",
     "output_type": "stream",
     "text": [
      "Tokenizer has found 92547 words. When transforming texts to sequences words that have an index above 5000 are just ignored.\n"
     ]
    }
   ],
   "source": [
    "vocab_size = len(tokenizer.word_index) + 1\n",
    "print(\"Tokenizer has found %i words. When transforming texts to sequences words that have an index above %i are just ignored.\"%(vocab_size, num_words))"
   ]
  },
  {
   "cell_type": "code",
   "execution_count": 15,
   "metadata": {},
   "outputs": [
    {
     "name": "stdout",
     "output_type": "stream",
     "text": [
      "the : 1\n",
      "and : 2\n",
      "of : 3\n",
      "to : 4\n",
      "is : 5\n",
      "it : 6\n",
      "secretly : 4999\n",
      "joins : 5000\n",
      "shattering : 10000\n"
     ]
    }
   ],
   "source": [
    "indices = [0,1,2,3,4,5,6,4999,5000,10000]\n",
    "for word, index in tokenizer.word_index.items():\n",
    "    if index in indices:\n",
    "        print(\"%s : %i\"%(word,index))"
   ]
  },
  {
   "cell_type": "code",
   "execution_count": 16,
   "metadata": {},
   "outputs": [
    {
     "data": {
      "text/plain": [
       "[[8, 5]]"
      ]
     },
     "execution_count": 16,
     "metadata": {},
     "output_type": "execute_result"
    }
   ],
   "source": [
    "tokenizer.texts_to_sequences([\"This is %s.\"%tokenizer.index_word[10000]])"
   ]
  },
  {
   "cell_type": "markdown",
   "metadata": {},
   "source": [
    "__Cutting and Padding__"
   ]
  },
  {
   "cell_type": "code",
   "execution_count": 17,
   "metadata": {},
   "outputs": [],
   "source": [
    "X_train = pad_sequences(X_train, padding='post', maxlen=maxlen)\n",
    "X_test = pad_sequences(X_test, padding='post', maxlen=maxlen)"
   ]
  },
  {
   "cell_type": "markdown",
   "metadata": {},
   "source": [
    "### Utility"
   ]
  },
  {
   "cell_type": "code",
   "execution_count": 18,
   "metadata": {},
   "outputs": [],
   "source": [
    "def performance_plots(model, X_test, Y_test, log, epochs):    \n",
    "    acc = log.history['accuracy']\n",
    "    val_acc = log.history['val_accuracy']\n",
    "    print('Train accuracy (end):', acc[-1])\n",
    "    print('Train accuracy (max):', np.max(acc))\n",
    "    print('Test accuracy (end) :', val_acc[-1])\n",
    "    print('Test accuracy (max) :', np.max(val_acc))\n",
    "\n",
    "    plt.plot(log.history['accuracy'])\n",
    "    plt.plot(log.history['val_accuracy'])\n",
    "    plt.title('model accuracy')\n",
    "    plt.ylabel('accuracy')\n",
    "    plt.xlabel('epoch')\n",
    "    plt.legend(['train','test'], loc='upper left')\n",
    "    plt.axis([0,epochs,0.0,1.0])\n",
    "    plt.show()\n",
    "\n",
    "    plt.plot(log.history['loss'])\n",
    "    plt.plot(log.history['val_loss'])\n",
    "    plt.title('model loss')\n",
    "    plt.ylabel('loss')\n",
    "    plt.xlabel('epoch')\n",
    "    plt.legend(['train','test'], loc = 'upper left')\n",
    "    plt.axis([0,epochs,0.0,2.0])\n",
    "    plt.show()"
   ]
  },
  {
   "cell_type": "code",
   "execution_count": 19,
   "metadata": {},
   "outputs": [],
   "source": [
    "import sklearn\n",
    "import pandas as pd\n",
    "activities = [\"neg\", \"pos\"]\n",
    "\n",
    "def confusion_matrix(model, X_test, Y_test):\n",
    "    scores = model.predict(X_test)\n",
    "    predictions = np.round(scores)\n",
    "    labels = Y_test\n",
    "    cm = sklearn.metrics.confusion_matrix(labels, predictions)\n",
    "    df = pd.DataFrame({activities[i] : cm[:,i] for i in range(len(activities))}, activities)\n",
    "    return df"
   ]
  },
  {
   "cell_type": "markdown",
   "metadata": {},
   "source": [
    "## A First Simple Model: Just an embedding layer and a dense layer "
   ]
  },
  {
   "cell_type": "code",
   "execution_count": 33,
   "metadata": {},
   "outputs": [
    {
     "data": {
      "text/plain": [
       "(40000, 100)"
      ]
     },
     "execution_count": 33,
     "metadata": {},
     "output_type": "execute_result"
    }
   ],
   "source": [
    "X_train.shape"
   ]
  },
  {
   "cell_type": "code",
   "execution_count": 20,
   "metadata": {},
   "outputs": [
    {
     "data": {
      "text/plain": [
       "array([0, 0, 1, ..., 0, 1, 1])"
      ]
     },
     "execution_count": 20,
     "metadata": {},
     "output_type": "execute_result"
    }
   ],
   "source": [
    "y_train"
   ]
  },
  {
   "cell_type": "code",
   "execution_count": 39,
   "metadata": {},
   "outputs": [
    {
     "name": "stdout",
     "output_type": "stream",
     "text": [
      "Model: \"sequential_9\"\n",
      "_________________________________________________________________\n",
      "Layer (type)                 Output Shape              Param #   \n",
      "=================================================================\n",
      "embedding_10 (Embedding)     (None, 100, 128)          640000    \n",
      "_________________________________________________________________\n",
      "flatten_9 (Flatten)          (None, 12800)             0         \n",
      "_________________________________________________________________\n",
      "dense_9 (Dense)              (None, 1)                 12801     \n",
      "=================================================================\n",
      "Total params: 652,801\n",
      "Trainable params: 652,801\n",
      "Non-trainable params: 0\n",
      "_________________________________________________________________\n",
      "None\n"
     ]
    }
   ],
   "source": [
    "# START YOUR CODE\n",
    "\n",
    "nepochs = 20\n",
    "embedding_dim = 100\n",
    "batchsize = 32\n",
    "\n",
    "model = Sequential([\n",
    "    Embedding(5000, output_dim=128, input_length=100),\n",
    "    Flatten(),\n",
    "    Dense(1, activation='sigmoid')\n",
    "])\n",
    "model.compile(loss='binary_crossentropy', optimizer='adam', metrics=['accuracy'])\n",
    "\n",
    "# END YOUR CODE\n",
    "\n",
    "print(model.summary())"
   ]
  },
  {
   "cell_type": "code",
   "execution_count": 40,
   "metadata": {},
   "outputs": [
    {
     "name": "stdout",
     "output_type": "stream",
     "text": [
      "Train on 40000 samples, validate on 10000 samples\n",
      "Epoch 1/20\n",
      "40000/40000 [==============================] - 9s 237us/sample - loss: 0.3973 - accuracy: 0.8161 - val_loss: 0.3151 - val_accuracy: 0.8616\n",
      "Epoch 2/20\n",
      "40000/40000 [==============================] - 9s 225us/sample - loss: 0.2078 - accuracy: 0.9219 - val_loss: 0.3362 - val_accuracy: 0.8562\n",
      "Epoch 3/20\n",
      "40000/40000 [==============================] - 9s 228us/sample - loss: 0.0612 - accuracy: 0.9890 - val_loss: 0.3852 - val_accuracy: 0.8492\n",
      "Epoch 4/20\n",
      "40000/40000 [==============================] - 9s 226us/sample - loss: 0.0141 - accuracy: 0.9994 - val_loss: 0.4373 - val_accuracy: 0.8494\n",
      "Epoch 5/20\n",
      "40000/40000 [==============================] - 9s 228us/sample - loss: 0.0045 - accuracy: 1.0000 - val_loss: 0.4836 - val_accuracy: 0.8518\n",
      "Epoch 6/20\n",
      "40000/40000 [==============================] - 9s 227us/sample - loss: 0.0018 - accuracy: 1.0000 - val_loss: 0.5273 - val_accuracy: 0.8519\n",
      "Epoch 7/20\n",
      "40000/40000 [==============================] - 9s 228us/sample - loss: 8.2403e-04 - accuracy: 1.0000 - val_loss: 0.5722 - val_accuracy: 0.8524\n",
      "Epoch 8/20\n",
      "40000/40000 [==============================] - 9s 228us/sample - loss: 3.9288e-04 - accuracy: 1.0000 - val_loss: 0.6162 - val_accuracy: 0.8515\n",
      "Epoch 9/20\n",
      "40000/40000 [==============================] - 9s 229us/sample - loss: 1.9034e-04 - accuracy: 1.0000 - val_loss: 0.6552 - val_accuracy: 0.8524\n",
      "Epoch 10/20\n",
      "40000/40000 [==============================] - 9s 229us/sample - loss: 9.4018e-05 - accuracy: 1.0000 - val_loss: 0.6978 - val_accuracy: 0.8522\n",
      "Epoch 11/20\n",
      "40000/40000 [==============================] - 9s 233us/sample - loss: 4.6477e-05 - accuracy: 1.0000 - val_loss: 0.7388 - val_accuracy: 0.8524\n",
      "Epoch 12/20\n",
      "40000/40000 [==============================] - 9s 226us/sample - loss: 2.3363e-05 - accuracy: 1.0000 - val_loss: 0.7804 - val_accuracy: 0.8519\n",
      "Epoch 13/20\n",
      "40000/40000 [==============================] - 9s 227us/sample - loss: 1.1895e-05 - accuracy: 1.0000 - val_loss: 0.8206 - val_accuracy: 0.8513\n",
      "Epoch 14/20\n",
      "40000/40000 [==============================] - 9s 225us/sample - loss: 6.2100e-06 - accuracy: 1.0000 - val_loss: 0.8626 - val_accuracy: 0.8511\n",
      "Epoch 15/20\n",
      "40000/40000 [==============================] - 9s 223us/sample - loss: 3.2329e-06 - accuracy: 1.0000 - val_loss: 0.9013 - val_accuracy: 0.8523\n",
      "Epoch 16/20\n",
      "40000/40000 [==============================] - 9s 223us/sample - loss: 1.7515e-06 - accuracy: 1.0000 - val_loss: 0.9384 - val_accuracy: 0.8508\n",
      "Epoch 17/20\n",
      "40000/40000 [==============================] - 9s 230us/sample - loss: 9.9279e-07 - accuracy: 1.0000 - val_loss: 0.9737 - val_accuracy: 0.8515\n",
      "Epoch 18/20\n",
      "40000/40000 [==============================] - 10s 239us/sample - loss: 5.8034e-07 - accuracy: 1.0000 - val_loss: 1.0051 - val_accuracy: 0.8516\n",
      "Epoch 19/20\n",
      "40000/40000 [==============================] - 9s 235us/sample - loss: 3.6267e-07 - accuracy: 1.0000 - val_loss: 1.0352 - val_accuracy: 0.8515\n",
      "Epoch 20/20\n",
      "40000/40000 [==============================] - 9s 232us/sample - loss: 2.4208e-07 - accuracy: 1.0000 - val_loss: 1.0609 - val_accuracy: 0.8517\n"
     ]
    }
   ],
   "source": [
    "history = model.fit(X_train, y_train, batch_size=batchsize, epochs=nepochs, verbose=1, validation_data=(X_test, y_test))"
   ]
  },
  {
   "cell_type": "code",
   "execution_count": 41,
   "metadata": {},
   "outputs": [
    {
     "name": "stdout",
     "output_type": "stream",
     "text": [
      "Train accuracy (end): 1.0\n",
      "Train accuracy (max): 1.0\n",
      "Test accuracy (end) : 0.8517\n",
      "Test accuracy (max) : 0.8616\n"
     ]
    },
    {
     "data": {
      "image/png": "[encoded data removed]",
      "text/plain": [
       "<Figure size 432x288 with 1 Axes>"
      ]
     },
     "metadata": {
      "needs_background": "light"
     },
     "output_type": "display_data"
    },
    {
     "data": {
      "image/png": "[encoded data removed]",
      "text/plain": [
       "<Figure size 432x288 with 1 Axes>"
      ]
     },
     "metadata": {
      "needs_background": "light"
     },
     "output_type": "display_data"
    },
    {
     "data": {
      "text/html": [
       "<div>\n",
       "<style scoped>\n",
       "    .dataframe tbody tr th:only-of-type {\n",
       "        vertical-align: middle;\n",
       "    }\n",
       "\n",
       "    .dataframe tbody tr th {\n",
       "        vertical-align: top;\n",
       "    }\n",
       "\n",
       "    .dataframe thead th {\n",
       "        text-align: right;\n",
       "    }\n",
       "</style>\n",
       "<table border=\"1\" class=\"dataframe\">\n",
       "  <thead>\n",
       "    <tr style=\"text-align: right;\">\n",
       "      <th></th>\n",
       "      <th>neg</th>\n",
       "      <th>pos</th>\n",
       "    </tr>\n",
       "  </thead>\n",
       "  <tbody>\n",
       "    <tr>\n",
       "      <th>neg</th>\n",
       "      <td>4194</td>\n",
       "      <td>767</td>\n",
       "    </tr>\n",
       "    <tr>\n",
       "      <th>pos</th>\n",
       "      <td>716</td>\n",
       "      <td>4323</td>\n",
       "    </tr>\n",
       "  </tbody>\n",
       "</table>\n",
       "</div>"
      ],
      "text/plain": [
       "      neg   pos\n",
       "neg  4194   767\n",
       "pos   716  4323"
      ]
     },
     "execution_count": 41,
     "metadata": {},
     "output_type": "execute_result"
    }
   ],
   "source": [
    "performance_plots(model, X_test, y_test, history, nepochs)\n",
    "confusion_matrix(model, X_test, y_test)"
   ]
  },
  {
   "cell_type": "markdown",
   "metadata": {},
   "source": [
    "We easily get into the overfitting regime since we have a huge amount of parameters."
   ]
  },
  {
   "cell_type": "markdown",
   "metadata": {},
   "source": [
    "## Using GloVe as pretrained embedding"
   ]
  },
  {
   "cell_type": "code",
   "execution_count": 42,
   "metadata": {},
   "outputs": [],
   "source": [
    "embeddings_dictionary = dict()\n",
    "glove_path = '../data/glove.6B.100d.txt'\n",
    "glove_file = open(glove_path, encoding=\"utf8\")\n",
    "\n",
    "for line in glove_file:\n",
    "    records = line.split()\n",
    "    word = records[0]\n",
    "    vector_dimensions = np.asarray(records[1:], dtype='float32')\n",
    "    embeddings_dictionary [word] = vector_dimensions\n",
    "glove_file.close()"
   ]
  },
  {
   "cell_type": "code",
   "execution_count": 43,
   "metadata": {},
   "outputs": [],
   "source": [
    "embedding_matrix = np.zeros((num_words, maxlen))\n",
    "for word, index in tokenizer.word_index.items():\n",
    "    embedding_vector = embeddings_dictionary.get(word)\n",
    "    if embedding_vector is not None and index<num_words:\n",
    "        embedding_matrix[index] = embedding_vector"
   ]
  },
  {
   "cell_type": "code",
   "execution_count": 45,
   "metadata": {},
   "outputs": [
    {
     "data": {
      "text/plain": [
       "5000"
      ]
     },
     "execution_count": 45,
     "metadata": {},
     "output_type": "execute_result"
    }
   ],
   "source": [
    "num_words"
   ]
  },
  {
   "cell_type": "code",
   "execution_count": 56,
   "metadata": {},
   "outputs": [
    {
     "data": {
      "text/plain": [
       "(5000, 100)"
      ]
     },
     "execution_count": 56,
     "metadata": {},
     "output_type": "execute_result"
    }
   ],
   "source": [
    "embedding_matrix.shape"
   ]
  },
  {
   "cell_type": "code",
   "execution_count": 61,
   "metadata": {},
   "outputs": [
    {
     "data": {
      "text/plain": [
       "array([[ 0.        ,  0.        ,  0.        , ...,  0.        ,\n",
       "         0.        ,  0.        ],\n",
       "       [-0.038194  , -0.24487001,  0.72812003, ..., -0.1459    ,\n",
       "         0.82779998,  0.27061999],\n",
       "       [-0.071953  ,  0.23127   ,  0.023731  , ..., -0.71894997,\n",
       "         0.86894   ,  0.19539   ],\n",
       "       ...,\n",
       "       [ 0.39859   , -0.14019001,  1.43739998, ...,  0.45267999,\n",
       "         0.089081  , -0.88445002],\n",
       "       [-0.46392   ,  0.59390002,  0.11265   , ..., -0.33919999,\n",
       "         0.29409   ,  0.3434    ],\n",
       "       [ 0.74285001, -0.26137999,  0.13079999, ..., -0.23864999,\n",
       "        -0.16433001, -0.15829   ]])"
      ]
     },
     "execution_count": 61,
     "metadata": {},
     "output_type": "execute_result"
    }
   ],
   "source": [
    "embedding_matrix"
   ]
  },
  {
   "cell_type": "code",
   "execution_count": 70,
   "metadata": {},
   "outputs": [
    {
     "name": "stdout",
     "output_type": "stream",
     "text": [
      "Model: \"sequential_22\"\n",
      "_________________________________________________________________\n",
      "Layer (type)                 Output Shape              Param #   \n",
      "=================================================================\n",
      "embedding_27 (Embedding)     (None, 100, 100)          500000    \n",
      "_________________________________________________________________\n",
      "flatten_21 (Flatten)         (None, 10000)             0         \n",
      "_________________________________________________________________\n",
      "dense_22 (Dense)             (None, 1)                 10001     \n",
      "=================================================================\n",
      "Total params: 510,001\n",
      "Trainable params: 10,001\n",
      "Non-trainable params: 500,000\n",
      "_________________________________________________________________\n",
      "None\n"
     ]
    }
   ],
   "source": [
    "# START YOUR CODE\n",
    "nepochs = 20\n",
    "embedding_dim = embedding_matrix.shape[1]\n",
    "batchsize = 32\n",
    "embedding_layer = Embedding(embedding_matrix.shape[0], embedding_dim, \n",
    "                            embeddings_initializer=tf.keras.initializers.Constant(embedding_matrix),\n",
    "                            input_length=100,\n",
    "                           trainable=False)\n",
    "\n",
    "model = Sequential([\n",
    "    embedding_layer,\n",
    "    Flatten(),\n",
    "    Dense(1, activation='sigmoid')\n",
    "])\n",
    "\n",
    "model.compile(loss='binary_crossentropy', optimizer='adam', metrics=['accuracy'])\n",
    "\n",
    "# START YOUR CODE\n",
    "\n",
    "print(model.summary())"
   ]
  },
  {
   "cell_type": "code",
   "execution_count": 71,
   "metadata": {
    "scrolled": true
   },
   "outputs": [
    {
     "name": "stdout",
     "output_type": "stream",
     "text": [
      "Train on 40000 samples, validate on 10000 samples\n",
      "Epoch 1/20\n",
      "40000/40000 [==============================] - 4s 104us/sample - loss: 0.5865 - accuracy: 0.6961 - val_loss: 0.5342 - val_accuracy: 0.7391\n",
      "Epoch 2/20\n",
      "40000/40000 [==============================] - 4s 92us/sample - loss: 0.5013 - accuracy: 0.7591 - val_loss: 0.5613 - val_accuracy: 0.7341\n",
      "Epoch 3/20\n",
      "40000/40000 [==============================] - 4s 91us/sample - loss: 0.4747 - accuracy: 0.7790 - val_loss: 0.6174 - val_accuracy: 0.7216\n",
      "Epoch 4/20\n",
      "40000/40000 [==============================] - 4s 90us/sample - loss: 0.4557 - accuracy: 0.7896 - val_loss: 0.5678 - val_accuracy: 0.7405\n",
      "Epoch 5/20\n",
      "40000/40000 [==============================] - 4s 89us/sample - loss: 0.4399 - accuracy: 0.7982 - val_loss: 0.5903 - val_accuracy: 0.7311\n",
      "Epoch 6/20\n",
      "40000/40000 [==============================] - 4s 92us/sample - loss: 0.4373 - accuracy: 0.8009 - val_loss: 0.6164 - val_accuracy: 0.7355\n",
      "Epoch 7/20\n",
      "40000/40000 [==============================] - 4s 91us/sample - loss: 0.4285 - accuracy: 0.8063 - val_loss: 0.6150 - val_accuracy: 0.7307\n",
      "Epoch 8/20\n",
      "40000/40000 [==============================] - 4s 89us/sample - loss: 0.4262 - accuracy: 0.8068 - val_loss: 0.6194 - val_accuracy: 0.7305\n",
      "Epoch 9/20\n",
      "40000/40000 [==============================] - 4s 90us/sample - loss: 0.4221 - accuracy: 0.8110 - val_loss: 0.6592 - val_accuracy: 0.7271\n",
      "Epoch 10/20\n",
      "40000/40000 [==============================] - 4s 89us/sample - loss: 0.4100 - accuracy: 0.8163 - val_loss: 0.6387 - val_accuracy: 0.7271\n",
      "Epoch 11/20\n",
      "40000/40000 [==============================] - 4s 89us/sample - loss: 0.4168 - accuracy: 0.8137 - val_loss: 0.6501 - val_accuracy: 0.7287\n",
      "Epoch 12/20\n",
      "40000/40000 [==============================] - 4s 91us/sample - loss: 0.4072 - accuracy: 0.8181 - val_loss: 0.7590 - val_accuracy: 0.7053\n",
      "Epoch 13/20\n",
      "40000/40000 [==============================] - 4s 89us/sample - loss: 0.4141 - accuracy: 0.8162 - val_loss: 0.6750 - val_accuracy: 0.7268\n",
      "Epoch 14/20\n",
      "40000/40000 [==============================] - 4s 91us/sample - loss: 0.4076 - accuracy: 0.8206 - val_loss: 0.6737 - val_accuracy: 0.7307\n",
      "Epoch 15/20\n",
      "40000/40000 [==============================] - 4s 90us/sample - loss: 0.4079 - accuracy: 0.8200 - val_loss: 0.6940 - val_accuracy: 0.7221\n",
      "Epoch 16/20\n",
      "40000/40000 [==============================] - 4s 91us/sample - loss: 0.4021 - accuracy: 0.8210 - val_loss: 0.7020 - val_accuracy: 0.7270\n",
      "Epoch 17/20\n",
      "40000/40000 [==============================] - 4s 90us/sample - loss: 0.4092 - accuracy: 0.8181 - val_loss: 0.7547 - val_accuracy: 0.7114\n",
      "Epoch 18/20\n",
      "40000/40000 [==============================] - 4s 90us/sample - loss: 0.3999 - accuracy: 0.8230 - val_loss: 0.7135 - val_accuracy: 0.7214\n",
      "Epoch 19/20\n",
      "40000/40000 [==============================] - 4s 90us/sample - loss: 0.4006 - accuracy: 0.8260 - val_loss: 0.7158 - val_accuracy: 0.7268\n",
      "Epoch 20/20\n",
      "40000/40000 [==============================] - 4s 90us/sample - loss: 0.4020 - accuracy: 0.8221 - val_loss: 0.7395 - val_accuracy: 0.7176\n"
     ]
    }
   ],
   "source": [
    "history = model.fit(X_train, y_train, batch_size=batchsize, epochs=nepochs, verbose=1, validation_data=(X_test, y_test))"
   ]
  },
  {
   "cell_type": "code",
   "execution_count": 72,
   "metadata": {},
   "outputs": [
    {
     "name": "stdout",
     "output_type": "stream",
     "text": [
      "Train accuracy (end): 0.8221\n",
      "Train accuracy (max): 0.826025\n",
      "Test accuracy (end) : 0.7176\n",
      "Test accuracy (max) : 0.7405\n"
     ]
    },
    {
     "data": {
      "image/png": "[encoded data removed]",
      "text/plain": [
       "<Figure size 432x288 with 1 Axes>"
      ]
     },
     "metadata": {
      "needs_background": "light"
     },
     "output_type": "display_data"
    },
    {
     "data": {
      "image/png": "[encoded data removed]",
      "text/plain": [
       "<Figure size 432x288 with 1 Axes>"
      ]
     },
     "metadata": {
      "needs_background": "light"
     },
     "output_type": "display_data"
    },
    {
     "data": {
      "text/html": [
       "<div>\n",
       "<style scoped>\n",
       "    .dataframe tbody tr th:only-of-type {\n",
       "        vertical-align: middle;\n",
       "    }\n",
       "\n",
       "    .dataframe tbody tr th {\n",
       "        vertical-align: top;\n",
       "    }\n",
       "\n",
       "    .dataframe thead th {\n",
       "        text-align: right;\n",
       "    }\n",
       "</style>\n",
       "<table border=\"1\" class=\"dataframe\">\n",
       "  <thead>\n",
       "    <tr style=\"text-align: right;\">\n",
       "      <th></th>\n",
       "      <th>neg</th>\n",
       "      <th>pos</th>\n",
       "    </tr>\n",
       "  </thead>\n",
       "  <tbody>\n",
       "    <tr>\n",
       "      <th>neg</th>\n",
       "      <td>3230</td>\n",
       "      <td>1731</td>\n",
       "    </tr>\n",
       "    <tr>\n",
       "      <th>pos</th>\n",
       "      <td>1093</td>\n",
       "      <td>3946</td>\n",
       "    </tr>\n",
       "  </tbody>\n",
       "</table>\n",
       "</div>"
      ],
      "text/plain": [
       "      neg   pos\n",
       "neg  3230  1731\n",
       "pos  1093  3946"
      ]
     },
     "execution_count": 72,
     "metadata": {},
     "output_type": "execute_result"
    }
   ],
   "source": [
    "performance_plots(model, X_test, y_test, history, nepochs)\n",
    "confusion_matrix(model, X_test, y_test)"
   ]
  },
  {
   "cell_type": "markdown",
   "metadata": {},
   "source": [
    "## Further Model / Hyper Parameter Combinations\n",
    "\n",
    "Examples:\n",
    "\n",
    "* Pretrained embedding (with GloVe), possibly fine-tuned\n",
    "* dito + (SimpleRNN | LSTM | GRU | Conv1D)\n",
    "* dito + stacked layers\n",
    "\n",
    "For each combination, specify a cell with the model specification, one with the training and one with the evaluation (use for the latter the utilities provided).  \n"
   ]
  },
  {
   "cell_type": "code",
   "execution_count": 102,
   "metadata": {},
   "outputs": [
    {
     "name": "stdout",
     "output_type": "stream",
     "text": [
      "Model: \"sequential_33\"\n",
      "_________________________________________________________________\n",
      "Layer (type)                 Output Shape              Param #   \n",
      "=================================================================\n",
      "embedding_27 (Embedding)     (None, 100, 100)          500000    \n",
      "_________________________________________________________________\n",
      "lstm_15 (LSTM)               (None, 100, 128)          117248    \n",
      "_________________________________________________________________\n",
      "lstm_16 (LSTM)               (None, 100, 256)          394240    \n",
      "_________________________________________________________________\n",
      "lstm_17 (LSTM)               (None, 64)                82176     \n",
      "_________________________________________________________________\n",
      "dense_33 (Dense)             (None, 1)                 65        \n",
      "=================================================================\n",
      "Total params: 1,093,729\n",
      "Trainable params: 593,729\n",
      "Non-trainable params: 500,000\n",
      "_________________________________________________________________\n",
      "None\n"
     ]
    }
   ],
   "source": [
    "stacked_lstm = Sequential([\n",
    "    embedding_layer,\n",
    "    LSTM(128, return_sequences=True),\n",
    "    LSTM(256, return_sequences=True),\n",
    "    LSTM(64),\n",
    "    Dense(1, activation='sigmoid')\n",
    "])\n",
    "nepochs=10\n",
    "stacked_lstm.compile(loss='binary_crossentropy', optimizer='adam', metrics=['accuracy'])\n",
    "\n",
    "# START YOUR CODE\n",
    "\n",
    "print(stacked_lstm.summary())"
   ]
  },
  {
   "cell_type": "code",
   "execution_count": 103,
   "metadata": {
    "scrolled": true
   },
   "outputs": [
    {
     "name": "stdout",
     "output_type": "stream",
     "text": [
      "Train on 40000 samples, validate on 10000 samples\n",
      "Epoch 1/10\n",
      "40000/40000 [==============================] - 43s 1ms/sample - loss: 0.5434 - accuracy: 0.7086 - val_loss: 0.4137 - val_accuracy: 0.8069\n",
      "Epoch 2/10\n",
      "40000/40000 [==============================] - 39s 963us/sample - loss: 0.4032 - accuracy: 0.8166 - val_loss: 0.4197 - val_accuracy: 0.8014\n",
      "Epoch 3/10\n",
      "40000/40000 [==============================] - 38s 956us/sample - loss: 0.3863 - accuracy: 0.8249 - val_loss: 0.3723 - val_accuracy: 0.8298\n",
      "Epoch 4/10\n",
      "40000/40000 [==============================] - 38s 960us/sample - loss: 0.3482 - accuracy: 0.8461 - val_loss: 0.3783 - val_accuracy: 0.8349\n",
      "Epoch 5/10\n",
      "40000/40000 [==============================] - 38s 959us/sample - loss: 0.3386 - accuracy: 0.8513 - val_loss: 0.3276 - val_accuracy: 0.8533\n",
      "Epoch 6/10\n",
      "40000/40000 [==============================] - 38s 956us/sample - loss: 0.3067 - accuracy: 0.8675 - val_loss: 0.3222 - val_accuracy: 0.8574\n",
      "Epoch 7/10\n",
      "40000/40000 [==============================] - 38s 954us/sample - loss: 0.2851 - accuracy: 0.8795 - val_loss: 0.3204 - val_accuracy: 0.8611\n",
      "Epoch 8/10\n",
      "40000/40000 [==============================] - 38s 956us/sample - loss: 0.2646 - accuracy: 0.8889 - val_loss: 0.3185 - val_accuracy: 0.8643\n",
      "Epoch 9/10\n",
      "40000/40000 [==============================] - 38s 955us/sample - loss: 0.2418 - accuracy: 0.9005 - val_loss: 0.3317 - val_accuracy: 0.8565\n",
      "Epoch 10/10\n",
      "40000/40000 [==============================] - 38s 960us/sample - loss: 0.2112 - accuracy: 0.9159 - val_loss: 0.3468 - val_accuracy: 0.8572\n"
     ]
    }
   ],
   "source": [
    "history = stacked_lstm.fit(X_train, y_train, batch_size=batchsize, epochs=nepochs, verbose=1, validation_data=(X_test, y_test))"
   ]
  },
  {
   "cell_type": "code",
   "execution_count": 104,
   "metadata": {},
   "outputs": [
    {
     "name": "stdout",
     "output_type": "stream",
     "text": [
      "Train accuracy (end): 0.915875\n",
      "Train accuracy (max): 0.915875\n",
      "Test accuracy (end) : 0.8572\n",
      "Test accuracy (max) : 0.8643\n"
     ]
    },
    {
     "data": {
      "image/png": "[encoded data removed]",
      "text/plain": [
       "<Figure size 432x288 with 1 Axes>"
      ]
     },
     "metadata": {
      "needs_background": "light"
     },
     "output_type": "display_data"
    },
    {
     "data": {
      "image/png": "[encoded data removed]",
      "text/plain": [
       "<Figure size 432x288 with 1 Axes>"
      ]
     },
     "metadata": {
      "needs_background": "light"
     },
     "output_type": "display_data"
    },
    {
     "data": {
      "text/html": [
       "<div>\n",
       "<style scoped>\n",
       "    .dataframe tbody tr th:only-of-type {\n",
       "        vertical-align: middle;\n",
       "    }\n",
       "\n",
       "    .dataframe tbody tr th {\n",
       "        vertical-align: top;\n",
       "    }\n",
       "\n",
       "    .dataframe thead th {\n",
       "        text-align: right;\n",
       "    }\n",
       "</style>\n",
       "<table border=\"1\" class=\"dataframe\">\n",
       "  <thead>\n",
       "    <tr style=\"text-align: right;\">\n",
       "      <th></th>\n",
       "      <th>neg</th>\n",
       "      <th>pos</th>\n",
       "    </tr>\n",
       "  </thead>\n",
       "  <tbody>\n",
       "    <tr>\n",
       "      <th>neg</th>\n",
       "      <td>4195</td>\n",
       "      <td>766</td>\n",
       "    </tr>\n",
       "    <tr>\n",
       "      <th>pos</th>\n",
       "      <td>662</td>\n",
       "      <td>4377</td>\n",
       "    </tr>\n",
       "  </tbody>\n",
       "</table>\n",
       "</div>"
      ],
      "text/plain": [
       "      neg   pos\n",
       "neg  4195   766\n",
       "pos   662  4377"
      ]
     },
     "execution_count": 104,
     "metadata": {},
     "output_type": "execute_result"
    }
   ],
   "source": [
    "performance_plots(stacked_lstm, X_test, y_test, history, nepochs)\n",
    "confusion_matrix(stacked_lstm, X_test, y_test)"
   ]
  },
  {
   "cell_type": "code",
   "execution_count": 89,
   "metadata": {},
   "outputs": [
    {
     "name": "stdout",
     "output_type": "stream",
     "text": [
      "Model: \"sequential_28\"\n",
      "_________________________________________________________________\n",
      "Layer (type)                 Output Shape              Param #   \n",
      "=================================================================\n",
      "embedding_27 (Embedding)     (None, 100, 100)          500000    \n",
      "_________________________________________________________________\n",
      "gru_3 (GRU)                  (None, 100, 128)          88320     \n",
      "_________________________________________________________________\n",
      "gru_4 (GRU)                  (None, 100, 256)          296448    \n",
      "_________________________________________________________________\n",
      "gru_5 (GRU)                  (None, 64)                61824     \n",
      "_________________________________________________________________\n",
      "dense_28 (Dense)             (None, 1)                 65        \n",
      "=================================================================\n",
      "Total params: 946,657\n",
      "Trainable params: 446,657\n",
      "Non-trainable params: 500,000\n",
      "_________________________________________________________________\n",
      "None\n"
     ]
    }
   ],
   "source": [
    "from tensorflow.keras.layers import GRU\n",
    "stacked_gru = Sequential([\n",
    "    embedding_layer,\n",
    "    GRU(128, return_sequences=True),\n",
    "    GRU(256, return_sequences=True),\n",
    "    GRU(64),\n",
    "    Dense(1, activation='sigmoid')\n",
    "])\n",
    "\n",
    "stacked_gru.compile(loss='binary_crossentropy', optimizer='adam', metrics=['accuracy'])\n",
    "\n",
    "# START YOUR CODE\n",
    "\n",
    "print(stacked_gru.summary())"
   ]
  },
  {
   "cell_type": "code",
   "execution_count": 90,
   "metadata": {
    "scrolled": true
   },
   "outputs": [
    {
     "name": "stdout",
     "output_type": "stream",
     "text": [
      "Train on 40000 samples, validate on 10000 samples\n",
      "Epoch 1/10\n",
      "40000/40000 [==============================] - 37s 933us/sample - loss: 0.4462 - accuracy: 0.7854 - val_loss: 0.3706 - val_accuracy: 0.8293\n",
      "Epoch 2/10\n",
      "40000/40000 [==============================] - 33s 821us/sample - loss: 0.3531 - accuracy: 0.8442 - val_loss: 0.3297 - val_accuracy: 0.8549\n",
      "Epoch 3/10\n",
      "40000/40000 [==============================] - 33s 818us/sample - loss: 0.3117 - accuracy: 0.8650 - val_loss: 0.3301 - val_accuracy: 0.8572\n",
      "Epoch 4/10\n",
      "40000/40000 [==============================] - 33s 825us/sample - loss: 0.2781 - accuracy: 0.8818 - val_loss: 0.3148 - val_accuracy: 0.8672\n",
      "Epoch 5/10\n",
      "40000/40000 [==============================] - 33s 831us/sample - loss: 0.2412 - accuracy: 0.9007 - val_loss: 0.3217 - val_accuracy: 0.8591\n",
      "Epoch 6/10\n",
      "40000/40000 [==============================] - 33s 832us/sample - loss: 0.1975 - accuracy: 0.9221 - val_loss: 0.3395 - val_accuracy: 0.8590\n",
      "Epoch 7/10\n",
      "40000/40000 [==============================] - 33s 833us/sample - loss: 0.1497 - accuracy: 0.9431 - val_loss: 0.3955 - val_accuracy: 0.8541\n",
      "Epoch 8/10\n",
      "40000/40000 [==============================] - 34s 839us/sample - loss: 0.1059 - accuracy: 0.9619 - val_loss: 0.4448 - val_accuracy: 0.8598\n",
      "Epoch 9/10\n",
      "40000/40000 [==============================] - 33s 822us/sample - loss: 0.0725 - accuracy: 0.9747 - val_loss: 0.5731 - val_accuracy: 0.8582\n",
      "Epoch 10/10\n",
      "40000/40000 [==============================] - 33s 832us/sample - loss: 0.0605 - accuracy: 0.9789 - val_loss: 0.5684 - val_accuracy: 0.8549\n"
     ]
    }
   ],
   "source": [
    "history = stacked_gru.fit(X_train, y_train, batch_size=batchsize, epochs=nepochs, verbose=1, validation_data=(X_test, y_test))"
   ]
  },
  {
   "cell_type": "code",
   "execution_count": 91,
   "metadata": {},
   "outputs": [
    {
     "name": "stdout",
     "output_type": "stream",
     "text": [
      "Train accuracy (end): 0.9789\n",
      "Train accuracy (max): 0.9789\n",
      "Test accuracy (end) : 0.8549\n",
      "Test accuracy (max) : 0.8672\n"
     ]
    },
    {
     "data": {
      "image/png": "[encoded data removed]",
      "text/plain": [
       "<Figure size 432x288 with 1 Axes>"
      ]
     },
     "metadata": {
      "needs_background": "light"
     },
     "output_type": "display_data"
    },
    {
     "data": {
      "image/png": "[encoded data removed]",
      "text/plain": [
       "<Figure size 432x288 with 1 Axes>"
      ]
     },
     "metadata": {
      "needs_background": "light"
     },
     "output_type": "display_data"
    },
    {
     "data": {
      "text/html": [
       "<div>\n",
       "<style scoped>\n",
       "    .dataframe tbody tr th:only-of-type {\n",
       "        vertical-align: middle;\n",
       "    }\n",
       "\n",
       "    .dataframe tbody tr th {\n",
       "        vertical-align: top;\n",
       "    }\n",
       "\n",
       "    .dataframe thead th {\n",
       "        text-align: right;\n",
       "    }\n",
       "</style>\n",
       "<table border=\"1\" class=\"dataframe\">\n",
       "  <thead>\n",
       "    <tr style=\"text-align: right;\">\n",
       "      <th></th>\n",
       "      <th>neg</th>\n",
       "      <th>pos</th>\n",
       "    </tr>\n",
       "  </thead>\n",
       "  <tbody>\n",
       "    <tr>\n",
       "      <th>neg</th>\n",
       "      <td>4250</td>\n",
       "      <td>711</td>\n",
       "    </tr>\n",
       "    <tr>\n",
       "      <th>pos</th>\n",
       "      <td>740</td>\n",
       "      <td>4299</td>\n",
       "    </tr>\n",
       "  </tbody>\n",
       "</table>\n",
       "</div>"
      ],
      "text/plain": [
       "      neg   pos\n",
       "neg  4250   711\n",
       "pos   740  4299"
      ]
     },
     "execution_count": 91,
     "metadata": {},
     "output_type": "execute_result"
    }
   ],
   "source": [
    "performance_plots(stacked_gru, X_test, y_test, history, nepochs)\n",
    "confusion_matrix(stacked_gru, X_test, y_test)"
   ]
  },
  {
   "cell_type": "code",
   "execution_count": 105,
   "metadata": {},
   "outputs": [
    {
     "name": "stdout",
     "output_type": "stream",
     "text": [
      "Model: \"sequential_34\"\n",
      "_________________________________________________________________\n",
      "Layer (type)                 Output Shape              Param #   \n",
      "=================================================================\n",
      "embedding_27 (Embedding)     (None, 100, 100)          500000    \n",
      "_________________________________________________________________\n",
      "conv1d_12 (Conv1D)           (None, 94, 256)           179456    \n",
      "_________________________________________________________________\n",
      "conv1d_13 (Conv1D)           (None, 90, 128)           163968    \n",
      "_________________________________________________________________\n",
      "conv1d_14 (Conv1D)           (None, 88, 64)            24640     \n",
      "_________________________________________________________________\n",
      "global_max_pooling1d_4 (Glob (None, 64)                0         \n",
      "_________________________________________________________________\n",
      "dense_34 (Dense)             (None, 1)                 65        \n",
      "=================================================================\n",
      "Total params: 868,129\n",
      "Trainable params: 368,129\n",
      "Non-trainable params: 500,000\n",
      "_________________________________________________________________\n"
     ]
    }
   ],
   "source": [
    "from tensorflow.keras.layers import Conv1D, GlobalMaxPooling1D\n",
    "conv1d = Sequential([\n",
    "    embedding_layer,\n",
    "    Conv1D(256, kernel_size=7, activation='relu'),\n",
    "#    GlobalMaxPooling1D(),\n",
    "    Conv1D(128, kernel_size=5, activation='relu'),\n",
    "#    GlobalMaxPooling1D(),\n",
    "    Conv1D(64, kernel_size=3, activation='relu'),\n",
    "    GlobalMaxPooling1D(),\n",
    "#    tf.keras.layers.Flatten(),\n",
    "    Dense(1, activation='sigmoid')\n",
    "])\n",
    "\n",
    "nepochs=20\n",
    "conv1d.compile(loss='binary_crossentropy', optimizer='adam', metrics=['accuracy'])\n",
    "conv1d.summary()"
   ]
  },
  {
   "cell_type": "code",
   "execution_count": 106,
   "metadata": {},
   "outputs": [
    {
     "name": "stdout",
     "output_type": "stream",
     "text": [
      "Train on 40000 samples, validate on 10000 samples\n",
      "Epoch 1/20\n",
      "40000/40000 [==============================] - 12s 302us/sample - loss: 0.4844 - accuracy: 0.7585 - val_loss: 0.4253 - val_accuracy: 0.7999\n",
      "Epoch 2/20\n",
      "40000/40000 [==============================] - 11s 280us/sample - loss: 0.4060 - accuracy: 0.8119 - val_loss: 0.3956 - val_accuracy: 0.8207\n",
      "Epoch 3/20\n",
      "40000/40000 [==============================] - 11s 280us/sample - loss: 0.3691 - accuracy: 0.8338 - val_loss: 0.4097 - val_accuracy: 0.8096\n",
      "Epoch 4/20\n",
      "40000/40000 [==============================] - 11s 280us/sample - loss: 0.3364 - accuracy: 0.8512 - val_loss: 0.3942 - val_accuracy: 0.8182\n",
      "Epoch 5/20\n",
      "40000/40000 [==============================] - 11s 280us/sample - loss: 0.2966 - accuracy: 0.8724 - val_loss: 0.3958 - val_accuracy: 0.8239\n",
      "Epoch 6/20\n",
      "40000/40000 [==============================] - 11s 275us/sample - loss: 0.2544 - accuracy: 0.8910 - val_loss: 0.4329 - val_accuracy: 0.8173\n",
      "Epoch 7/20\n",
      "40000/40000 [==============================] - 11s 282us/sample - loss: 0.2039 - accuracy: 0.9154 - val_loss: 0.4691 - val_accuracy: 0.8074\n",
      "Epoch 8/20\n",
      "40000/40000 [==============================] - 11s 280us/sample - loss: 0.1539 - accuracy: 0.9393 - val_loss: 0.5324 - val_accuracy: 0.8131\n",
      "Epoch 9/20\n",
      "40000/40000 [==============================] - 12s 289us/sample - loss: 0.1193 - accuracy: 0.9533 - val_loss: 0.5870 - val_accuracy: 0.8113\n",
      "Epoch 10/20\n",
      "40000/40000 [==============================] - 11s 282us/sample - loss: 0.0914 - accuracy: 0.9651 - val_loss: 0.7256 - val_accuracy: 0.8050\n",
      "Epoch 11/20\n",
      "40000/40000 [==============================] - 12s 288us/sample - loss: 0.0791 - accuracy: 0.9700 - val_loss: 0.8076 - val_accuracy: 0.8119\n",
      "Epoch 12/20\n",
      "40000/40000 [==============================] - 11s 282us/sample - loss: 0.0628 - accuracy: 0.9762 - val_loss: 1.0264 - val_accuracy: 0.7959\n",
      "Epoch 13/20\n",
      "40000/40000 [==============================] - 11s 283us/sample - loss: 0.0604 - accuracy: 0.9773 - val_loss: 0.8620 - val_accuracy: 0.8124\n",
      "Epoch 14/20\n",
      "40000/40000 [==============================] - 11s 284us/sample - loss: 0.0601 - accuracy: 0.9779 - val_loss: 0.9522 - val_accuracy: 0.8078\n",
      "Epoch 15/20\n",
      "40000/40000 [==============================] - 11s 281us/sample - loss: 0.0552 - accuracy: 0.9789 - val_loss: 0.9711 - val_accuracy: 0.8024\n",
      "Epoch 16/20\n",
      "40000/40000 [==============================] - 11s 286us/sample - loss: 0.0514 - accuracy: 0.9815 - val_loss: 1.0665 - val_accuracy: 0.8087\n",
      "Epoch 17/20\n",
      "40000/40000 [==============================] - 11s 287us/sample - loss: 0.0482 - accuracy: 0.9824 - val_loss: 1.0500 - val_accuracy: 0.8105\n",
      "Epoch 18/20\n",
      "40000/40000 [==============================] - 11s 287us/sample - loss: 0.0458 - accuracy: 0.9832 - val_loss: 1.0598 - val_accuracy: 0.8113\n",
      "Epoch 19/20\n",
      "40000/40000 [==============================] - 11s 283us/sample - loss: 0.0447 - accuracy: 0.9840 - val_loss: 1.1954 - val_accuracy: 0.8026\n",
      "Epoch 20/20\n",
      "40000/40000 [==============================] - 11s 281us/sample - loss: 0.0392 - accuracy: 0.9859 - val_loss: 1.1085 - val_accuracy: 0.8107\n"
     ]
    }
   ],
   "source": [
    "history = conv1d.fit(X_train, y_train, batch_size=batchsize, epochs=nepochs, verbose=1, validation_data=(X_test, y_test))"
   ]
  },
  {
   "cell_type": "code",
   "execution_count": 107,
   "metadata": {},
   "outputs": [
    {
     "name": "stdout",
     "output_type": "stream",
     "text": [
      "Train accuracy (end): 0.985875\n",
      "Train accuracy (max): 0.985875\n",
      "Test accuracy (end) : 0.8107\n",
      "Test accuracy (max) : 0.8239\n"
     ]
    },
    {
     "data": {
      "image/png": "[encoded data removed]",
      "text/plain": [
       "<Figure size 432x288 with 1 Axes>"
      ]
     },
     "metadata": {
      "needs_background": "light"
     },
     "output_type": "display_data"
    },
    {
     "data": {
      "image/png": "[encoded data removed]",
      "text/plain": [
       "<Figure size 432x288 with 1 Axes>"
      ]
     },
     "metadata": {
      "needs_background": "light"
     },
     "output_type": "display_data"
    },
    {
     "data": {
      "text/html": [
       "<div>\n",
       "<style scoped>\n",
       "    .dataframe tbody tr th:only-of-type {\n",
       "        vertical-align: middle;\n",
       "    }\n",
       "\n",
       "    .dataframe tbody tr th {\n",
       "        vertical-align: top;\n",
       "    }\n",
       "\n",
       "    .dataframe thead th {\n",
       "        text-align: right;\n",
       "    }\n",
       "</style>\n",
       "<table border=\"1\" class=\"dataframe\">\n",
       "  <thead>\n",
       "    <tr style=\"text-align: right;\">\n",
       "      <th></th>\n",
       "      <th>neg</th>\n",
       "      <th>pos</th>\n",
       "    </tr>\n",
       "  </thead>\n",
       "  <tbody>\n",
       "    <tr>\n",
       "      <th>neg</th>\n",
       "      <td>4184</td>\n",
       "      <td>777</td>\n",
       "    </tr>\n",
       "    <tr>\n",
       "      <th>pos</th>\n",
       "      <td>1116</td>\n",
       "      <td>3923</td>\n",
       "    </tr>\n",
       "  </tbody>\n",
       "</table>\n",
       "</div>"
      ],
      "text/plain": [
       "      neg   pos\n",
       "neg  4184   777\n",
       "pos  1116  3923"
      ]
     },
     "execution_count": 107,
     "metadata": {},
     "output_type": "execute_result"
    }
   ],
   "source": [
    "performance_plots(conv1d, X_test, y_test, history, nepochs)\n",
    "confusion_matrix(conv1d, X_test, y_test)"
   ]
  },
  {
   "cell_type": "markdown",
   "metadata": {},
   "source": [
    "## Report with your Findings"
   ]
  },
  {
   "cell_type": "markdown",
   "metadata": {},
   "source": [
    "We compared Stacked LSTM, Stacked GRU and stacked Conv1D models here. Interestingly, the LSTM and GRU models seem to be approximately equivalent in regard to test accuracy. However the Conv1D model may suffer from too large overfitting as seen in the plot of the loss function."
   ]
  }
 ],
 "metadata": {
  "kernelspec": {
   "display_name": "Python 3",
   "language": "python",
   "name": "python3"
  },
  "language_info": {
   "codemirror_mode": {
    "name": "ipython",
    "version": 3
   },
   "file_extension": ".py",
   "mimetype": "text/x-python",
   "name": "python",
   "nbconvert_exporter": "python",
   "pygments_lexer": "ipython3",
   "version": "3.6.8"
  }
 },
 "nbformat": 4,
 "nbformat_minor": 4
}
